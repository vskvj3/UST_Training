{
 "cells": [
  {
   "cell_type": "code",
   "execution_count": 2,
   "id": "25240487-8d27-4301-b7bd-57bd69816218",
   "metadata": {},
   "outputs": [
    {
     "name": "stdout",
     "output_type": "stream",
     "text": [
      "Collecting pymongo\n",
      "  Downloading pymongo-4.8.0-cp312-cp312-win_amd64.whl.metadata (22 kB)\n",
      "Collecting dnspython<3.0.0,>=1.16.0 (from pymongo)\n",
      "  Downloading dnspython-2.6.1-py3-none-any.whl.metadata (5.8 kB)\n",
      "Downloading pymongo-4.8.0-cp312-cp312-win_amd64.whl (680 kB)\n",
      "   ---------------------------------------- 0.0/680.4 kB ? eta -:--:--\n",
      "   ------------ --------------------------- 204.8/680.4 kB 6.1 MB/s eta 0:00:01\n",
      "   ------------------------------------- -- 634.9/680.4 kB 7.9 MB/s eta 0:00:01\n",
      "   ---------------------------------------- 680.4/680.4 kB 7.1 MB/s eta 0:00:00\n",
      "Downloading dnspython-2.6.1-py3-none-any.whl (307 kB)\n",
      "   ---------------------------------------- 0.0/307.7 kB ? eta -:--:--\n",
      "   ---------------------------------------- 307.7/307.7 kB 9.6 MB/s eta 0:00:00\n",
      "Installing collected packages: dnspython, pymongo\n",
      "Successfully installed dnspython-2.6.1 pymongo-4.8.0\n"
     ]
    }
   ],
   "source": [
    "# import pymongo\n",
    "!pip install pymongo"
   ]
  },
  {
   "cell_type": "code",
   "execution_count": 3,
   "id": "1a7021bc-4ed5-4ccc-9741-504aa0da4d6c",
   "metadata": {},
   "outputs": [],
   "source": [
    "import pymongo"
   ]
  },
  {
   "cell_type": "markdown",
   "id": "03e7a0e3-052c-441b-98a3-a748e2d21046",
   "metadata": {},
   "source": [
    "#### Connect to mongo NoSQL Database"
   ]
  },
  {
   "cell_type": "code",
   "execution_count": 7,
   "id": "e7403520-8778-4e6a-998d-b5b7746dbd71",
   "metadata": {},
   "outputs": [
    {
     "name": "stdout",
     "output_type": "stream",
     "text": [
      "MongoClient(host=['localhost:27017'], document_class=dict, tz_aware=False, connect=True)\n"
     ]
    }
   ],
   "source": [
    "client = pymongo.MongoClient(\"localhost:27017\")\n",
    "print(client)"
   ]
  },
  {
   "cell_type": "code",
   "execution_count": 8,
   "id": "5a13bcab-6a48-4d71-be47-5e06be7d7164",
   "metadata": {},
   "outputs": [],
   "source": [
    "db = client['pymongo_db']\n",
    "collection = db['testcollection']"
   ]
  },
  {
   "cell_type": "code",
   "execution_count": 13,
   "id": "961def1e-8529-4a8b-9905-80ea8bd499b8",
   "metadata": {},
   "outputs": [],
   "source": [
    "document_1 =  {\n",
    "    \"product_id\": \"003\",\n",
    "    \"name\": \"Smartphone Pro X\",\n",
    "    \"category\": \"Electronics\",\n",
    "    \"price\": 999.99,\n",
    "    \"brand\": \"Apple\",\n",
    "    \"stock_quantity\": 60,\n",
    "    \"rating\": 4.1,\n",
    "    \"colors\": [\"Black\", \"Silver\", \"Gold\"],\n",
    "    \"storage_options\": [\"128GB\", \"256GB\", \"512GB\"]\n",
    "  }"
   ]
  },
  {
   "cell_type": "code",
   "execution_count": 15,
   "id": "bcd74f07-de69-4a1d-a637-3649d8f498f4",
   "metadata": {},
   "outputs": [],
   "source": [
    "documents = [\n",
    "  {\n",
    "    \"product_id\": \"001\",\n",
    "    \"name\": \"Smartphone Pro X\",\n",
    "    \"category\": \"Electronics\",\n",
    "    \"price\": 999.99,\n",
    "    \"brand\": \"Apple\",\n",
    "    \"stock_quantity\": 60,\n",
    "    \"rating\": 4.1,\n",
    "    \"colors\": [\"Black\", \"Silver\", \"Gold\"],\n",
    "    \"storage_options\": [\"128GB\", \"256GB\", \"512GB\"]\n",
    "  },\n",
    "  {\n",
    "    \"product_id\": \"002\",\n",
    "    \"name\": \"UltraBook 15\",\n",
    "    \"category\": \"Electronics\",\n",
    "    \"price\": 1399.99,\n",
    "    \"brand\": \"Dell\",\n",
    "    \"stock_quantity\": 45,\n",
    "    \"rating\": 4.5,\n",
    "    \"colors\": [\"Silver\", \"Space Gray\"],\n",
    "    \"storage_options\": [\"256GB\", \"512GB\", \"1TB\"]\n",
    "  },\n",
    "  {\n",
    "    \"product_id\": \"003\",\n",
    "    \"name\": \"Wireless Earbuds Z\",\n",
    "    \"category\": \"Electronics\",\n",
    "    \"price\": 149.99,\n",
    "    \"brand\": \"Sony\",\n",
    "    \"stock_quantity\": 120,\n",
    "    \"rating\": 4.2,\n",
    "    \"colors\": [\"White\", \"Black\", \"Blue\"],\n",
    "    \"storage_options\": [\"N/A\"]\n",
    "  },\n",
    "  {\n",
    "    \"product_id\": \"004\",\n",
    "    \"name\": \"4K Ultra HD TV 55\\\"\",\n",
    "    \"category\": \"Electronics\",\n",
    "    \"price\": 799.99,\n",
    "    \"brand\": \"Samsung\",\n",
    "    \"stock_quantity\": 30,\n",
    "    \"rating\": 4.6,\n",
    "    \"colors\": [\"Black\", \"Silver\"],\n",
    "    \"storage_options\": [\"N/A\"]\n",
    "  },\n",
    "  {\n",
    "    \"product_id\": \"005\",\n",
    "    \"name\": \"Gaming Laptop RTX\",\n",
    "    \"category\": \"Electronics\",\n",
    "    \"price\": 1899.99,\n",
    "    \"brand\": \"Asus\",\n",
    "    \"stock_quantity\": 25,\n",
    "    \"rating\": 4.7,\n",
    "    \"colors\": [\"Dark Gray\", \"Black\"],\n",
    "    \"storage_options\": [\"512GB SSD\", \"1TB SSD\"]\n",
    "  },\n",
    "  {\n",
    "    \"product_id\": \"006\",\n",
    "    \"name\": \"Smartwatch Series 6\",\n",
    "    \"category\": \"Electronics\",\n",
    "    \"price\": 229.99,\n",
    "    \"brand\": \"Apple\",\n",
    "    \"stock_quantity\": 80,\n",
    "    \"rating\": 4.3,\n",
    "    \"colors\": [\"Rose Gold\", \"Black\", \"Silver\"],\n",
    "    \"storage_options\": [\"32GB\", \"64GB\"]\n",
    "  },\n",
    "  {\n",
    "    \"product_id\": \"007\",\n",
    "    \"name\": \"Bluetooth Speaker XL\",\n",
    "    \"category\": \"Electronics\",\n",
    "    \"price\": 119.99,\n",
    "    \"brand\": \"JBL\",\n",
    "    \"stock_quantity\": 90,\n",
    "    \"rating\": 4.4,\n",
    "    \"colors\": [\"Blue\", \"Red\", \"Black\"],\n",
    "    \"storage_options\": [\"N/A\"]\n",
    "  },\n",
    "  {\n",
    "    \"product_id\": \"008\",\n",
    "    \"name\": \"Tablet Pro 12.9\\\"\",\n",
    "    \"category\": \"Electronics\",\n",
    "    \"price\": 749.99,\n",
    "    \"brand\": \"Apple\",\n",
    "    \"stock_quantity\": 50,\n",
    "    \"rating\": 4.5,\n",
    "    \"colors\": [\"Space Gray\", \"Silver\"],\n",
    "    \"storage_options\": [\"128GB\", \"256GB\"]\n",
    "  },\n",
    "  {\n",
    "    \"product_id\": \"009\",\n",
    "    \"name\": \"Digital Camera 20MP\",\n",
    "    \"category\": \"Electronics\",\n",
    "    \"price\": 599.99,\n",
    "    \"brand\": \"Canon\",\n",
    "    \"stock_quantity\": 35,\n",
    "    \"rating\": 4.0,\n",
    "    \"colors\": [\"Black\", \"Silver\"],\n",
    "    \"storage_options\": [\"32GB\", \"64GB\", \"128GB\"]\n",
    "  },\n",
    "  {\n",
    "    \"product_id\": \"010\",\n",
    "    \"name\": \"Smart Home Hub\",\n",
    "    \"category\": \"Electronics\",\n",
    "    \"price\": 89.99,\n",
    "    \"brand\": \"Google\",\n",
    "    \"stock_quantity\": 70,\n",
    "    \"rating\": 4.3,\n",
    "    \"colors\": [\"Charcoal\", \"White\"],\n",
    "    \"storage_options\": [\"N/A\"]\n",
    "  }\n",
    "]"
   ]
  },
  {
   "cell_type": "code",
   "execution_count": 14,
   "id": "679303ad-8129-4369-a515-5f5e00b4e3b3",
   "metadata": {},
   "outputs": [
    {
     "data": {
      "text/plain": [
       "InsertOneResult(ObjectId('66c43d617369780b94f91f20'), acknowledged=True)"
      ]
     },
     "execution_count": 14,
     "metadata": {},
     "output_type": "execute_result"
    }
   ],
   "source": [
    "collection.insert_one(document_1)"
   ]
  },
  {
   "cell_type": "code",
   "execution_count": 16,
   "id": "bde07e00-2597-44f2-87e1-8d47826713df",
   "metadata": {},
   "outputs": [
    {
     "data": {
      "text/plain": [
       "InsertManyResult([ObjectId('66c43dc17369780b94f91f21'), ObjectId('66c43dc17369780b94f91f22'), ObjectId('66c43dc17369780b94f91f23'), ObjectId('66c43dc17369780b94f91f24'), ObjectId('66c43dc17369780b94f91f25'), ObjectId('66c43dc17369780b94f91f26'), ObjectId('66c43dc17369780b94f91f27'), ObjectId('66c43dc17369780b94f91f28'), ObjectId('66c43dc17369780b94f91f29'), ObjectId('66c43dc17369780b94f91f2a')], acknowledged=True)"
      ]
     },
     "execution_count": 16,
     "metadata": {},
     "output_type": "execute_result"
    }
   ],
   "source": [
    "collection.insert_many(documents)"
   ]
  },
  {
   "cell_type": "code",
   "execution_count": 20,
   "id": "eb1e2e67-5666-421e-8bc4-6beb48b63b06",
   "metadata": {},
   "outputs": [
    {
     "data": {
      "text/plain": [
       "{'_id': ObjectId('66c43d617369780b94f91f20'),\n",
       " 'product_id': '003',\n",
       " 'name': 'Smartphone Pro X',\n",
       " 'category': 'Electronics',\n",
       " 'price': 999.99,\n",
       " 'brand': 'Apple',\n",
       " 'stock_quantity': 60,\n",
       " 'rating': 4.1,\n",
       " 'colors': ['Black', 'Silver', 'Gold'],\n",
       " 'storage_options': ['128GB', '256GB', '512GB']}"
      ]
     },
     "execution_count": 20,
     "metadata": {},
     "output_type": "execute_result"
    }
   ],
   "source": [
    "collection.find_one() # Access first record"
   ]
  },
  {
   "cell_type": "code",
   "execution_count": 21,
   "id": "6830d930-1c79-4d77-878d-ce5bc7aff136",
   "metadata": {},
   "outputs": [
    {
     "data": {
      "text/plain": [
       "{'_id': ObjectId('66c43d617369780b94f91f20'),\n",
       " 'product_id': '003',\n",
       " 'name': 'Smartphone Pro X',\n",
       " 'category': 'Electronics',\n",
       " 'price': 999.99,\n",
       " 'brand': 'Apple',\n",
       " 'stock_quantity': 60,\n",
       " 'rating': 4.1,\n",
       " 'colors': ['Black', 'Silver', 'Gold'],\n",
       " 'storage_options': ['128GB', '256GB', '512GB']}"
      ]
     },
     "execution_count": 21,
     "metadata": {},
     "output_type": "execute_result"
    }
   ],
   "source": [
    "collection.find_one({\"product_id\": \"003\"}) # Access record using product id"
   ]
  },
  {
   "cell_type": "code",
   "execution_count": 48,
   "id": "52da983a-24c9-4d77-ba01-bd3fa9f9f4f6",
   "metadata": {},
   "outputs": [],
   "source": [
    "all_documents = collection.find()"
   ]
  },
  {
   "cell_type": "code",
   "execution_count": 50,
   "id": "8a975d82-ba41-4334-b485-e02369afb03c",
   "metadata": {},
   "outputs": [
    {
     "name": "stdout",
     "output_type": "stream",
     "text": [
      "{'_id': ObjectId('66c43dc17369780b94f91f21'), 'product_id': '001', 'name': 'Smartphone Pro X', 'category': 'Electronics', 'price': 999.99, 'brand': 'Apple', 'stock_quantity': 60, 'rating': 4.1, 'colors': ['Black', 'Silver', 'Gold'], 'storage_options': ['128GB', '256GB', '512GB']}\n",
      "{'_id': ObjectId('66c43dc17369780b94f91f22'), 'product_id': '002', 'name': 'UltraBook 15', 'category': 'Electronics', 'price': 1399.99, 'brand': 'Dell', 'stock_quantity': 45, 'rating': 4.5, 'colors': ['Silver', 'Space Gray'], 'storage_options': ['256GB', '512GB', '1TB']}\n",
      "{'_id': ObjectId('66c43dc17369780b94f91f23'), 'product_id': '003', 'name': 'Wireless Earbuds Z', 'category': 'Electronics', 'price': 149.99, 'brand': 'Sony', 'stock_quantity': 120, 'rating': 4.2, 'colors': ['White', 'Black', 'Blue'], 'storage_options': ['N/A']}\n",
      "{'_id': ObjectId('66c43dc17369780b94f91f24'), 'product_id': '004', 'name': '4K Ultra HD TV 55\"', 'category': 'Electronics', 'price': 799.99, 'brand': 'Samsung', 'stock_quantity': 30, 'rating': 4.6, 'colors': ['Black', 'Silver'], 'storage_options': ['N/A']}\n",
      "{'_id': ObjectId('66c43dc17369780b94f91f25'), 'product_id': '005', 'name': 'Gaming Laptop RTX', 'category': 'Electronics', 'price': 1899.99, 'brand': 'Asus', 'stock_quantity': 25, 'rating': 4.7, 'colors': ['Dark Gray', 'Black'], 'storage_options': ['512GB SSD', '1TB SSD']}\n",
      "{'_id': ObjectId('66c43dc17369780b94f91f26'), 'product_id': '006', 'name': 'Smartwatch Series 6', 'category': 'Electronics', 'price': 229.99, 'brand': 'Apple', 'stock_quantity': 80, 'rating': 4.3, 'colors': ['Rose Gold', 'Black', 'Silver'], 'storage_options': ['32GB', '64GB']}\n",
      "{'_id': ObjectId('66c43dc17369780b94f91f27'), 'product_id': '007', 'name': 'Bluetooth Speaker XL', 'category': 'Electronics', 'price': 119.99, 'brand': 'JBL', 'stock_quantity': 90, 'rating': 4.4, 'colors': ['Blue', 'Red', 'Black'], 'storage_options': ['N/A']}\n",
      "{'_id': ObjectId('66c43dc17369780b94f91f28'), 'product_id': '008', 'name': 'Tablet Pro 12.9\"', 'category': 'Electronics', 'price': 749.99, 'brand': 'Apple', 'stock_quantity': 50, 'rating': 4.5, 'colors': ['Space Gray', 'Silver'], 'storage_options': ['128GB', '256GB']}\n",
      "{'_id': ObjectId('66c43dc17369780b94f91f29'), 'product_id': '009', 'name': 'Digital Camera 20MP', 'category': 'Electronics', 'price': 599.99, 'brand': 'Canon', 'stock_quantity': 35, 'rating': 4.0, 'colors': ['Black', 'Silver'], 'storage_options': ['32GB', '64GB', '128GB']}\n",
      "{'_id': ObjectId('66c43dc17369780b94f91f2a'), 'product_id': '010', 'name': 'Smart Home Hub', 'category': 'Electronics', 'price': 89.99, 'brand': 'Google', 'stock_quantity': 70, 'rating': 4.3, 'colors': ['Charcoal', 'White'], 'storage_options': ['N/A']}\n"
     ]
    }
   ],
   "source": [
    "for doc in all_documents:\n",
    "    print(doc)"
   ]
  },
  {
   "cell_type": "markdown",
   "id": "e02f19c4-df92-4b45-a948-6f79ca290537",
   "metadata": {},
   "source": [
    "### Using main function"
   ]
  },
  {
   "cell_type": "code",
   "execution_count": 51,
   "id": "845a847e-aeb1-4dd8-b2b6-086cf7d8c572",
   "metadata": {},
   "outputs": [
    {
     "name": "stdout",
     "output_type": "stream",
     "text": [
      "{'_id': ObjectId('66c43dc17369780b94f91f21'), 'product_id': '001', 'name': 'Smartphone Pro X', 'category': 'Electronics', 'price': 999.99, 'brand': 'Apple', 'stock_quantity': 60, 'rating': 4.1, 'colors': ['Black', 'Silver', 'Gold'], 'storage_options': ['128GB', '256GB', '512GB']}\n",
      "{'_id': ObjectId('66c43dc17369780b94f91f22'), 'product_id': '002', 'name': 'UltraBook 15', 'category': 'Electronics', 'price': 1399.99, 'brand': 'Dell', 'stock_quantity': 45, 'rating': 4.5, 'colors': ['Silver', 'Space Gray'], 'storage_options': ['256GB', '512GB', '1TB']}\n",
      "{'_id': ObjectId('66c43dc17369780b94f91f23'), 'product_id': '003', 'name': 'Wireless Earbuds Z', 'category': 'Electronics', 'price': 149.99, 'brand': 'Sony', 'stock_quantity': 120, 'rating': 4.2, 'colors': ['White', 'Black', 'Blue'], 'storage_options': ['N/A']}\n",
      "{'_id': ObjectId('66c43dc17369780b94f91f24'), 'product_id': '004', 'name': '4K Ultra HD TV 55\"', 'category': 'Electronics', 'price': 799.99, 'brand': 'Samsung', 'stock_quantity': 30, 'rating': 4.6, 'colors': ['Black', 'Silver'], 'storage_options': ['N/A']}\n",
      "{'_id': ObjectId('66c43dc17369780b94f91f25'), 'product_id': '005', 'name': 'Gaming Laptop RTX', 'category': 'Electronics', 'price': 1899.99, 'brand': 'Asus', 'stock_quantity': 25, 'rating': 4.7, 'colors': ['Dark Gray', 'Black'], 'storage_options': ['512GB SSD', '1TB SSD']}\n",
      "{'_id': ObjectId('66c43dc17369780b94f91f26'), 'product_id': '006', 'name': 'Smartwatch Series 6', 'category': 'Electronics', 'price': 229.99, 'brand': 'Apple', 'stock_quantity': 80, 'rating': 4.3, 'colors': ['Rose Gold', 'Black', 'Silver'], 'storage_options': ['32GB', '64GB']}\n",
      "{'_id': ObjectId('66c43dc17369780b94f91f27'), 'product_id': '007', 'name': 'Bluetooth Speaker XL', 'category': 'Electronics', 'price': 119.99, 'brand': 'JBL', 'stock_quantity': 90, 'rating': 4.4, 'colors': ['Blue', 'Red', 'Black'], 'storage_options': ['N/A']}\n",
      "{'_id': ObjectId('66c43dc17369780b94f91f28'), 'product_id': '008', 'name': 'Tablet Pro 12.9\"', 'category': 'Electronics', 'price': 749.99, 'brand': 'Apple', 'stock_quantity': 50, 'rating': 4.5, 'colors': ['Space Gray', 'Silver'], 'storage_options': ['128GB', '256GB']}\n",
      "{'_id': ObjectId('66c43dc17369780b94f91f29'), 'product_id': '009', 'name': 'Digital Camera 20MP', 'category': 'Electronics', 'price': 599.99, 'brand': 'Canon', 'stock_quantity': 35, 'rating': 4.0, 'colors': ['Black', 'Silver'], 'storage_options': ['32GB', '64GB', '128GB']}\n",
      "{'_id': ObjectId('66c43dc17369780b94f91f2a'), 'product_id': '010', 'name': 'Smart Home Hub', 'category': 'Electronics', 'price': 89.99, 'brand': 'Google', 'stock_quantity': 70, 'rating': 4.3, 'colors': ['Charcoal', 'White'], 'storage_options': ['N/A']}\n"
     ]
    }
   ],
   "source": [
    "def main():\n",
    "    client = pymongo.MongoClient(\"localhost:27017\")\n",
    "    db = client['pymongo_db']\n",
    "    try:\n",
    "        db.testcollection.drop()\n",
    "    except Exception as e:\n",
    "        print(e)\n",
    "    collection = db['testcollection']\n",
    "    collection.insert_many(documents)\n",
    "\n",
    "    all_docs = collection.find()\n",
    "\n",
    "    for item in all_docs:\n",
    "        print(item)\n",
    "    \n",
    "if __name__ == \"__main__\":\n",
    "    main()\n"
   ]
  },
  {
   "cell_type": "code",
   "execution_count": 53,
   "id": "95aede8f-ed3f-48d9-a5a7-f50bc78b6817",
   "metadata": {},
   "outputs": [
    {
     "data": {
      "text/plain": [
       "['admin', 'config', 'ecommerce', 'local', 'pymongo_db', 'restaurants', 'sales']"
      ]
     },
     "execution_count": 53,
     "metadata": {},
     "output_type": "execute_result"
    }
   ],
   "source": [
    "client.list_database_names()"
   ]
  },
  {
   "cell_type": "code",
   "execution_count": 57,
   "id": "008d3546-537e-4ad2-b36e-277737fbd160",
   "metadata": {},
   "outputs": [
    {
     "data": {
      "text/plain": [
       "['testcollection_1', 'testcollection_2', 'testcollection']"
      ]
     },
     "execution_count": 57,
     "metadata": {},
     "output_type": "execute_result"
    }
   ],
   "source": [
    "db.list_collection_names()"
   ]
  },
  {
   "cell_type": "code",
   "execution_count": 64,
   "id": "4b1776d7-d65b-46d4-93ff-62680a8cdcbf",
   "metadata": {},
   "outputs": [
    {
     "name": "stdout",
     "output_type": "stream",
     "text": [
      "['4K Ultra HD TV 55\"', 'Bluetooth Speaker XL', 'Digital Camera 20MP', 'Gaming Laptop RTX', 'Smart Home Hub', 'Smartphone Pro X', 'Smartwatch Series 6', 'Tablet Pro 12.9\"', 'UltraBook 15', 'Wireless Earbuds Z']\n"
     ]
    }
   ],
   "source": [
    "# collect distinc values from collection of documents.\n",
    "distinct_products = collection.distinct(\"name\")\n",
    "print(distinct_products)"
   ]
  },
  {
   "cell_type": "code",
   "execution_count": null,
   "id": "f2ea1b80-08c8-470e-9e11-7bc6b4458769",
   "metadata": {},
   "outputs": [],
   "source": []
  }
 ],
 "metadata": {
  "kernelspec": {
   "display_name": "Python 3 (ipykernel)",
   "language": "python",
   "name": "python3"
  },
  "language_info": {
   "codemirror_mode": {
    "name": "ipython",
    "version": 3
   },
   "file_extension": ".py",
   "mimetype": "text/x-python",
   "name": "python",
   "nbconvert_exporter": "python",
   "pygments_lexer": "ipython3",
   "version": "3.12.4"
  }
 },
 "nbformat": 4,
 "nbformat_minor": 5
}
