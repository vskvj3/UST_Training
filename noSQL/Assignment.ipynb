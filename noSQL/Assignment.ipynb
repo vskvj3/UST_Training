{
 "cells": [
  {
   "cell_type": "code",
   "execution_count": null,
   "id": "531a5d8e-2b71-4559-b40d-8b4100968780",
   "metadata": {},
   "outputs": [],
   "source": [
    "import pymongo"
   ]
  },
  {
   "cell_type": "code",
   "execution_count": null,
   "id": "0e6f2c7b-61e2-44c3-a6a5-ba5387d9c8fc",
   "metadata": {},
   "outputs": [],
   "source": [
    "client = pymongo.MongoClient(\"localhost:27017\")\n",
    "db = client['flightDB']\n",
    "collection = db['flightData']"
   ]
  },
  {
   "cell_type": "code",
   "execution_count": null,
   "id": "0a10d62b-2251-4e0b-b0be-30cd53609b84",
   "metadata": {},
   "outputs": [],
   "source": [
    "collection.find_one()"
   ]
  }
 ],
 "metadata": {
  "kernelspec": {
   "display_name": "Python 3 (ipykernel)",
   "language": "python",
   "name": "python3"
  },
  "language_info": {
   "codemirror_mode": {
    "name": "ipython",
    "version": 3
   },
   "file_extension": ".py",
   "mimetype": "text/x-python",
   "name": "python",
   "nbconvert_exporter": "python",
   "pygments_lexer": "ipython3",
   "version": "3.12.4"
  }
 },
 "nbformat": 4,
 "nbformat_minor": 5
}
