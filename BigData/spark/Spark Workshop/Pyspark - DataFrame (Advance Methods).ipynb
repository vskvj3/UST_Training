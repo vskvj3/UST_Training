{
 "cells": [
  {
   "cell_type": "code",
   "execution_count": 51,
   "id": "5435ee3f",
   "metadata": {},
   "outputs": [
    {
     "data": {
      "text/html": [
       "\n",
       "        <div>\n",
       "            <p><b>SparkContext</b></p>\n",
       "\n",
       "            <p><a href=\"http://10.0.2.15:4042\">Spark UI</a></p>\n",
       "\n",
       "            <dl>\n",
       "              <dt>Version</dt>\n",
       "                <dd><code>v2.4.8</code></dd>\n",
       "              <dt>Master</dt>\n",
       "                <dd><code>local[*]</code></dd>\n",
       "              <dt>AppName</dt>\n",
       "                <dd><code>PySparkShell</code></dd>\n",
       "            </dl>\n",
       "        </div>\n",
       "        "
      ],
      "text/plain": [
       "<SparkContext master=local[*] appName=PySparkShell>"
      ]
     },
     "execution_count": 51,
     "metadata": {},
     "output_type": "execute_result"
    }
   ],
   "source": [
    "sc"
   ]
  },
  {
   "cell_type": "code",
   "execution_count": 52,
   "id": "03dc27a5",
   "metadata": {},
   "outputs": [
    {
     "data": {
      "text/html": [
       "\n",
       "            <div>\n",
       "                <p><b>SparkSession - hive</b></p>\n",
       "                \n",
       "        <div>\n",
       "            <p><b>SparkContext</b></p>\n",
       "\n",
       "            <p><a href=\"http://10.0.2.15:4042\">Spark UI</a></p>\n",
       "\n",
       "            <dl>\n",
       "              <dt>Version</dt>\n",
       "                <dd><code>v2.4.8</code></dd>\n",
       "              <dt>Master</dt>\n",
       "                <dd><code>local[*]</code></dd>\n",
       "              <dt>AppName</dt>\n",
       "                <dd><code>PySparkShell</code></dd>\n",
       "            </dl>\n",
       "        </div>\n",
       "        \n",
       "            </div>\n",
       "        "
      ],
      "text/plain": [
       "<pyspark.sql.session.SparkSession at 0x7f5f6525cb00>"
      ]
     },
     "execution_count": 52,
     "metadata": {},
     "output_type": "execute_result"
    }
   ],
   "source": [
    "spark"
   ]
  },
  {
   "cell_type": "code",
   "execution_count": 53,
   "id": "c72c8dc0",
   "metadata": {},
   "outputs": [],
   "source": [
    "people_df = spark.read.json(\"file:///home/hadoop/Downloads/People.json\")"
   ]
  },
  {
   "cell_type": "code",
   "execution_count": 54,
   "id": "9a106ff0",
   "metadata": {},
   "outputs": [
    {
     "name": "stdout",
     "output_type": "stream",
     "text": [
      "+---------+-----------+----------+------+---+---------+------+\n",
      "|     city|    country|first_name|gender| id|last_name|salary|\n",
      "+---------+-----------+----------+------+---+---------+------+\n",
      "|Mulyosari|  Indonesia|     Valma|Female|  1|     Sans|983107|\n",
      "|  Niihama|      Japan|     Paolo|  Male|  2|   Kiddie|649173|\n",
      "|Dū Qal‘ah|Afghanistan|    Miltie|  Male|  3| De Zuani|352898|\n",
      "|   Iberia|       Peru|    Jarrid|  Male|  4| Dalziell|170398|\n",
      "| La Ronge|     Canada| Reinaldos|  Male|  5|   Keeffe|440989|\n",
      "+---------+-----------+----------+------+---+---------+------+\n",
      "only showing top 5 rows\n",
      "\n"
     ]
    }
   ],
   "source": [
    "people_df.show(5)"
   ]
  },
  {
   "cell_type": "code",
   "execution_count": 55,
   "id": "0e8d5e87",
   "metadata": {},
   "outputs": [
    {
     "name": "stdout",
     "output_type": "stream",
     "text": [
      "root\n",
      " |-- city: string (nullable = true)\n",
      " |-- country: string (nullable = true)\n",
      " |-- first_name: string (nullable = true)\n",
      " |-- gender: string (nullable = true)\n",
      " |-- id: long (nullable = true)\n",
      " |-- last_name: string (nullable = true)\n",
      " |-- salary: long (nullable = true)\n",
      "\n"
     ]
    }
   ],
   "source": [
    "people_df.printSchema()"
   ]
  },
  {
   "cell_type": "markdown",
   "id": "fc4149ed",
   "metadata": {},
   "source": [
    "#### 1. create a user defined schema for fields of DataFrame"
   ]
  },
  {
   "cell_type": "code",
   "execution_count": 56,
   "id": "f2338bb8",
   "metadata": {},
   "outputs": [],
   "source": [
    "from pyspark.sql.functions import *\n",
    "from pyspark.sql.types import IntegerType, FloatType, StringType, StructType, StructField, LongType"
   ]
  },
  {
   "cell_type": "code",
   "execution_count": 57,
   "id": "0c9ad51c",
   "metadata": {},
   "outputs": [],
   "source": [
    "schema = StructType([\n",
    "    StructField(\"id\", IntegerType(), True),\n",
    "    StructField(\"first_name\", StringType(), True),\n",
    "    StructField(\"last_name\", StringType(), True),\n",
    "    StructField(\"gender\", StringType(), True),\n",
    "    StructField(\"salary\", LongType(), True),\n",
    "    StructField(\"city\", StringType(), True),\n",
    "    StructField(\"country\", StringType(), True),\n",
    "])"
   ]
  },
  {
   "cell_type": "code",
   "execution_count": 58,
   "id": "6622d6ba",
   "metadata": {},
   "outputs": [],
   "source": [
    "people_df = spark.read.schema(schema).json(\"file:///home/hadoop/Downloads/People.json\")"
   ]
  },
  {
   "cell_type": "code",
   "execution_count": 59,
   "id": "ea4d65c4",
   "metadata": {},
   "outputs": [
    {
     "name": "stdout",
     "output_type": "stream",
     "text": [
      "root\n",
      " |-- id: integer (nullable = true)\n",
      " |-- first_name: string (nullable = true)\n",
      " |-- last_name: string (nullable = true)\n",
      " |-- gender: string (nullable = true)\n",
      " |-- salary: long (nullable = true)\n",
      " |-- city: string (nullable = true)\n",
      " |-- country: string (nullable = true)\n",
      "\n"
     ]
    }
   ],
   "source": [
    "people_df.printSchema()"
   ]
  },
  {
   "cell_type": "code",
   "execution_count": 60,
   "id": "f155828b",
   "metadata": {},
   "outputs": [],
   "source": [
    "# creating new columns using existing columns\n",
    "# people_df.withColumn()"
   ]
  },
  {
   "cell_type": "code",
   "execution_count": 61,
   "id": "1ecee2de",
   "metadata": {},
   "outputs": [
    {
     "name": "stdout",
     "output_type": "stream",
     "text": [
      "+---+----------+---------+------+------+---------+-----------+\n",
      "| id|first_name|last_name|gender|salary|     city|    country|\n",
      "+---+----------+---------+------+------+---------+-----------+\n",
      "|  1|     Valma|     Sans|Female|983107|Mulyosari|  Indonesia|\n",
      "|  2|     Paolo|   Kiddie|  Male|649173|  Niihama|      Japan|\n",
      "|  3|    Miltie| De Zuani|  Male|352898|Dū Qal‘ah|Afghanistan|\n",
      "|  4|    Jarrid| Dalziell|  Male|170398|   Iberia|       Peru|\n",
      "|  5| Reinaldos|   Keeffe|  Male|440989| La Ronge|     Canada|\n",
      "+---+----------+---------+------+------+---------+-----------+\n",
      "only showing top 5 rows\n",
      "\n"
     ]
    }
   ],
   "source": [
    "people_df.show(5)"
   ]
  },
  {
   "cell_type": "code",
   "execution_count": 62,
   "id": "8e03343a",
   "metadata": {},
   "outputs": [
    {
     "name": "stdout",
     "output_type": "stream",
     "text": [
      "+---+-------+--------+-------+---+-------+--------+---------+-------+------------+----+-------+-----+-----+--------+--------+---+\n",
      "|age|balance|campaign|contact|day|default|duration|education|housing|         job|loan|marital|month|pdays|poutcome|previous|  y|\n",
      "+---+-------+--------+-------+---+-------+--------+---------+-------+------------+----+-------+-----+-----+--------+--------+---+\n",
      "| 58|   2143|       1|unknown|  5|     no|     261| tertiary|    yes|  management|  no|married|  may|   -1| unknown|       0| no|\n",
      "| 44|     29|       1|unknown|  5|     no|     151|secondary|    yes|  technician|  no| single|  may|   -1| unknown|       0| no|\n",
      "| 33|      2|       1|unknown|  5|     no|      76|secondary|    yes|entrepreneur| yes|married|  may|   -1| unknown|       0| no|\n",
      "| 47|   1506|       1|unknown|  5|     no|      92|  unknown|    yes| blue-collar|  no|married|  may|   -1| unknown|       0| no|\n",
      "| 33|      1|       1|unknown|  5|     no|     198|  unknown|     no|     unknown|  no| single|  may|   -1| unknown|       0| no|\n",
      "+---+-------+--------+-------+---+-------+--------+---------+-------+------------+----+-------+-----+-----+--------+--------+---+\n",
      "only showing top 5 rows\n",
      "\n"
     ]
    }
   ],
   "source": [
    "# if the input source json is a multiline json array we need to set multiLine=True\n",
    "bank_data = spark.read.json('file:///home/hadoop/Downloads/bank_edited.json', multiLine=True)\n",
    "bank_data.show(5)"
   ]
  },
  {
   "cell_type": "code",
   "execution_count": 63,
   "id": "f584764e",
   "metadata": {},
   "outputs": [
    {
     "name": "stdout",
     "output_type": "stream",
     "text": [
      "root\n",
      " |-- age: long (nullable = true)\n",
      " |-- balance: long (nullable = true)\n",
      " |-- campaign: long (nullable = true)\n",
      " |-- contact: string (nullable = true)\n",
      " |-- day: long (nullable = true)\n",
      " |-- default: string (nullable = true)\n",
      " |-- duration: long (nullable = true)\n",
      " |-- education: string (nullable = true)\n",
      " |-- housing: string (nullable = true)\n",
      " |-- job: string (nullable = true)\n",
      " |-- loan: string (nullable = true)\n",
      " |-- marital: string (nullable = true)\n",
      " |-- month: string (nullable = true)\n",
      " |-- pdays: long (nullable = true)\n",
      " |-- poutcome: string (nullable = true)\n",
      " |-- previous: long (nullable = true)\n",
      " |-- y: string (nullable = true)\n",
      "\n"
     ]
    }
   ],
   "source": [
    "bank_data.printSchema()"
   ]
  },
  {
   "cell_type": "code",
   "execution_count": null,
   "id": "06fdb421",
   "metadata": {},
   "outputs": [],
   "source": []
  },
  {
   "cell_type": "markdown",
   "id": "d24c4bec",
   "metadata": {},
   "source": [
    "#### 2. Typecasting any column"
   ]
  },
  {
   "cell_type": "code",
   "execution_count": 64,
   "id": "6174b65d",
   "metadata": {},
   "outputs": [
    {
     "data": {
      "text/plain": [
       "DataFrame[age: int, balance: bigint, campaign: bigint, contact: string, day: bigint, default: string, duration: bigint, education: string, housing: string, job: string, loan: string, marital: string, month: string, pdays: bigint, poutcome: string, previous: bigint, y: string]"
      ]
     },
     "execution_count": 64,
     "metadata": {},
     "output_type": "execute_result"
    }
   ],
   "source": [
    "# any column wise tranformations can be done using withColumn\n",
    "# casting age as integer using IntegerType()\n",
    "\n",
    "bank_data.withColumn('age', col('age').cast(IntegerType()))"
   ]
  },
  {
   "cell_type": "markdown",
   "id": "a8da00cf",
   "metadata": {},
   "source": [
    "#### 3. creating new column from existing two strings"
   ]
  },
  {
   "cell_type": "code",
   "execution_count": 65,
   "id": "b8186ad1",
   "metadata": {},
   "outputs": [
    {
     "name": "stdout",
     "output_type": "stream",
     "text": [
      "+---+----------+---------+------+------+---------+-----------+----------------+\n",
      "| id|first_name|last_name|gender|salary|     city|    country|       full_name|\n",
      "+---+----------+---------+------+------+---------+-----------+----------------+\n",
      "|  1|     Valma|     Sans|Female|983107|Mulyosari|  Indonesia|      Valma Sans|\n",
      "|  2|     Paolo|   Kiddie|  Male|649173|  Niihama|      Japan|    Paolo Kiddie|\n",
      "|  3|    Miltie| De Zuani|  Male|352898|Dū Qal‘ah|Afghanistan| Miltie De Zuani|\n",
      "|  4|    Jarrid| Dalziell|  Male|170398|   Iberia|       Peru| Jarrid Dalziell|\n",
      "|  5| Reinaldos|   Keeffe|  Male|440989| La Ronge|     Canada|Reinaldos Keeffe|\n",
      "+---+----------+---------+------+------+---------+-----------+----------------+\n",
      "only showing top 5 rows\n",
      "\n"
     ]
    }
   ],
   "source": [
    "from pyspark.sql.functions import concat\n",
    "\n",
    "people_df.withColumn('full_name', concat(col('first_name'), lit(' ') ,  col('last_name'))).show(5)"
   ]
  },
  {
   "cell_type": "markdown",
   "id": "45374351",
   "metadata": {},
   "source": [
    "#### 4. Renaming existing column"
   ]
  },
  {
   "cell_type": "code",
   "execution_count": 66,
   "id": "8c32d441",
   "metadata": {},
   "outputs": [
    {
     "name": "stdout",
     "output_type": "stream",
     "text": [
      "+---+----------+---------+------+------+---------+-----------+\n",
      "| id|first_name|last_name|gender|income|     city|    country|\n",
      "+---+----------+---------+------+------+---------+-----------+\n",
      "|  1|     Valma|     Sans|Female|983107|Mulyosari|  Indonesia|\n",
      "|  2|     Paolo|   Kiddie|  Male|649173|  Niihama|      Japan|\n",
      "|  3|    Miltie| De Zuani|  Male|352898|Dū Qal‘ah|Afghanistan|\n",
      "|  4|    Jarrid| Dalziell|  Male|170398|   Iberia|       Peru|\n",
      "|  5| Reinaldos|   Keeffe|  Male|440989| La Ronge|     Canada|\n",
      "+---+----------+---------+------+------+---------+-----------+\n",
      "only showing top 5 rows\n",
      "\n"
     ]
    }
   ],
   "source": [
    "people_df = people_df.withColumnRenamed('salary', 'income')\n",
    "people_df.show(5)"
   ]
  },
  {
   "cell_type": "markdown",
   "id": "45e8e4de",
   "metadata": {},
   "source": [
    "#### 5. limit()"
   ]
  },
  {
   "cell_type": "code",
   "execution_count": 67,
   "id": "c0212f0f",
   "metadata": {},
   "outputs": [
    {
     "name": "stdout",
     "output_type": "stream",
     "text": [
      "+---+----------+---------+------+------+---------+-----------+\n",
      "| id|first_name|last_name|gender|income|     city|    country|\n",
      "+---+----------+---------+------+------+---------+-----------+\n",
      "|  1|     Valma|     Sans|Female|983107|Mulyosari|  Indonesia|\n",
      "|  2|     Paolo|   Kiddie|  Male|649173|  Niihama|      Japan|\n",
      "|  3|    Miltie| De Zuani|  Male|352898|Dū Qal‘ah|Afghanistan|\n",
      "|  4|    Jarrid| Dalziell|  Male|170398|   Iberia|       Peru|\n",
      "|  5| Reinaldos|   Keeffe|  Male|440989| La Ronge|     Canada|\n",
      "+---+----------+---------+------+------+---------+-----------+\n",
      "\n"
     ]
    }
   ],
   "source": [
    "people_df.limit(5).show()"
   ]
  },
  {
   "cell_type": "markdown",
   "id": "20cbe885",
   "metadata": {},
   "source": [
    "#### 6. orderBy():\n",
    "- arrange data in ascending and descensing order"
   ]
  },
  {
   "cell_type": "code",
   "execution_count": 68,
   "id": "0115ce4f",
   "metadata": {},
   "outputs": [
    {
     "name": "stdout",
     "output_type": "stream",
     "text": [
      "+---+----------+---------+------+------+------------+---------+\n",
      "| id|first_name|last_name|gender|income|        city|  country|\n",
      "+---+----------+---------+------+------+------------+---------+\n",
      "| 93|      Cory|    Prigg|  Male| 12876|     Gondang|Indonesia|\n",
      "|590|      Flem| Tumielli|  Male| 13347| Debre Zeyit| Ethiopia|\n",
      "|192|       Odo|  Conyers|  Male| 15555|  Raffingora| Zimbabwe|\n",
      "|407|  Barbabas|Ballingal|  Male| 18598|Beringinjaya|Indonesia|\n",
      "|297|     Daron|   Melato|Female| 19881|      Phayao| Thailand|\n",
      "+---+----------+---------+------+------+------------+---------+\n",
      "only showing top 5 rows\n",
      "\n"
     ]
    }
   ],
   "source": [
    "people_df.orderBy(['income'], asc=True).show(5)"
   ]
  },
  {
   "cell_type": "code",
   "execution_count": 69,
   "id": "06efb6a3",
   "metadata": {},
   "outputs": [
    {
     "name": "stdout",
     "output_type": "stream",
     "text": [
      "+---+----------+------------+------+------+------------------+--------------+\n",
      "| id|first_name|   last_name|gender|income|              city|       country|\n",
      "+---+----------+------------+------+------+------------------+--------------+\n",
      "|490|  Cathlene|    Gatfield|Female|981605|           Mīrābād|   Afghanistan|\n",
      "|448|      Yuri|     Duggary|  Male|414107|     Sang-e Māshah|   Afghanistan|\n",
      "|  3|    Miltie|    De Zuani|  Male|352898|         Dū Qal‘ah|   Afghanistan|\n",
      "|155|    Guntar|    Langmuir|  Male|290613|             Khōst|   Afghanistan|\n",
      "|983|      Tiff|     Dreakin|Female|208548|             Āsmār|   Afghanistan|\n",
      "|290|     Myles|      Britch|  Male|191508|         Dū Laīnah|   Afghanistan|\n",
      "|419|   Ezekiel|   Fleetwood|  Male|163113|      Barakī Barak|   Afghanistan|\n",
      "|701|    Gerrie|      Heigho|  Male|503327|             Föglö| Aland Islands|\n",
      "|674|    Ludwig|    Bothwell|  Male|825171|         Martanesh|       Albania|\n",
      "|421|    Hamnet|     Maruska|  Male|129628|           Hoçisht|       Albania|\n",
      "|299|     Mordy|      Enrich|  Male|543696|          Fagatogo|American Samoa|\n",
      "|335|     Golda|     Tesimon|Female|953260|              Uíge|        Angola|\n",
      "| 98|     Gates|        Cars|Female|866673|              Luau|        Angola|\n",
      "|872|     Rycca|       Maund|Female|987858|              Azul|     Argentina|\n",
      "|587|      Cord|      Tuplin|  Male|962743|             Allen|     Argentina|\n",
      "|707|Hyacinthie|    Robjents|Female|942563| Villa Ojo de Agua|     Argentina|\n",
      "|285|     Meara|       Musla|Female|915901|            Zapala|     Argentina|\n",
      "|359|     Patsy|    Dodgshon|  Male|855456|Villa Constitución|     Argentina|\n",
      "|296|      Anya|   Trowsdall|Female|842606|   28 de Noviembre|     Argentina|\n",
      "|794|     Alain|Barrowclough|  Male|675649|         Concordia|     Argentina|\n",
      "+---+----------+------------+------+------+------------------+--------------+\n",
      "only showing top 20 rows\n",
      "\n"
     ]
    }
   ],
   "source": [
    "# First order by country name in ascending order,\n",
    "# and then within each country name, order by income in descending order\n",
    "\n",
    "people_df.orderBy(['country', 'income'], ascending=[True, False]).show()"
   ]
  },
  {
   "cell_type": "markdown",
   "id": "a2d7835f",
   "metadata": {},
   "source": [
    "#### Materialized View\n",
    "- createOrReplaceTempView()"
   ]
  },
  {
   "cell_type": "code",
   "execution_count": 82,
   "id": "6a1375ac",
   "metadata": {},
   "outputs": [],
   "source": [
    "bank_data.createOrReplaceTempView('bankdata')"
   ]
  },
  {
   "cell_type": "code",
   "execution_count": 84,
   "id": "ca1907c3",
   "metadata": {},
   "outputs": [
    {
     "name": "stdout",
     "output_type": "stream",
     "text": [
      "+---+-------+--------+-------+---+-------+--------+---------+-------+------------+----+-------+-----+-----+--------+--------+---+\n",
      "|age|balance|campaign|contact|day|default|duration|education|housing|         job|loan|marital|month|pdays|poutcome|previous|  y|\n",
      "+---+-------+--------+-------+---+-------+--------+---------+-------+------------+----+-------+-----+-----+--------+--------+---+\n",
      "| 58|   2143|       1|unknown|  5|     no|     261| tertiary|    yes|  management|  no|married|  may|   -1| unknown|       0| no|\n",
      "| 44|     29|       1|unknown|  5|     no|     151|secondary|    yes|  technician|  no| single|  may|   -1| unknown|       0| no|\n",
      "| 33|      2|       1|unknown|  5|     no|      76|secondary|    yes|entrepreneur| yes|married|  may|   -1| unknown|       0| no|\n",
      "| 47|   1506|       1|unknown|  5|     no|      92|  unknown|    yes| blue-collar|  no|married|  may|   -1| unknown|       0| no|\n",
      "| 33|      1|       1|unknown|  5|     no|     198|  unknown|     no|     unknown|  no| single|  may|   -1| unknown|       0| no|\n",
      "+---+-------+--------+-------+---+-------+--------+---------+-------+------------+----+-------+-----+-----+--------+--------+---+\n",
      "only showing top 5 rows\n",
      "\n"
     ]
    }
   ],
   "source": [
    "spark.sql('select * from bankdata').show(5)"
   ]
  },
  {
   "cell_type": "code",
   "execution_count": 86,
   "id": "8d63337e",
   "metadata": {},
   "outputs": [
    {
     "name": "stdout",
     "output_type": "stream",
     "text": [
      "+--------+\n",
      "|count(1)|\n",
      "+--------+\n",
      "|   45211|\n",
      "+--------+\n",
      "\n"
     ]
    }
   ],
   "source": [
    "spark.sql('select count(*) from bankdata').show()"
   ]
  },
  {
   "cell_type": "code",
   "execution_count": 110,
   "id": "3aee1020",
   "metadata": {},
   "outputs": [
    {
     "name": "stdout",
     "output_type": "stream",
     "text": [
      "+---+------------+\n",
      "|age|max(balance)|\n",
      "+---+------------+\n",
      "| 18|        1944|\n",
      "| 19|        5368|\n",
      "| 20|        8860|\n",
      "| 21|        8278|\n",
      "| 22|       10971|\n",
      "| 23|       19690|\n",
      "| 24|       23878|\n",
      "| 25|       16874|\n",
      "| 26|       24299|\n",
      "| 27|       24025|\n",
      "+---+------------+\n",
      "only showing top 10 rows\n",
      "\n"
     ]
    }
   ],
   "source": [
    "#### Select top 10 youngest age group with highest salary\n",
    "spark.sql('select age, max(balance) from bankdata group by age order by age asc, max(balance) desc').show(10)"
   ]
  },
  {
   "cell_type": "code",
   "execution_count": 98,
   "id": "4443bd44",
   "metadata": {},
   "outputs": [
    {
     "name": "stdout",
     "output_type": "stream",
     "text": [
      "+---+-------+\n",
      "|age|balance|\n",
      "+---+-------+\n",
      "| 18|   1944|\n",
      "| 18|    608|\n",
      "| 18|    608|\n",
      "| 18|    438|\n",
      "| 18|    348|\n",
      "| 18|    156|\n",
      "| 18|    108|\n",
      "| 18|    108|\n",
      "| 18|    108|\n",
      "| 18|     35|\n",
      "+---+-------+\n",
      "only showing top 10 rows\n",
      "\n"
     ]
    }
   ],
   "source": [
    "#### Select top 10 youngest age group employees with highest salary\n",
    "spark.sql('select age, balance from bankdata order by age asc, balance desc').show(10)"
   ]
  },
  {
   "cell_type": "code",
   "execution_count": 99,
   "id": "6f909e37",
   "metadata": {},
   "outputs": [
    {
     "name": "stdout",
     "output_type": "stream",
     "text": [
      "+-----------+------------------+\n",
      "|        job|      avg(balance)|\n",
      "+-----------+------------------+\n",
      "|   services| 997.0881078478575|\n",
      "|blue-collar|1078.8266543362104|\n",
      "|     admin.| 1135.838909301876|\n",
      "| technician|1252.6320916151112|\n",
      "|    student|1388.0607675906183|\n",
      "+-----------+------------------+\n",
      "only showing top 5 rows\n",
      "\n"
     ]
    }
   ],
   "source": [
    "### show the worst 5 job type having minimum salary\n",
    "### using avg\n",
    "spark.sql('select job, avg(balance) from bankdata group by job order by avg(balance) asc').show(5)"
   ]
  },
  {
   "cell_type": "code",
   "execution_count": 108,
   "id": "ac3c7e61",
   "metadata": {},
   "outputs": [
    {
     "name": "stdout",
     "output_type": "stream",
     "text": [
      "+-------------+------------+\n",
      "|          job|min(balance)|\n",
      "+-------------+------------+\n",
      "|  blue-collar|       -8019|\n",
      "|   management|       -6847|\n",
      "|self-employed|       -3313|\n",
      "|   technician|       -2827|\n",
      "|     services|       -2122|\n",
      "+-------------+------------+\n",
      "only showing top 5 rows\n",
      "\n"
     ]
    }
   ],
   "source": [
    "### show the worst 5 job type having minimum salary\n",
    "### by min salary\n",
    "spark.sql('select job,min(balance) from bankdata group by job order by min(balance) asc').show(5)"
   ]
  },
  {
   "cell_type": "code",
   "execution_count": null,
   "id": "db3b60aa",
   "metadata": {},
   "outputs": [],
   "source": []
  }
 ],
 "metadata": {
  "kernelspec": {
   "display_name": "Python 3",
   "language": "python",
   "name": "python3"
  },
  "language_info": {
   "codemirror_mode": {
    "name": "ipython",
    "version": 3
   },
   "file_extension": ".py",
   "mimetype": "text/x-python",
   "name": "python",
   "nbconvert_exporter": "python",
   "pygments_lexer": "ipython3",
   "version": "3.6.9"
  }
 },
 "nbformat": 4,
 "nbformat_minor": 5
}
