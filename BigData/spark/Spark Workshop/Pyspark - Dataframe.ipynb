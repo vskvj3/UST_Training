{
 "cells": [
  {
   "cell_type": "code",
   "execution_count": 76,
   "id": "e7f6c483",
   "metadata": {},
   "outputs": [
    {
     "data": {
      "text/html": [
       "\n",
       "        <div>\n",
       "            <p><b>SparkContext</b></p>\n",
       "\n",
       "            <p><a href=\"http://10.0.2.15:4040\">Spark UI</a></p>\n",
       "\n",
       "            <dl>\n",
       "              <dt>Version</dt>\n",
       "                <dd><code>v2.4.8</code></dd>\n",
       "              <dt>Master</dt>\n",
       "                <dd><code>local[4]</code></dd>\n",
       "              <dt>AppName</dt>\n",
       "                <dd><code>PySpark Session</code></dd>\n",
       "            </dl>\n",
       "        </div>\n",
       "        "
      ],
      "text/plain": [
       "<SparkContext master=local[4] appName=PySpark Session>"
      ]
     },
     "execution_count": 76,
     "metadata": {},
     "output_type": "execute_result"
    }
   ],
   "source": [
    "sc"
   ]
  },
  {
   "cell_type": "code",
   "execution_count": 77,
   "id": "5d1f8d9c",
   "metadata": {},
   "outputs": [
    {
     "data": {
      "text/html": [
       "\n",
       "            <div>\n",
       "                <p><b>SparkSession - hive</b></p>\n",
       "                \n",
       "        <div>\n",
       "            <p><b>SparkContext</b></p>\n",
       "\n",
       "            <p><a href=\"http://10.0.2.15:4040\">Spark UI</a></p>\n",
       "\n",
       "            <dl>\n",
       "              <dt>Version</dt>\n",
       "                <dd><code>v2.4.8</code></dd>\n",
       "              <dt>Master</dt>\n",
       "                <dd><code>local[4]</code></dd>\n",
       "              <dt>AppName</dt>\n",
       "                <dd><code>PySpark Session</code></dd>\n",
       "            </dl>\n",
       "        </div>\n",
       "        \n",
       "            </div>\n",
       "        "
      ],
      "text/plain": [
       "<pyspark.sql.session.SparkSession at 0x7ff34b2c8ba8>"
      ]
     },
     "execution_count": 77,
     "metadata": {},
     "output_type": "execute_result"
    }
   ],
   "source": [
    "spark"
   ]
  },
  {
   "cell_type": "code",
   "execution_count": 78,
   "id": "a98f105b",
   "metadata": {},
   "outputs": [],
   "source": [
    "#1. create a new spark session instance"
   ]
  },
  {
   "cell_type": "code",
   "execution_count": 79,
   "id": "28bbc8d0",
   "metadata": {},
   "outputs": [],
   "source": [
    "sc.stop()\n",
    "from pyspark import SparkConf, SparkContext\n",
    "config = SparkConf().setMaster(\"local[4]\").setAppName(\"PySpark Session\")\n",
    "sc = SparkContext(conf=config)"
   ]
  },
  {
   "cell_type": "code",
   "execution_count": 80,
   "id": "691c8340",
   "metadata": {},
   "outputs": [],
   "source": [
    "from pyspark.sql import SparkSession\n",
    "spark = SparkSession.builder.appName(\"SQLSession\").getOrCreate()"
   ]
  },
  {
   "cell_type": "code",
   "execution_count": 81,
   "id": "377b5734",
   "metadata": {},
   "outputs": [
    {
     "data": {
      "text/html": [
       "\n",
       "        <div>\n",
       "            <p><b>SparkContext</b></p>\n",
       "\n",
       "            <p><a href=\"http://10.0.2.15:4040\">Spark UI</a></p>\n",
       "\n",
       "            <dl>\n",
       "              <dt>Version</dt>\n",
       "                <dd><code>v2.4.8</code></dd>\n",
       "              <dt>Master</dt>\n",
       "                <dd><code>local[4]</code></dd>\n",
       "              <dt>AppName</dt>\n",
       "                <dd><code>PySpark Session</code></dd>\n",
       "            </dl>\n",
       "        </div>\n",
       "        "
      ],
      "text/plain": [
       "<SparkContext master=local[4] appName=PySpark Session>"
      ]
     },
     "execution_count": 81,
     "metadata": {},
     "output_type": "execute_result"
    }
   ],
   "source": [
    "sc"
   ]
  },
  {
   "cell_type": "code",
   "execution_count": 82,
   "id": "557f3183",
   "metadata": {},
   "outputs": [
    {
     "data": {
      "text/html": [
       "\n",
       "            <div>\n",
       "                <p><b>SparkSession - hive</b></p>\n",
       "                \n",
       "        <div>\n",
       "            <p><b>SparkContext</b></p>\n",
       "\n",
       "            <p><a href=\"http://10.0.2.15:4040\">Spark UI</a></p>\n",
       "\n",
       "            <dl>\n",
       "              <dt>Version</dt>\n",
       "                <dd><code>v2.4.8</code></dd>\n",
       "              <dt>Master</dt>\n",
       "                <dd><code>local[4]</code></dd>\n",
       "              <dt>AppName</dt>\n",
       "                <dd><code>PySpark Session</code></dd>\n",
       "            </dl>\n",
       "        </div>\n",
       "        \n",
       "            </div>\n",
       "        "
      ],
      "text/plain": [
       "<pyspark.sql.session.SparkSession at 0x7ff34a0c2208>"
      ]
     },
     "execution_count": 82,
     "metadata": {},
     "output_type": "execute_result"
    }
   ],
   "source": [
    "spark"
   ]
  },
  {
   "cell_type": "code",
   "execution_count": 83,
   "id": "2232e4af",
   "metadata": {},
   "outputs": [
    {
     "name": "stdout",
     "output_type": "stream",
     "text": [
      "mkdir: `/flights': File exists\r\n"
     ]
    }
   ],
   "source": [
    "!hdfs dfs -mkdir /flights"
   ]
  },
  {
   "cell_type": "code",
   "execution_count": 84,
   "id": "cd87c75c",
   "metadata": {},
   "outputs": [
    {
     "name": "stdout",
     "output_type": "stream",
     "text": [
      "put: `/flights/raw_flight_data.csv': File exists\r\n"
     ]
    }
   ],
   "source": [
    "!hdfs dfs -put /home/hadoop/Downloads/raw_flight_data.csv /flights"
   ]
  },
  {
   "cell_type": "code",
   "execution_count": 85,
   "id": "c901a9c3",
   "metadata": {},
   "outputs": [],
   "source": [
    "flights_df = spark.read.csv('/flights/raw_flight_data.csv', \n",
    "                            header=True,\n",
    "                            inferSchema=True)"
   ]
  },
  {
   "cell_type": "code",
   "execution_count": 86,
   "id": "34c94b93",
   "metadata": {},
   "outputs": [
    {
     "data": {
      "text/plain": [
       "[Row(DayofMonth=19, DayOfWeek=5, Carrier='DL', OriginAirportID=11433, DestAirportID=13303, DepDelay=-3, ArrDelay=1),\n",
       " Row(DayofMonth=19, DayOfWeek=5, Carrier='DL', OriginAirportID=14869, DestAirportID=12478, DepDelay=0, ArrDelay=-8),\n",
       " Row(DayofMonth=19, DayOfWeek=5, Carrier='DL', OriginAirportID=14057, DestAirportID=14869, DepDelay=-4, ArrDelay=-15),\n",
       " Row(DayofMonth=19, DayOfWeek=5, Carrier='DL', OriginAirportID=15016, DestAirportID=11433, DepDelay=28, ArrDelay=24),\n",
       " Row(DayofMonth=19, DayOfWeek=5, Carrier='DL', OriginAirportID=11193, DestAirportID=12892, DepDelay=-6, ArrDelay=-11)]"
      ]
     },
     "execution_count": 86,
     "metadata": {},
     "output_type": "execute_result"
    }
   ],
   "source": [
    "flights_df.head(5)"
   ]
  },
  {
   "cell_type": "code",
   "execution_count": 87,
   "id": "b164e267",
   "metadata": {},
   "outputs": [
    {
     "name": "stdout",
     "output_type": "stream",
     "text": [
      "+----------+---------+-------+---------------+-------------+--------+--------+\n",
      "|DayofMonth|DayOfWeek|Carrier|OriginAirportID|DestAirportID|DepDelay|ArrDelay|\n",
      "+----------+---------+-------+---------------+-------------+--------+--------+\n",
      "|        19|        5|     DL|          11433|        13303|      -3|       1|\n",
      "|        19|        5|     DL|          14869|        12478|       0|      -8|\n",
      "|        19|        5|     DL|          14057|        14869|      -4|     -15|\n",
      "|        19|        5|     DL|          15016|        11433|      28|      24|\n",
      "|        19|        5|     DL|          11193|        12892|      -6|     -11|\n",
      "+----------+---------+-------+---------------+-------------+--------+--------+\n",
      "only showing top 5 rows\n",
      "\n"
     ]
    }
   ],
   "source": [
    "flights_df.show(5) # show data in tabular format"
   ]
  },
  {
   "cell_type": "markdown",
   "id": "9c1ac7bd",
   "metadata": {},
   "source": [
    "**select**\n",
    "- used to select specific column from the dataframe\n"
   ]
  },
  {
   "cell_type": "code",
   "execution_count": 88,
   "id": "5eee217c",
   "metadata": {},
   "outputs": [
    {
     "name": "stdout",
     "output_type": "stream",
     "text": [
      "+----------+-------+---------------+--------+\n",
      "|DayofMonth|Carrier|OriginAirportID|DepDelay|\n",
      "+----------+-------+---------------+--------+\n",
      "|        19|     DL|          11433|      -3|\n",
      "|        19|     DL|          14869|       0|\n",
      "|        19|     DL|          14057|      -4|\n",
      "|        19|     DL|          15016|      28|\n",
      "|        19|     DL|          11193|      -6|\n",
      "+----------+-------+---------------+--------+\n",
      "only showing top 5 rows\n",
      "\n"
     ]
    }
   ],
   "source": [
    "flights_df.select('DayofMonth', 'Carrier', 'OriginAirportID', 'DepDelay').show(5)"
   ]
  },
  {
   "cell_type": "code",
   "execution_count": 89,
   "id": "72b02293",
   "metadata": {},
   "outputs": [
    {
     "name": "stdout",
     "output_type": "stream",
     "text": [
      "+-------+\n",
      "|Carrier|\n",
      "+-------+\n",
      "|     UA|\n",
      "|     AA|\n",
      "|     EV|\n",
      "|     B6|\n",
      "|     DL|\n",
      "|     OO|\n",
      "|     F9|\n",
      "|     YV|\n",
      "|     US|\n",
      "|     MQ|\n",
      "|     HA|\n",
      "|     AS|\n",
      "|     FL|\n",
      "|     VX|\n",
      "|     WN|\n",
      "|     9E|\n",
      "+-------+\n",
      "\n"
     ]
    }
   ],
   "source": [
    "flights_df.select(['Carrier']).distinct().show()"
   ]
  },
  {
   "cell_type": "markdown",
   "id": "f780318b",
   "metadata": {},
   "source": [
    "**columns**\n",
    "- show list of all dataframe columns"
   ]
  },
  {
   "cell_type": "code",
   "execution_count": 90,
   "id": "70ac4b7c",
   "metadata": {},
   "outputs": [
    {
     "data": {
      "text/plain": [
       "['DayofMonth',\n",
       " 'DayOfWeek',\n",
       " 'Carrier',\n",
       " 'OriginAirportID',\n",
       " 'DestAirportID',\n",
       " 'DepDelay',\n",
       " 'ArrDelay']"
      ]
     },
     "execution_count": 90,
     "metadata": {},
     "output_type": "execute_result"
    }
   ],
   "source": [
    "flights_df.columns"
   ]
  },
  {
   "cell_type": "markdown",
   "id": "18df6c6f",
   "metadata": {},
   "source": [
    "2. Count:\n",
    "- aggregate method to show total number of values"
   ]
  },
  {
   "cell_type": "code",
   "execution_count": 91,
   "id": "5f7e844e",
   "metadata": {},
   "outputs": [
    {
     "data": {
      "text/plain": [
       "2719418"
      ]
     },
     "execution_count": 91,
     "metadata": {},
     "output_type": "execute_result"
    }
   ],
   "source": [
    "# print total number of rows\n",
    "flights_df.count()"
   ]
  },
  {
   "cell_type": "code",
   "execution_count": 92,
   "id": "a3a346de",
   "metadata": {},
   "outputs": [
    {
     "data": {
      "text/plain": [
       "16"
      ]
     },
     "execution_count": 92,
     "metadata": {},
     "output_type": "execute_result"
    }
   ],
   "source": [
    "# total number of disticts carriers\n",
    "flights_df.select(['Carrier']).distinct().count()"
   ]
  },
  {
   "cell_type": "markdown",
   "id": "06486776",
   "metadata": {},
   "source": [
    "3. printSchema()\n",
    "- method prints names and schema datatypes"
   ]
  },
  {
   "cell_type": "code",
   "execution_count": 93,
   "id": "7dc51261",
   "metadata": {},
   "outputs": [
    {
     "name": "stdout",
     "output_type": "stream",
     "text": [
      "root\n",
      " |-- DayofMonth: integer (nullable = true)\n",
      " |-- DayOfWeek: integer (nullable = true)\n",
      " |-- Carrier: string (nullable = true)\n",
      " |-- OriginAirportID: integer (nullable = true)\n",
      " |-- DestAirportID: integer (nullable = true)\n",
      " |-- DepDelay: integer (nullable = true)\n",
      " |-- ArrDelay: integer (nullable = true)\n",
      "\n"
     ]
    }
   ],
   "source": [
    "flights_df.printSchema()"
   ]
  },
  {
   "cell_type": "markdown",
   "id": "92206e49",
   "metadata": {},
   "source": [
    "4. where()\n",
    "- It is like filter method of resilient distributed dataset with boolean conditions and statements"
   ]
  },
  {
   "cell_type": "code",
   "execution_count": 94,
   "id": "f5553a6c",
   "metadata": {},
   "outputs": [
    {
     "name": "stdout",
     "output_type": "stream",
     "text": [
      "+----------+---------+-------+---------------+-------------+--------+--------+\n",
      "|DayofMonth|DayOfWeek|Carrier|OriginAirportID|DestAirportID|DepDelay|ArrDelay|\n",
      "+----------+---------+-------+---------------+-------------+--------+--------+\n",
      "|        19|        5|     DL|          15016|        11433|      28|      24|\n",
      "|        19|        5|     DL|          10397|        14869|      15|      24|\n",
      "|        19|        5|     DL|          10397|        10423|      33|      34|\n",
      "|        19|        5|     DL|          11278|        10397|     323|     322|\n",
      "|        19|        5|     DL|          11433|        11298|      22|      41|\n",
      "+----------+---------+-------+---------------+-------------+--------+--------+\n",
      "only showing top 5 rows\n",
      "\n"
     ]
    }
   ],
   "source": [
    "flights_df.where(flights_df.DepDelay > 0).show(5)"
   ]
  },
  {
   "cell_type": "code",
   "execution_count": 95,
   "id": "079a3687",
   "metadata": {},
   "outputs": [
    {
     "name": "stdout",
     "output_type": "stream",
     "text": [
      "+----------+---------+-------+---------------+-------------+--------+--------+\n",
      "|DayofMonth|DayOfWeek|Carrier|OriginAirportID|DestAirportID|DepDelay|ArrDelay|\n",
      "+----------+---------+-------+---------------+-------------+--------+--------+\n",
      "|        19|        5|     DL|          15016|        11433|      28|      24|\n",
      "|        19|        5|     DL|          10397|        14869|      15|      24|\n",
      "|        19|        5|     DL|          10397|        10423|      33|      34|\n",
      "|        19|        5|     DL|          11278|        10397|     323|     322|\n",
      "|        19|        5|     DL|          11433|        11298|      22|      41|\n",
      "+----------+---------+-------+---------------+-------------+--------+--------+\n",
      "only showing top 5 rows\n",
      "\n"
     ]
    }
   ],
   "source": [
    "flights_df.where((flights_df.DepDelay > 0) & (flights_df.ArrDelay > 0)).show(5)"
   ]
  },
  {
   "cell_type": "markdown",
   "id": "80197fde",
   "metadata": {},
   "source": [
    "5. filter()\n",
    "- same as where"
   ]
  },
  {
   "cell_type": "code",
   "execution_count": 96,
   "id": "344e4102",
   "metadata": {},
   "outputs": [
    {
     "name": "stdout",
     "output_type": "stream",
     "text": [
      "+----------+---------+-------+---------------+-------------+--------+--------+\n",
      "|DayofMonth|DayOfWeek|Carrier|OriginAirportID|DestAirportID|DepDelay|ArrDelay|\n",
      "+----------+---------+-------+---------------+-------------+--------+--------+\n",
      "|        19|        5|     DL|          15016|        11433|      28|      24|\n",
      "|        19|        5|     DL|          10397|        14869|      15|      24|\n",
      "|        19|        5|     DL|          10397|        10423|      33|      34|\n",
      "|        19|        5|     DL|          11278|        10397|     323|     322|\n",
      "|        19|        5|     DL|          11433|        11298|      22|      41|\n",
      "+----------+---------+-------+---------------+-------------+--------+--------+\n",
      "only showing top 5 rows\n",
      "\n"
     ]
    }
   ],
   "source": [
    "flights_df.filter((flights_df.DepDelay > 0) & (flights_df.ArrDelay > 0)).show(5)"
   ]
  },
  {
   "cell_type": "markdown",
   "id": "2ae2554f",
   "metadata": {},
   "source": [
    "6. isin()\n",
    "- filter values from dataframe by matching pattern"
   ]
  },
  {
   "cell_type": "code",
   "execution_count": 97,
   "id": "e98c3337",
   "metadata": {},
   "outputs": [
    {
     "data": {
      "text/plain": [
       "Column<b'(Carrier IN (DL, UA, 9E, F9))'>"
      ]
     },
     "execution_count": 97,
     "metadata": {},
     "output_type": "execute_result"
    }
   ],
   "source": [
    "flights_df.Carrier.isin('DL', 'UA', '9E', 'F9')"
   ]
  },
  {
   "cell_type": "code",
   "execution_count": 98,
   "id": "062444fa",
   "metadata": {},
   "outputs": [
    {
     "name": "stdout",
     "output_type": "stream",
     "text": [
      "+----------+---------+-------+---------------+-------------+--------+--------+\n",
      "|DayofMonth|DayOfWeek|Carrier|OriginAirportID|DestAirportID|DepDelay|ArrDelay|\n",
      "+----------+---------+-------+---------------+-------------+--------+--------+\n",
      "|        19|        5|     DL|          11433|        13303|      -3|       1|\n",
      "|        19|        5|     DL|          14869|        12478|       0|      -8|\n",
      "|        19|        5|     DL|          14057|        14869|      -4|     -15|\n",
      "|        19|        5|     DL|          15016|        11433|      28|      24|\n",
      "|        19|        5|     DL|          11193|        12892|      -6|     -11|\n",
      "|        19|        5|     DL|          10397|        15016|      -1|     -19|\n",
      "|        19|        5|     DL|          15016|        10397|       0|      -1|\n",
      "|        19|        5|     DL|          10397|        14869|      15|      24|\n",
      "|        19|        5|     DL|          10397|        10423|      33|      34|\n",
      "|        19|        5|     DL|          11278|        10397|     323|     322|\n",
      "|        19|        5|     DL|          14107|        13487|      -7|     -13|\n",
      "|        19|        5|     DL|          11433|        11298|      22|      41|\n",
      "|        19|        5|     DL|          11298|        11433|      40|      20|\n",
      "|        19|        5|     DL|          11433|        12892|      -2|      -7|\n",
      "|        19|        5|     DL|          10397|        12451|      71|      75|\n",
      "|        19|        5|     DL|          12451|        10397|      75|      57|\n",
      "|        19|        5|     DL|          12953|        10397|      -1|      10|\n",
      "|        19|        5|     DL|          11433|        12953|      -3|     -10|\n",
      "|        19|        5|     DL|          10397|        14771|      31|      38|\n",
      "|        19|        5|     DL|          13204|        10397|       8|      25|\n",
      "+----------+---------+-------+---------------+-------------+--------+--------+\n",
      "only showing top 20 rows\n",
      "\n"
     ]
    }
   ],
   "source": [
    "flights_df.where(flights_df.Carrier.isin('DL', 'UA', '9E', 'F9')).show()"
   ]
  },
  {
   "cell_type": "markdown",
   "id": "efe41eab",
   "metadata": {},
   "source": [
    "- Read airtposts.csv file as spark dataframe"
   ]
  },
  {
   "cell_type": "code",
   "execution_count": 99,
   "id": "4d22a555",
   "metadata": {},
   "outputs": [],
   "source": [
    "airports_df = spark.read.csv('file:///home/hadoop/Downloads/airports.csv', header = True, inferSchema=True)"
   ]
  },
  {
   "cell_type": "code",
   "execution_count": 100,
   "id": "d91acce7",
   "metadata": {},
   "outputs": [
    {
     "name": "stdout",
     "output_type": "stream",
     "text": [
      "+----------+-----------+-----+--------------------+\n",
      "|airport_id|       city|state|                name|\n",
      "+----------+-----------+-----+--------------------+\n",
      "|     10165|Adak Island|   AK|                Adak|\n",
      "|     10299|  Anchorage|   AK|Ted Stevens Ancho...|\n",
      "|     10304|      Aniak|   AK|       Aniak Airport|\n",
      "|     10754|     Barrow|   AK|Wiley Post/Will R...|\n",
      "|     10551|     Bethel|   AK|      Bethel Airport|\n",
      "+----------+-----------+-----+--------------------+\n",
      "only showing top 5 rows\n",
      "\n"
     ]
    }
   ],
   "source": [
    "airports_df.show(5)"
   ]
  },
  {
   "cell_type": "markdown",
   "id": "77e525fa",
   "metadata": {},
   "source": [
    "7. Join()\n",
    "- join  two or more dataframes using condition"
   ]
  },
  {
   "cell_type": "code",
   "execution_count": 101,
   "id": "963a5c42",
   "metadata": {},
   "outputs": [],
   "source": [
    "flights_airport_df = flights_df.join(airports_df, flights_df.OriginAirportID == airports_df.airport_id)"
   ]
  },
  {
   "cell_type": "code",
   "execution_count": 102,
   "id": "76762027",
   "metadata": {},
   "outputs": [
    {
     "name": "stdout",
     "output_type": "stream",
     "text": [
      "+----------+---------+-------+---------------+-------------+--------+--------+----------+--------------+-----+--------------------+\n",
      "|DayofMonth|DayOfWeek|Carrier|OriginAirportID|DestAirportID|DepDelay|ArrDelay|airport_id|          city|state|                name|\n",
      "+----------+---------+-------+---------------+-------------+--------+--------+----------+--------------+-----+--------------------+\n",
      "|        19|        5|     DL|          11433|        13303|      -3|       1|     11433|       Detroit|   MI|Detroit Metro Way...|\n",
      "|        19|        5|     DL|          14869|        12478|       0|      -8|     14869|Salt Lake City|   UT|Salt Lake City In...|\n",
      "|        19|        5|     DL|          14057|        14869|      -4|     -15|     14057|      Portland|   OR|Portland Internat...|\n",
      "|        19|        5|     DL|          15016|        11433|      28|      24|     15016|     St. Louis|   MO|Lambert-St. Louis...|\n",
      "|        19|        5|     DL|          11193|        12892|      -6|     -11|     11193|    Cincinnati|   OH|Cincinnati/Northe...|\n",
      "+----------+---------+-------+---------------+-------------+--------+--------+----------+--------------+-----+--------------------+\n",
      "only showing top 5 rows\n",
      "\n"
     ]
    }
   ],
   "source": [
    "flights_airport_df.show(5)"
   ]
  },
  {
   "cell_type": "code",
   "execution_count": 103,
   "id": "f57d2ba3",
   "metadata": {},
   "outputs": [],
   "source": [
    "flights_airport_df = flights_df.join(airports_df.select(['airport_id', 'name']), flights_df.OriginAirportID == airports_df.airport_id)"
   ]
  },
  {
   "cell_type": "code",
   "execution_count": 104,
   "id": "a1def388",
   "metadata": {},
   "outputs": [
    {
     "name": "stdout",
     "output_type": "stream",
     "text": [
      "+----------+---------+-------+---------------+-------------+--------+--------+----------+--------------------+\n",
      "|DayofMonth|DayOfWeek|Carrier|OriginAirportID|DestAirportID|DepDelay|ArrDelay|airport_id|                name|\n",
      "+----------+---------+-------+---------------+-------------+--------+--------+----------+--------------------+\n",
      "|        19|        5|     DL|          11433|        13303|      -3|       1|     11433|Detroit Metro Way...|\n",
      "|        19|        5|     DL|          14869|        12478|       0|      -8|     14869|Salt Lake City In...|\n",
      "|        19|        5|     DL|          14057|        14869|      -4|     -15|     14057|Portland Internat...|\n",
      "|        19|        5|     DL|          15016|        11433|      28|      24|     15016|Lambert-St. Louis...|\n",
      "|        19|        5|     DL|          11193|        12892|      -6|     -11|     11193|Cincinnati/Northe...|\n",
      "+----------+---------+-------+---------------+-------------+--------+--------+----------+--------------------+\n",
      "only showing top 5 rows\n",
      "\n"
     ]
    }
   ],
   "source": [
    "flights_airport_df.show(5)"
   ]
  },
  {
   "cell_type": "markdown",
   "id": "1f4d5153",
   "metadata": {},
   "source": [
    "8. Drop duplicates\n",
    "- It will drop duplicate records from existing DataFrame\n"
   ]
  },
  {
   "cell_type": "code",
   "execution_count": 105,
   "id": "487695a3",
   "metadata": {},
   "outputs": [],
   "source": [
    "flights_df1 = flights_df.dropDuplicates()"
   ]
  },
  {
   "cell_type": "markdown",
   "id": "6472eafd",
   "metadata": {},
   "source": [
    "#### Task 1. Calculate percentage data lost after drop duplicates"
   ]
  },
  {
   "cell_type": "code",
   "execution_count": 106,
   "id": "f3c0b56e",
   "metadata": {},
   "outputs": [],
   "source": [
    "before = flights_df.count()\n",
    "after = flights_df1.count()"
   ]
  },
  {
   "cell_type": "code",
   "execution_count": 107,
   "id": "95fe1fe1",
   "metadata": {},
   "outputs": [
    {
     "data": {
      "text/plain": [
       "0.8249927006440348"
      ]
     },
     "execution_count": 107,
     "metadata": {},
     "output_type": "execute_result"
    }
   ],
   "source": [
    "(before - after) / before * 100"
   ]
  },
  {
   "cell_type": "markdown",
   "id": "c9cf9a6e",
   "metadata": {},
   "source": [
    "11. Describe\n",
    "- used to show summary statistics for numeric dataframe columns."
   ]
  },
  {
   "cell_type": "code",
   "execution_count": 108,
   "id": "bc308af7",
   "metadata": {},
   "outputs": [
    {
     "data": {
      "text/plain": [
       "DataFrame[summary: string, DayofMonth: string, DayOfWeek: string, Carrier: string, OriginAirportID: string, DestAirportID: string, DepDelay: string, ArrDelay: string]"
      ]
     },
     "execution_count": 108,
     "metadata": {},
     "output_type": "execute_result"
    }
   ],
   "source": [
    "flights_df1.describe()"
   ]
  },
  {
   "cell_type": "code",
   "execution_count": 109,
   "id": "5bbe2443",
   "metadata": {},
   "outputs": [
    {
     "name": "stdout",
     "output_type": "stream",
     "text": [
      "+-------+------------------+------------------+-------+------------------+------------------+------------------+------------------+\n",
      "|summary|        DayofMonth|         DayOfWeek|Carrier|   OriginAirportID|     DestAirportID|          DepDelay|          ArrDelay|\n",
      "+-------+------------------+------------------+-------+------------------+------------------+------------------+------------------+\n",
      "|  count|           2696983|           2696983|2696983|           2696983|           2696983|           2674774|           2673185|\n",
      "|   mean|15.798996508320593| 3.900369412784582|   null|12742.459424846207| 12742.85937657004|10.618575625454712|6.7272897311633875|\n",
      "| stddev| 8.801267199135454|1.9864582421701973|   null|1502.0359941370625|1501.9939589817989|36.198308432512704| 38.75007476808384|\n",
      "|    min|                 1|                 1|     9E|             10140|             10140|               -63|               -94|\n",
      "|    max|                31|                 7|     YV|             15376|             15376|              1863|              1845|\n",
      "+-------+------------------+------------------+-------+------------------+------------------+------------------+------------------+\n",
      "\n"
     ]
    }
   ],
   "source": [
    "flights_df1.describe().show()"
   ]
  },
  {
   "cell_type": "markdown",
   "id": "e735875f",
   "metadata": {},
   "source": [
    "12. summary()\n",
    "- used for detailed summary of columns.\n",
    "- summary includes, sum, count etc. and quartiles."
   ]
  },
  {
   "cell_type": "code",
   "execution_count": 110,
   "id": "20e2c212",
   "metadata": {},
   "outputs": [
    {
     "data": {
      "text/plain": [
       "DataFrame[summary: string, DayofMonth: string, DayOfWeek: string, Carrier: string, OriginAirportID: string, DestAirportID: string, DepDelay: string, ArrDelay: string]"
      ]
     },
     "execution_count": 110,
     "metadata": {},
     "output_type": "execute_result"
    }
   ],
   "source": [
    "flights_df1.summary()"
   ]
  },
  {
   "cell_type": "code",
   "execution_count": 111,
   "id": "f90966bb",
   "metadata": {},
   "outputs": [
    {
     "name": "stdout",
     "output_type": "stream",
     "text": [
      "+-------+------------------+------------------+-------+------------------+------------------+------------------+------------------+\n",
      "|summary|        DayofMonth|         DayOfWeek|Carrier|   OriginAirportID|     DestAirportID|          DepDelay|          ArrDelay|\n",
      "+-------+------------------+------------------+-------+------------------+------------------+------------------+------------------+\n",
      "|  count|           2696983|           2696983|2696983|           2696983|           2696983|           2674774|           2673185|\n",
      "|   mean|15.798996508320593| 3.900369412784582|   null|12742.459424846207| 12742.85937657004|10.618575625454712|6.7272897311633875|\n",
      "| stddev| 8.801267199135454|1.9864582421701973|   null|1502.0359941370625|1501.9939589817989|36.198308432512704| 38.75007476808384|\n",
      "|    min|                 1|                 1|     9E|             10140|             10140|               -63|               -94|\n",
      "|    25%|                 8|                 2|   null|             11292|             11292|                -4|               -11|\n",
      "|    50%|                16|                 4|   null|             12892|             12892|                -1|                -3|\n",
      "|    75%|                23|                 6|   null|             14057|             14057|                10|                10|\n",
      "|    max|                31|                 7|     YV|             15376|             15376|              1863|              1845|\n",
      "+-------+------------------+------------------+-------+------------------+------------------+------------------+------------------+\n",
      "\n"
     ]
    }
   ],
   "source": [
    "flights_df1.summary().show()"
   ]
  },
  {
   "cell_type": "markdown",
   "id": "7694dc0f",
   "metadata": {},
   "source": [
    "#### 13. Categorical Columns"
   ]
  },
  {
   "cell_type": "code",
   "execution_count": 114,
   "id": "b61918ad",
   "metadata": {},
   "outputs": [],
   "source": [
    "from pyspark.sql.types import IntegerType, StringType\n",
    "from pyspark.sql.functions import *"
   ]
  },
  {
   "cell_type": "code",
   "execution_count": 117,
   "id": "e5a8ddc3",
   "metadata": {},
   "outputs": [],
   "source": [
    "# select categorical columns\n",
    "categorical_data = [field.name for field in flights_df1.schema.fields if isinstance(field.dataType, StringType)]"
   ]
  },
  {
   "cell_type": "code",
   "execution_count": 116,
   "id": "1fa0a583",
   "metadata": {},
   "outputs": [
    {
     "data": {
      "text/plain": [
       "['Carrier']"
      ]
     },
     "execution_count": 116,
     "metadata": {},
     "output_type": "execute_result"
    }
   ],
   "source": [
    "categorical_data"
   ]
  },
  {
   "cell_type": "markdown",
   "id": "56c8ce63",
   "metadata": {},
   "source": [
    "#### col(), groupBy()\n",
    "- col function is used to refers a column in the dataframe\n",
    "- groupBy() method to groups rows of DataFrame Based on values of one or more rows"
   ]
  },
  {
   "cell_type": "markdown",
   "id": "bf96641b",
   "metadata": {},
   "source": [
    "#### 14. Get frequency values for each categorical column"
   ]
  },
  {
   "cell_type": "code",
   "execution_count": 121,
   "id": "7fa5fc90",
   "metadata": {},
   "outputs": [],
   "source": [
    "# col function is used to refer to a column in dataframe\n",
    "# where to use it - in column operations\n",
    "from pyspark.sql.functions import col"
   ]
  },
  {
   "cell_type": "code",
   "execution_count": 123,
   "id": "11b66a71",
   "metadata": {},
   "outputs": [
    {
     "data": {
      "text/plain": [
       "664460"
      ]
     },
     "execution_count": 123,
     "metadata": {},
     "output_type": "execute_result"
    }
   ],
   "source": [
    "flights_df1.filter(col('ArrDelay') > 10).count()"
   ]
  },
  {
   "cell_type": "code",
   "execution_count": 125,
   "id": "ce04fe57",
   "metadata": {
    "scrolled": true
   },
   "outputs": [
    {
     "name": "stdout",
     "output_type": "stream",
     "text": [
      "+-------+------+\n",
      "|Carrier| count|\n",
      "+-------+------+\n",
      "|     UA|286010|\n",
      "|     AA|288910|\n",
      "|     EV|157218|\n",
      "|     B6|121875|\n",
      "|     DL|381601|\n",
      "|     OO|159639|\n",
      "|     F9| 35736|\n",
      "|     YV| 52740|\n",
      "|     US|232955|\n",
      "|     MQ|112113|\n",
      "|     HA| 17424|\n",
      "|     AS| 68544|\n",
      "|     FL| 92674|\n",
      "|     VX| 34726|\n",
      "|     WN|575090|\n",
      "|     9E| 79728|\n",
      "+-------+------+\n",
      "\n"
     ]
    }
   ],
   "source": [
    "for column in categorical_data:\n",
    "    flights_df1.groupBy(column).count().show()"
   ]
  },
  {
   "cell_type": "markdown",
   "id": "44b2318f",
   "metadata": {},
   "source": [
    "#### 15. isnull()\n",
    "- returns boolean outcome for missing values.\n",
    "- true: missing value, false: no missing value"
   ]
  },
  {
   "cell_type": "code",
   "execution_count": 128,
   "id": "52193ca7",
   "metadata": {},
   "outputs": [
    {
     "name": "stdout",
     "output_type": "stream",
     "text": [
      "+----------+---------+-------+---------------+-------------+--------+--------+\n",
      "|DayofMonth|DayOfWeek|Carrier|OriginAirportID|DestAirportID|DepDelay|ArrDelay|\n",
      "+----------+---------+-------+---------------+-------------+--------+--------+\n",
      "|        17|        3|     DL|          14869|        14771|    null|    null|\n",
      "|        11|        4|     EV|          12266|        13871|    null|    null|\n",
      "|        19|        5|     EV|          11618|        11433|    null|    null|\n",
      "|        10|        3|     EV|          13930|        13851|    null|    null|\n",
      "|         9|        2|     EV|          11292|        14107|    null|    null|\n",
      "|        18|        4|     AA|          13303|        12892|    null|    null|\n",
      "|        11|        4|     AA|          13930|        11292|    null|    null|\n",
      "|        18|        4|     AA|          11298|        14107|    null|    null|\n",
      "|        16|        2|     AA|          11278|        13930|    null|    null|\n",
      "|        17|        3|     AA|          13930|        14107|    null|    null|\n",
      "|        16|        2|     AA|          12478|        12266|    null|    null|\n",
      "|        18|        4|     AA|          11298|        11618|    null|    null|\n",
      "|         3|        3|     AS|          14679|        14747|    null|    null|\n",
      "|        18|        4|     AA|          13930|        15304|    null|    null|\n",
      "|        18|        4|     DL|          10397|        13930|    null|    null|\n",
      "|         8|        1|     WN|          11292|        14893|    null|    null|\n",
      "|        12|        5|     MQ|          13930|        11618|    null|    null|\n",
      "|        11|        4|     MQ|          13930|        10693|    null|    null|\n",
      "|        16|        2|     MQ|          10792|        13930|    null|    null|\n",
      "|        17|        3|     MQ|          13930|        11433|      88|    null|\n",
      "+----------+---------+-------+---------------+-------------+--------+--------+\n",
      "only showing top 20 rows\n",
      "\n"
     ]
    }
   ],
   "source": [
    "# check null in specific columns\n",
    "flights_df1.filter(col('ArrDelay').isNull()).show()"
   ]
  },
  {
   "cell_type": "code",
   "execution_count": 130,
   "id": "c9b877c0",
   "metadata": {},
   "outputs": [
    {
     "data": {
      "text/plain": [
       "23798"
      ]
     },
     "execution_count": 130,
     "metadata": {},
     "output_type": "execute_result"
    }
   ],
   "source": [
    "# show number of missing values for one column\n",
    "flights_df1.filter(col('ArrDelay').isNull()).count()"
   ]
  },
  {
   "cell_type": "code",
   "execution_count": 135,
   "id": "9430e14d",
   "metadata": {},
   "outputs": [
    {
     "name": "stdout",
     "output_type": "stream",
     "text": [
      "+------------------+\n",
      "|(ArrDelay IS NULL)|\n",
      "+------------------+\n",
      "|             false|\n",
      "|             false|\n",
      "|             false|\n",
      "|             false|\n",
      "|             false|\n",
      "|             false|\n",
      "|             false|\n",
      "|             false|\n",
      "|             false|\n",
      "|             false|\n",
      "|             false|\n",
      "|             false|\n",
      "|             false|\n",
      "|             false|\n",
      "|             false|\n",
      "|             false|\n",
      "|             false|\n",
      "|             false|\n",
      "|             false|\n",
      "|             false|\n",
      "+------------------+\n",
      "only showing top 20 rows\n",
      "\n"
     ]
    }
   ],
   "source": [
    "# isNull() returns a boolean value\n",
    "flights_df.select(col('ArrDelay').isNull()).show()"
   ]
  },
  {
   "cell_type": "code",
   "execution_count": 143,
   "id": "b86098e8",
   "metadata": {},
   "outputs": [
    {
     "data": {
      "text/plain": [
       "[Column<b'count(CASE WHEN (DayofMonth IS NULL) THEN DayofMonth END) AS `DayofMonth`'>,\n",
       " Column<b'count(CASE WHEN (DayOfWeek IS NULL) THEN DayOfWeek END) AS `DayOfWeek`'>,\n",
       " Column<b'count(CASE WHEN (Carrier IS NULL) THEN Carrier END) AS `Carrier`'>,\n",
       " Column<b'count(CASE WHEN (OriginAirportID IS NULL) THEN OriginAirportID END) AS `OriginAirportID`'>,\n",
       " Column<b'count(CASE WHEN (DestAirportID IS NULL) THEN DestAirportID END) AS `DestAirportID`'>,\n",
       " Column<b'count(CASE WHEN (DepDelay IS NULL) THEN DepDelay END) AS `DepDelay`'>,\n",
       " Column<b'count(CASE WHEN (ArrDelay IS NULL) THEN ArrDelay END) AS `ArrDelay`'>]"
      ]
     },
     "execution_count": 143,
     "metadata": {},
     "output_type": "execute_result"
    }
   ],
   "source": [
    "[count(when(isnull(column), column)).alias(column) for column in flights_df.columns]"
   ]
  },
  {
   "cell_type": "code",
   "execution_count": 142,
   "id": "2e35de66",
   "metadata": {},
   "outputs": [
    {
     "name": "stdout",
     "output_type": "stream",
     "text": [
      "+----------+---------+-------+---------------+-------------+--------+--------+\n",
      "|DayofMonth|DayOfWeek|Carrier|OriginAirportID|DestAirportID|DepDelay|ArrDelay|\n",
      "+----------+---------+-------+---------------+-------------+--------+--------+\n",
      "|         0|        0|      0|              0|            0|   27444|   29033|\n",
      "+----------+---------+-------+---------------+-------------+--------+--------+\n",
      "\n"
     ]
    }
   ],
   "source": [
    "flights_df.select([count(when(isnull(column), column)).alias(column) for column in flights_df.columns]).show()"
   ]
  },
  {
   "cell_type": "code",
   "execution_count": 190,
   "id": "6b8c34ca",
   "metadata": {},
   "outputs": [
    {
     "data": {
      "text/plain": [
       "{'DayofMonth': 0,\n",
       " 'DayOfWeek': 0,\n",
       " 'Carrier': 0,\n",
       " 'OriginAirportID': 0,\n",
       " 'DestAirportID': 0,\n",
       " 'DepDelay': 27444,\n",
       " 'ArrDelay': 29033}"
      ]
     },
     "execution_count": 190,
     "metadata": {},
     "output_type": "execute_result"
    }
   ],
   "source": [
    "# create the same using col function and isNull\n",
    "{column: flights_df.filter(col(column).isNull()).count() for column in flights_df.columns}"
   ]
  },
  {
   "cell_type": "code",
   "execution_count": 191,
   "id": "7b3f122a",
   "metadata": {},
   "outputs": [
    {
     "name": "stdout",
     "output_type": "stream",
     "text": [
      "+----------+---------+-------+---------------+-------------+--------+--------+\n",
      "|DayofMonth|DayOfWeek|Carrier|OriginAirportID|DestAirportID|DepDelay|ArrDelay|\n",
      "+----------+---------+-------+---------------+-------------+--------+--------+\n",
      "|         0|        0|      0|              0|            0|   27444|   29033|\n",
      "+----------+---------+-------+---------------+-------------+--------+--------+\n",
      "\n"
     ]
    }
   ],
   "source": [
    "# create the same using col function and isNull\n",
    "flights_df.select([sum(col(column).isNull().cast('int')).alias(column) for column in flights_df.columns]).show()"
   ]
  },
  {
   "cell_type": "markdown",
   "id": "c69af072",
   "metadata": {},
   "source": [
    "#### 16. fillna()\n",
    "- to replace or fill missing values of column with central tendency.\n",
    "- central tendencies: [mean, median, mode]"
   ]
  },
  {
   "cell_type": "code",
   "execution_count": 194,
   "id": "0e78e2be",
   "metadata": {},
   "outputs": [],
   "source": [
    "# replace missing values with zeros\n",
    "flights_df2 = flights_df.fillna({'DepDelay': 0, 'ArrDelay': 0})"
   ]
  },
  {
   "cell_type": "code",
   "execution_count": 196,
   "id": "f1996384",
   "metadata": {},
   "outputs": [
    {
     "name": "stdout",
     "output_type": "stream",
     "text": [
      "+----------+---------+-------+---------------+-------------+--------+--------+\n",
      "|DayofMonth|DayOfWeek|Carrier|OriginAirportID|DestAirportID|DepDelay|ArrDelay|\n",
      "+----------+---------+-------+---------------+-------------+--------+--------+\n",
      "|         0|        0|      0|              0|            0|       0|       0|\n",
      "+----------+---------+-------+---------------+-------------+--------+--------+\n",
      "\n"
     ]
    }
   ],
   "source": [
    "# check for missing values\n",
    "flights_df2.select([sum(col(column).isNull().cast('int')).alias(column) for column in flights_df2.columns]).show()"
   ]
  },
  {
   "cell_type": "markdown",
   "id": "962722fd",
   "metadata": {},
   "source": [
    "#### 17. dropna()\n",
    "- method is used for removing rows with null values"
   ]
  },
  {
   "cell_type": "code",
   "execution_count": 201,
   "id": "f4d0fa03",
   "metadata": {},
   "outputs": [
    {
     "data": {
      "text/plain": [
       "DataFrame[DayofMonth: int, DayOfWeek: int, Carrier: string, OriginAirportID: int, DestAirportID: int, DepDelay: int, ArrDelay: int]"
      ]
     },
     "execution_count": 201,
     "metadata": {},
     "output_type": "execute_result"
    }
   ],
   "source": [
    "flights_df.dropna()"
   ]
  },
  {
   "cell_type": "code",
   "execution_count": 203,
   "id": "86342020",
   "metadata": {},
   "outputs": [
    {
     "name": "stdout",
     "output_type": "stream",
     "text": [
      "1.067618144764799\n"
     ]
    }
   ],
   "source": [
    "## deleting rows with missing data:\n",
    "\n",
    "print((flights_df.count() - flights_df.dropna().count()) / flights_df.count() * 100)"
   ]
  },
  {
   "cell_type": "markdown",
   "id": "43c71840",
   "metadata": {},
   "source": [
    "#### 18. Statistical analysis\n",
    "- mean(), median(), stddiv(), quartile()"
   ]
  },
  {
   "cell_type": "code",
   "execution_count": 208,
   "id": "acb3d6c7",
   "metadata": {},
   "outputs": [
    {
     "name": "stdout",
     "output_type": "stream",
     "text": [
      "+-------------+\n",
      "|DepDelay mean|\n",
      "+-------------+\n",
      "|         11.0|\n",
      "+-------------+\n",
      "\n"
     ]
    }
   ],
   "source": [
    "# mean\n",
    "flights_df1.select(round(mean(col('DepDelay'))).alias('DepDelay mean')).show()"
   ]
  },
  {
   "cell_type": "code",
   "execution_count": 217,
   "id": "957fb48e",
   "metadata": {},
   "outputs": [
    {
     "data": {
      "text/plain": [
       "11.0"
      ]
     },
     "execution_count": 217,
     "metadata": {},
     "output_type": "execute_result"
    }
   ],
   "source": [
    "# mean\n",
    "flights_df1.select(round(mean(col('DepDelay'))).alias('DepDelay mean')).collect()[0][0]"
   ]
  },
  {
   "cell_type": "code",
   "execution_count": 207,
   "id": "3903cc3e",
   "metadata": {},
   "outputs": [
    {
     "name": "stdout",
     "output_type": "stream",
     "text": [
      "+-------------+\n",
      "|DepDelay mean|\n",
      "+-------------+\n",
      "|       10.619|\n",
      "+-------------+\n",
      "\n"
     ]
    }
   ],
   "source": [
    "# mean upto 3 decimal points\n",
    "flights_df1.select(round(mean(col('DepDelay')), 3).alias('DepDelay mean')).show()"
   ]
  },
  {
   "cell_type": "code",
   "execution_count": 209,
   "id": "73850f9b",
   "metadata": {},
   "outputs": [
    {
     "name": "stdout",
     "output_type": "stream",
     "text": [
      "+-------------+\n",
      "|DepDelay mean|\n",
      "+-------------+\n",
      "|       1310.0|\n",
      "+-------------+\n",
      "\n"
     ]
    }
   ],
   "source": [
    "# variance\n",
    "flights_df1.select(round(variance(col('DepDelay'))).alias('DepDelay Variance')).show()"
   ]
  },
  {
   "cell_type": "code",
   "execution_count": 214,
   "id": "a89464e2",
   "metadata": {},
   "outputs": [
    {
     "data": {
      "text/plain": [
       "-3.0"
      ]
     },
     "execution_count": 214,
     "metadata": {},
     "output_type": "execute_result"
    }
   ],
   "source": [
    "# median - use approaxQuantile().expr()\n",
    "\n",
    "flights_df1.approxQuantile('ArrDelay', [0.5], 0.0001)[0]"
   ]
  },
  {
   "cell_type": "markdown",
   "id": "98a2ccfb",
   "metadata": {},
   "source": [
    "#### 19. GroupBy & agg()"
   ]
  },
  {
   "cell_type": "code",
   "execution_count": 220,
   "id": "4e1f0bed",
   "metadata": {},
   "outputs": [
    {
     "name": "stdout",
     "output_type": "stream",
     "text": [
      "+-------+------------------+\n",
      "|Carrier|     mean DepDelay|\n",
      "+-------+------------------+\n",
      "|     UA|12.644186783024843|\n",
      "|     AA|12.154096505870111|\n",
      "|     EV| 14.52813602113455|\n",
      "|     B6|12.675216069471794|\n",
      "|     DL| 7.451940716867138|\n",
      "|     OO| 7.954327121364983|\n",
      "|     F9|12.142480802645592|\n",
      "|     YV| 9.595018289496604|\n",
      "|     US| 5.011879623272143|\n",
      "|     MQ|15.612577198673192|\n",
      "|     HA|1.5358414704192993|\n",
      "|     AS|0.6606730403765751|\n",
      "|     FL|10.227206113831024|\n",
      "|     VX|14.416962353959326|\n",
      "|     WN|12.930658050935614|\n",
      "|     9E| 9.767838809034908|\n",
      "+-------+------------------+\n",
      "\n"
     ]
    }
   ],
   "source": [
    "flights_df1.groupBy('Carrier').agg(mean(\"DepDelay\").alias('mean DepDelay')).show()"
   ]
  },
  {
   "cell_type": "code",
   "execution_count": 221,
   "id": "6056feb8",
   "metadata": {},
   "outputs": [
    {
     "name": "stdout",
     "output_type": "stream",
     "text": [
      "+-------+--------------------+------------------+\n",
      "|Carrier|       avg(ArrDelay)|     avg(DepDelay)|\n",
      "+-------+--------------------+------------------+\n",
      "|     UA|   5.207155029152466|12.644186783024843|\n",
      "|     AA|    7.22786703097812|12.154096505870111|\n",
      "|     EV|  10.501436641191532| 14.52813602113455|\n",
      "|     B6|   9.679335778153199|12.675216069471794|\n",
      "|     DL|  2.8085929091567747| 7.451940716867138|\n",
      "|     OO|   6.447766785619039| 7.954327121364983|\n",
      "|     F9|  12.870312237233028|12.142480802645592|\n",
      "|     YV|   8.749505833107245| 9.595018289496604|\n",
      "|     US|   3.957719324788726| 5.011879623272143|\n",
      "|     MQ|   14.27679662028746|15.612577198673192|\n",
      "|     HA|   1.534325271442523|1.5358414704192993|\n",
      "|     AS|-0.27272328542814955|0.6606730403765751|\n",
      "|     FL|   7.277437501357486|10.227206113831024|\n",
      "|     VX|   9.678802215555043|14.416962353959326|\n",
      "|     WN|   8.368672739670938|12.930658050935614|\n",
      "|     9E|   4.931550031523011| 9.767838809034908|\n",
      "+-------+--------------------+------------------+\n",
      "\n"
     ]
    }
   ],
   "source": [
    "flights_df1.groupBy('Carrier').agg(mean(\"ArrDelay\"), mean(\"DepDelay\")).show()"
   ]
  },
  {
   "cell_type": "markdown",
   "id": "aee669be",
   "metadata": {},
   "source": [
    "#### 20. WithColumn\n",
    "- all column operations.\n",
    "- used to create new column or modify an existing column in a dataframe. \n",
    "- also used for applying transformations or calculations."
   ]
  },
  {
   "cell_type": "code",
   "execution_count": 223,
   "id": "3d8bb16e",
   "metadata": {},
   "outputs": [
    {
     "name": "stdout",
     "output_type": "stream",
     "text": [
      "+----------+---------+-------+---------------+-------------+--------+--------+----------+\n",
      "|DayofMonth|DayOfWeek|Carrier|OriginAirportID|DestAirportID|DepDelay|ArrDelay|TotalDelay|\n",
      "+----------+---------+-------+---------------+-------------+--------+--------+----------+\n",
      "|         6|        1|     WN|          10821|        10140|       1|     -22|       -21|\n",
      "|         8|        1|     AA|          11298|        10140|       0|       6|         6|\n",
      "|        15|        1|     WN|          14747|        10140|      -6|       3|        -3|\n",
      "|        27|        1|     AA|          11298|        10140|     113|     117|       230|\n",
      "|         7|        2|     OO|          12266|        10140|      -3|     -11|       -14|\n",
      "|        28|        2|     WN|          14107|        10140|      -3|       0|        -3|\n",
      "|        30|        2|     OO|          12266|        10140|      -4|     -11|       -15|\n",
      "|         1|        3|     EV|          12266|        10140|     -11|     -26|       -37|\n",
      "|         3|        3|     OO|          12892|        10140|      -4|      -2|        -6|\n",
      "|        17|        3|     WN|          12892|        10140|      -1|       3|         2|\n",
      "|        22|        3|     WN|          14107|        10140|     109|     106|       215|\n",
      "|        24|        3|     WN|          14747|        10140|       0|      -4|        -4|\n",
      "|         2|        4|     OO|          14869|        10140|      -8|     -25|       -33|\n",
      "|         4|        4|     WN|          11259|        10140|      -5|      -9|       -14|\n",
      "|         4|        4|     OO|          14771|        10140|      22|      31|        53|\n",
      "|        11|        4|     WN|          14057|        10140|      -3|     -19|       -22|\n",
      "|         5|        5|     AA|          11298|        10140|      13|       2|        15|\n",
      "|        12|        5|     OO|          14869|        10140|      -2|     -10|       -12|\n",
      "|         6|        6|     WN|          11259|        10140|      -3|     -10|       -13|\n",
      "|         6|        6|     WN|          12892|        10140|      -3|     -13|       -16|\n",
      "+----------+---------+-------+---------------+-------------+--------+--------+----------+\n",
      "only showing top 20 rows\n",
      "\n"
     ]
    }
   ],
   "source": [
    "flights_df1.withColumn(\"TotalDelay\", col(\"DepDelay\") + col(\"ArrDelay\")).show()"
   ]
  },
  {
   "cell_type": "code",
   "execution_count": 232,
   "id": "6c63e8dc",
   "metadata": {},
   "outputs": [
    {
     "name": "stdout",
     "output_type": "stream",
     "text": [
      "+----------+---------+-------+---------------+-------------+--------+--------+--------+\n",
      "|DayofMonth|DayOfWeek|Carrier|OriginAirportID|DestAirportID|DepDelay|ArrDelay| isDelay|\n",
      "+----------+---------+-------+---------------+-------------+--------+--------+--------+\n",
      "|         6|        1|     WN|          10821|        10140|       1|     -22|No Delay|\n",
      "|         8|        1|     AA|          11298|        10140|       0|       6|No Delay|\n",
      "|        15|        1|     WN|          14747|        10140|      -6|       3|No Delay|\n",
      "|        27|        1|     AA|          11298|        10140|     113|     117|   Delay|\n",
      "|         7|        2|     OO|          12266|        10140|      -3|     -11|No Delay|\n",
      "|        28|        2|     WN|          14107|        10140|      -3|       0|No Delay|\n",
      "|        30|        2|     OO|          12266|        10140|      -4|     -11|No Delay|\n",
      "|         1|        3|     EV|          12266|        10140|     -11|     -26|No Delay|\n",
      "|         3|        3|     OO|          12892|        10140|      -4|      -2|No Delay|\n",
      "|        17|        3|     WN|          12892|        10140|      -1|       3|No Delay|\n",
      "|        22|        3|     WN|          14107|        10140|     109|     106|   Delay|\n",
      "|        24|        3|     WN|          14747|        10140|       0|      -4|No Delay|\n",
      "|         2|        4|     OO|          14869|        10140|      -8|     -25|No Delay|\n",
      "|         4|        4|     WN|          11259|        10140|      -5|      -9|No Delay|\n",
      "|         4|        4|     OO|          14771|        10140|      22|      31|   Delay|\n",
      "|        11|        4|     WN|          14057|        10140|      -3|     -19|No Delay|\n",
      "|         5|        5|     AA|          11298|        10140|      13|       2|   Delay|\n",
      "|        12|        5|     OO|          14869|        10140|      -2|     -10|No Delay|\n",
      "|         6|        6|     WN|          11259|        10140|      -3|     -10|No Delay|\n",
      "|         6|        6|     WN|          12892|        10140|      -3|     -13|No Delay|\n",
      "+----------+---------+-------+---------------+-------------+--------+--------+--------+\n",
      "only showing top 20 rows\n",
      "\n"
     ]
    }
   ],
   "source": [
    "flights_df1.withColumn(\"isDelay\", when((col('DepDelay') > 0) & (col('ArrDelay') > 0), \"Delay\").otherwise(\"No Delay\")).show()"
   ]
  },
  {
   "cell_type": "markdown",
   "id": "ac657b9e",
   "metadata": {},
   "source": [
    "#### 21. expr()\n"
   ]
  },
  {
   "cell_type": "code",
   "execution_count": 242,
   "id": "e2af4109",
   "metadata": {},
   "outputs": [],
   "source": [
    "from pyspark.sql.functions import expr\n",
    "\n",
    "median_expr = expr(f'percentile_approx({\"ArrDelay\"}, 0.5)')\n",
    "\n",
    "median_value = flights_df.agg(median_expr.alias(\"Median\")).collect()[0][0]"
   ]
  }
 ],
 "metadata": {
  "kernelspec": {
   "display_name": "Python 3",
   "language": "python",
   "name": "python3"
  },
  "language_info": {
   "codemirror_mode": {
    "name": "ipython",
    "version": 3
   },
   "file_extension": ".py",
   "mimetype": "text/x-python",
   "name": "python",
   "nbconvert_exporter": "python",
   "pygments_lexer": "ipython3",
   "version": "3.6.9"
  }
 },
 "nbformat": 4,
 "nbformat_minor": 5
}
