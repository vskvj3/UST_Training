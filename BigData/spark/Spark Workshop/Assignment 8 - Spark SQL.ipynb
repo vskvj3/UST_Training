{
 "cells": [
  {
   "cell_type": "code",
   "execution_count": 1,
   "id": "bd7989f2",
   "metadata": {},
   "outputs": [],
   "source": [
    "import pandas as pd\n",
    "import matplotlib.pyplot as plt\n",
    "import seaborn as sns"
   ]
  },
  {
   "cell_type": "code",
   "execution_count": 2,
   "id": "f5e6f111",
   "metadata": {},
   "outputs": [],
   "source": [
    "sc.stop()"
   ]
  },
  {
   "cell_type": "code",
   "execution_count": 3,
   "id": "9ddb4d52",
   "metadata": {},
   "outputs": [],
   "source": [
    "spark.stop()"
   ]
  },
  {
   "cell_type": "code",
   "execution_count": 4,
   "id": "0ec27b9f",
   "metadata": {},
   "outputs": [],
   "source": [
    "from pyspark import SparkConf, SparkContext\n",
    "\n",
    "config = SparkConf().setAppName(\"SQLAssignmentSession\")\n",
    "sc = SparkContext(conf=config)"
   ]
  },
  {
   "cell_type": "code",
   "execution_count": 5,
   "id": "aeaf9340",
   "metadata": {},
   "outputs": [],
   "source": [
    "from pyspark.sql import SparkSession\n",
    "spark = SparkSession.builder.appName('SQLAssignmentSession').getOrCreate()"
   ]
  },
  {
   "cell_type": "code",
   "execution_count": 6,
   "id": "d72a169f",
   "metadata": {},
   "outputs": [
    {
     "data": {
      "text/html": [
       "\n",
       "            <div>\n",
       "                <p><b>SparkSession - hive</b></p>\n",
       "                \n",
       "        <div>\n",
       "            <p><b>SparkContext</b></p>\n",
       "\n",
       "            <p><a href=\"http://10.0.2.15:4040\">Spark UI</a></p>\n",
       "\n",
       "            <dl>\n",
       "              <dt>Version</dt>\n",
       "                <dd><code>v2.4.8</code></dd>\n",
       "              <dt>Master</dt>\n",
       "                <dd><code>local[*]</code></dd>\n",
       "              <dt>AppName</dt>\n",
       "                <dd><code>SQLAssignmentSession</code></dd>\n",
       "            </dl>\n",
       "        </div>\n",
       "        \n",
       "            </div>\n",
       "        "
      ],
      "text/plain": [
       "<pyspark.sql.session.SparkSession at 0x7f1008868c18>"
      ]
     },
     "execution_count": 6,
     "metadata": {},
     "output_type": "execute_result"
    }
   ],
   "source": [
    "spark"
   ]
  },
  {
   "cell_type": "code",
   "execution_count": 7,
   "id": "bd437448",
   "metadata": {},
   "outputs": [],
   "source": [
    "churn_df = spark.read.csv('file:///home/hadoop/Downloads/Telco_Customer_Churn.csv', \n",
    "                            header=True,\n",
    "                            inferSchema=True)"
   ]
  },
  {
   "cell_type": "code",
   "execution_count": 8,
   "id": "7d949929",
   "metadata": {},
   "outputs": [
    {
     "data": {
      "text/plain": [
       "<bound method DataFrame.printSchema of DataFrame[customerID: string, gender: string, SeniorCitizen: int, Partner: string, Dependents: string, tenure: int, PhoneService: string, MultipleLines: string, InternetService: string, OnlineSecurity: string, OnlineBackup: string, DeviceProtection: string, TechSupport: string, StreamingTV: string, StreamingMovies: string, Contract: string, PaperlessBilling: string, PaymentMethod: string, MonthlyCharges: double, TotalCharges: string, Churn: string]>"
      ]
     },
     "execution_count": 8,
     "metadata": {},
     "output_type": "execute_result"
    }
   ],
   "source": [
    "churn_df.printSchema"
   ]
  },
  {
   "cell_type": "code",
   "execution_count": 9,
   "id": "bfa9fe2d",
   "metadata": {},
   "outputs": [
    {
     "data": {
      "text/plain": [
       "[Row(customerID=0, gender=0, SeniorCitizen=0, Partner=0, Dependents=0, tenure=0, PhoneService=0, MultipleLines=0, InternetService=0, OnlineSecurity=0, OnlineBackup=0, DeviceProtection=0, TechSupport=0, StreamingTV=0, StreamingMovies=0, Contract=0, PaperlessBilling=0, PaymentMethod=0, MonthlyCharges=0, TotalCharges=0, Churn=0)]"
      ]
     },
     "execution_count": 9,
     "metadata": {},
     "output_type": "execute_result"
    }
   ],
   "source": [
    "from pyspark.sql.functions import col, sum\n",
    "\n",
    "null_counts = churn_df.select([sum(col(c).isNull().cast(\"int\")).alias(c) for c in churn_df.columns])\n",
    "null_counts.collect()"
   ]
  },
  {
   "cell_type": "code",
   "execution_count": 10,
   "id": "b9b48cd7",
   "metadata": {},
   "outputs": [],
   "source": [
    "churn_df.createOrReplaceTempView('churn_data')"
   ]
  },
  {
   "cell_type": "code",
   "execution_count": 11,
   "id": "d62b42f4",
   "metadata": {},
   "outputs": [
    {
     "name": "stdout",
     "output_type": "stream",
     "text": [
      "+----+\n",
      "|rows|\n",
      "+----+\n",
      "|7043|\n",
      "+----+\n",
      "\n",
      "+----------------+\n",
      "|        col_name|\n",
      "+----------------+\n",
      "|      customerID|\n",
      "|          gender|\n",
      "|   SeniorCitizen|\n",
      "|         Partner|\n",
      "|      Dependents|\n",
      "|          tenure|\n",
      "|    PhoneService|\n",
      "|   MultipleLines|\n",
      "| InternetService|\n",
      "|  OnlineSecurity|\n",
      "|    OnlineBackup|\n",
      "|DeviceProtection|\n",
      "|     TechSupport|\n",
      "|     StreamingTV|\n",
      "| StreamingMovies|\n",
      "|        Contract|\n",
      "|PaperlessBilling|\n",
      "|   PaymentMethod|\n",
      "|  MonthlyCharges|\n",
      "|    TotalCharges|\n",
      "+----------------+\n",
      "only showing top 20 rows\n",
      "\n"
     ]
    }
   ],
   "source": [
    "spark.sql(\"\"\"\n",
    "SELECT count(*) as rows\n",
    "FROM churn_data\n",
    "\"\"\").show()\n",
    "\n",
    "spark.sql(f\"\"\"\n",
    " SHOW COLUMNS IN churn_data\n",
    "\"\"\").show()"
   ]
  },
  {
   "cell_type": "markdown",
   "id": "79045d0d",
   "metadata": {},
   "source": [
    "#### a) Analyze how customer retention varies based on how long the customer has stayed with the company (tenure)."
   ]
  },
  {
   "cell_type": "code",
   "execution_count": 12,
   "id": "14b55b54",
   "metadata": {
    "scrolled": false
   },
   "outputs": [],
   "source": [
    "churn_rate_df = spark.sql(\"\"\"\n",
    "SELECT \n",
    "    tenure,\n",
    "    COUNT(*) AS total_customers,\n",
    "    SUM(CASE WHEN Churn = 'Yes' THEN 1 ELSE 0 END) AS churned_customers,\n",
    "    SUM(CASE WHEN Churn = 'Yes' THEN 1 ELSE 0 END) / COUNT(*) AS churn_rate\n",
    "FROM churn_data\n",
    "GROUP BY tenure\n",
    "ORDER BY tenure\n",
    "\"\"\")"
   ]
  },
  {
   "cell_type": "code",
   "execution_count": 13,
   "id": "a7706413",
   "metadata": {
    "scrolled": true
   },
   "outputs": [
    {
     "data": {
      "image/png": "[encoded data removed]",
      "text/plain": [
       "<Figure size 720x432 with 1 Axes>"
      ]
     },
     "metadata": {
      "needs_background": "light"
     },
     "output_type": "display_data"
    }
   ],
   "source": [
    "churn_rate_pd = churn_rate_df.toPandas()\n",
    "\n",
    "plt.figure(figsize=(10, 6))\n",
    "sns.lineplot(x='tenure', y='churn_rate', data=churn_rate_pd, marker='o')\n",
    "\n",
    "plt.title('Customer Churn Rate by Tenure')\n",
    "plt.xlabel('Tenure (Months)')\n",
    "plt.ylabel('Churn Rate')\n",
    "plt.ylim(0, 1)  \n",
    "\n",
    "plt.show()"
   ]
  },
  {
   "cell_type": "markdown",
   "id": "1f7e50c6",
   "metadata": {},
   "source": [
    "**Insights**\n",
    "- We can see that the churn rate is quite high(0.8) during the initial 0-5 months, which indicates most of the users may stop the service shortly after signing up\n",
    "- But after the first months, there is a sharp decline the churn rate, around the 10 month the decline stabilices, indicating long term users."
   ]
  },
  {
   "cell_type": "markdown",
   "id": "cbf42920",
   "metadata": {},
   "source": [
    "#### b) Investigate the churn rate of customers who subscribe to streaming services like StreamingTV and StreamingMovies."
   ]
  },
  {
   "cell_type": "code",
   "execution_count": 14,
   "id": "adca6934",
   "metadata": {
    "scrolled": true
   },
   "outputs": [
    {
     "name": "stdout",
     "output_type": "stream",
     "text": [
      "+-----------------------+---------------+-----------------+-------------------+\n",
      "|streaming_service_group|total_customers|churned_customers|         churn_rate|\n",
      "+-----------------------+---------------+-----------------+-------------------+\n",
      "|   Both StreamingTV ...|           1940|              571| 0.2943298969072165|\n",
      "|   No Streaming Serv...|           2018|              695|  0.344400396432111|\n",
      "|   Only StreamingMovies|            792|              247|0.31186868686868685|\n",
      "|       Only StreamingTV|            767|              243|0.31681877444589307|\n",
      "+-----------------------+---------------+-----------------+-------------------+\n",
      "\n"
     ]
    }
   ],
   "source": [
    "\n",
    "churn_streaming_df = spark.sql(\"\"\"\n",
    "SELECT \n",
    "    CASE \n",
    "        WHEN StreamingTV = 'Yes' AND StreamingMovies = 'Yes' THEN 'Both StreamingTV and StreamingMovies'\n",
    "        WHEN StreamingTV = 'Yes' THEN 'Only StreamingTV'\n",
    "        WHEN StreamingMovies = 'Yes' THEN 'Only StreamingMovies'\n",
    "        ELSE 'No Streaming Services'\n",
    "    END AS streaming_service_group,\n",
    "    COUNT(*) AS total_customers,\n",
    "    SUM(CASE WHEN Churn = 'Yes' THEN 1 ELSE 0 END) AS churned_customers,\n",
    "    SUM(CASE WHEN Churn = 'Yes' THEN 1 ELSE 0 END) / COUNT(*) AS churn_rate\n",
    "FROM churn_data\n",
    "WHERE InternetService != 'No'\n",
    "GROUP BY streaming_service_group\n",
    "ORDER BY streaming_service_group\n",
    "\"\"\")\n",
    "\n",
    "churn_streaming_df.show()\n"
   ]
  },
  {
   "cell_type": "code",
   "execution_count": 15,
   "id": "570962f6",
   "metadata": {
    "scrolled": true
   },
   "outputs": [
    {
     "data": {
      "image/png": "[encoded data removed]",
      "text/plain": [
       "<Figure size 936x360 with 1 Axes>"
      ]
     },
     "metadata": {
      "needs_background": "light"
     },
     "output_type": "display_data"
    }
   ],
   "source": [
    "\n",
    "churn_streaming_pd = churn_streaming_df.toPandas()\n",
    "churn_streaming_pd = churn_streaming_pd.sort_values(by='churn_rate', ascending=False)\n",
    "\n",
    "\n",
    "sns.set_palette(\"Set2\")  \n",
    "\n",
    "plt.figure(figsize=(13, 5))\n",
    "sns.barplot(y='streaming_service_group', x='churn_rate', data=churn_streaming_pd)\n",
    "\n",
    "plt.title('Customer Churn Rate by Streaming Service Subscription')\n",
    "plt.xlabel('Streaming Service Group')\n",
    "plt.ylabel('Churn Rate')\n",
    "plt.xlim(0, 1)  \n",
    "\n",
    "plt.show()"
   ]
  },
  {
   "cell_type": "markdown",
   "id": "a4362651",
   "metadata": {},
   "source": [
    "**Insights**\n",
    "- churn rate is higher in customers of streaming movies"
   ]
  },
  {
   "cell_type": "markdown",
   "id": "b9d3cb83",
   "metadata": {},
   "source": [
    "#### c) Write Spark SQL to group customers by their tenure (e.g., 0-12 months, 13-24 months, etc.) and analyze churn rates in these tenure groups."
   ]
  },
  {
   "cell_type": "code",
   "execution_count": 16,
   "id": "af5aa9f5",
   "metadata": {
    "scrolled": true
   },
   "outputs": [
    {
     "name": "stdout",
     "output_type": "stream",
     "text": [
      "+------------+---------------+-----------------+-------------------+\n",
      "|tenure_group|total_customers|churned_customers|         churn_rate|\n",
      "+------------+---------------+-----------------+-------------------+\n",
      "| 0-12 Months|           2186|             1037|0.47438243366880145|\n",
      "|13-24 Months|           1024|              294|        0.287109375|\n",
      "|25-36 Months|            832|              180|0.21634615384615385|\n",
      "|37-48 Months|            762|              145|0.19028871391076116|\n",
      "|  49+ Months|           2239|              213|0.09513175524787852|\n",
      "+------------+---------------+-----------------+-------------------+\n",
      "\n"
     ]
    }
   ],
   "source": [
    "\n",
    "churn_tenure_df = spark.sql(\"\"\"\n",
    "SELECT \n",
    "    CASE \n",
    "        WHEN tenure <= 12 THEN '0-12 Months'\n",
    "        WHEN tenure > 12 AND tenure <= 24 THEN '13-24 Months'\n",
    "        WHEN tenure > 24 AND tenure <= 36 THEN '25-36 Months'\n",
    "        WHEN tenure > 36 AND tenure <= 48 THEN '37-48 Months'\n",
    "        ELSE '49+ Months'\n",
    "    END AS tenure_group,\n",
    "    COUNT(*) AS total_customers,\n",
    "    SUM(CASE WHEN Churn = 'Yes' THEN 1 ELSE 0 END) AS churned_customers,\n",
    "    SUM(CASE WHEN Churn = 'Yes' THEN 1 ELSE 0 END) / COUNT(*) AS churn_rate\n",
    "FROM churn_data\n",
    "GROUP BY tenure_group\n",
    "ORDER BY tenure_group\n",
    "\"\"\")\n",
    "\n",
    "churn_tenure_df.show()\n"
   ]
  },
  {
   "cell_type": "code",
   "execution_count": 17,
   "id": "488df097",
   "metadata": {},
   "outputs": [
    {
     "data": {
      "image/png": "[encoded data removed]",
      "text/plain": [
       "<Figure size 720x432 with 1 Axes>"
      ]
     },
     "metadata": {
      "needs_background": "light"
     },
     "output_type": "display_data"
    }
   ],
   "source": [
    "\n",
    "churn_tenure_pd = churn_tenure_df.toPandas()\n",
    "\n",
    "plt.figure(figsize=(10, 6))\n",
    "sns.barplot(x='tenure_group', y='churn_rate', data=churn_tenure_pd, palette=\"Set2\")\n",
    "\n",
    "plt.title('Customer Churn Rate by Tenure Group')\n",
    "plt.xlabel('Tenure Group')\n",
    "plt.ylabel('Churn Rate')\n",
    "plt.ylim(0, 1)  \n",
    "plt.axhline(y=0.5, color='r', linestyle='--')  \n",
    "plt.xticks(rotation=45)\n",
    "\n",
    "plt.show()\n"
   ]
  },
  {
   "cell_type": "markdown",
   "id": "3999b47e",
   "metadata": {},
   "source": [
    "#### d) Analyze the impact of contract types and payment methods on churn rates."
   ]
  },
  {
   "cell_type": "code",
   "execution_count": 18,
   "id": "d46f6f57",
   "metadata": {},
   "outputs": [
    {
     "name": "stdout",
     "output_type": "stream",
     "text": [
      "+--------------+--------------------+---------------+-----------------+--------------------+\n",
      "|      Contract|       PaymentMethod|total_customers|churned_customers|          churn_rate|\n",
      "+--------------+--------------------+---------------+-----------------+--------------------+\n",
      "|Month-to-month|Bank transfer (au...|            589|              201| 0.34125636672325976|\n",
      "|Month-to-month|Credit card (auto...|            543|              178|  0.3278084714548803|\n",
      "|Month-to-month|    Electronic check|           1850|              994|  0.5372972972972972|\n",
      "|Month-to-month|        Mailed check|            893|              282|  0.3157894736842105|\n",
      "|      One year|Bank transfer (au...|            391|               38| 0.09718670076726342|\n",
      "|      One year|Credit card (auto...|            398|               41| 0.10301507537688442|\n",
      "|      One year|    Electronic check|            347|               64|  0.1844380403458213|\n",
      "|      One year|        Mailed check|            337|               23| 0.06824925816023739|\n",
      "|      Two year|Bank transfer (au...|            564|               19| 0.03368794326241135|\n",
      "|      Two year|Credit card (auto...|            581|               13|0.022375215146299483|\n",
      "|      Two year|    Electronic check|            168|               13| 0.07738095238095238|\n",
      "|      Two year|        Mailed check|            382|                3|0.007853403141361256|\n",
      "+--------------+--------------------+---------------+-----------------+--------------------+\n",
      "\n"
     ]
    }
   ],
   "source": [
    "\n",
    "contract_payment_churn_df = spark.sql(\n",
    "\"\"\"\n",
    "SELECT \n",
    "    Contract,\n",
    "    PaymentMethod,\n",
    "    COUNT(*) AS total_customers,\n",
    "    SUM(CASE WHEN Churn = 'Yes' THEN 1 ELSE 0 END) AS churned_customers,\n",
    "    SUM(CASE WHEN Churn = 'Yes' THEN 1 ELSE 0 END) / COUNT(*) AS churn_rate\n",
    "FROM churn_data\n",
    "GROUP BY Contract, PaymentMethod\n",
    "ORDER BY Contract, PaymentMethod\n",
    "\"\"\")\n",
    "\n",
    "contract_payment_churn_df.show()\n"
   ]
  },
  {
   "cell_type": "code",
   "execution_count": 19,
   "id": "721f583d",
   "metadata": {},
   "outputs": [
    {
     "data": {
      "image/png": "[encoded data removed]",
      "text/plain": [
       "<Figure size 864x576 with 1 Axes>"
      ]
     },
     "metadata": {
      "needs_background": "light"
     },
     "output_type": "display_data"
    }
   ],
   "source": [
    "contract_payment_churn_pd = contract_payment_churn_df.toPandas()\n",
    "\n",
    "plt.figure(figsize=(12, 8))\n",
    "sns.barplot(x='churn_rate', y='Contract', hue='PaymentMethod', data=contract_payment_churn_pd, palette='Set2')\n",
    "\n",
    "plt.title('Churn Rate by Contract Type and Payment Method')\n",
    "plt.xlabel('Churn Rate')\n",
    "plt.ylabel('Contract Type')\n",
    "plt.xlim(0, 1) \n",
    "\n",
    "plt.axvline(x=0.5, color='r', linestyle='--') \n",
    "plt.legend(title='Payment Method')\n",
    "plt.grid()\n",
    "plt.show()\n"
   ]
  },
  {
   "cell_type": "markdown",
   "id": "95e549de",
   "metadata": {},
   "source": [
    "#### e) Explore the distribution of monthly charges for customers based on their type of internet service."
   ]
  },
  {
   "cell_type": "code",
   "execution_count": 20,
   "id": "925155d7",
   "metadata": {},
   "outputs": [],
   "source": [
    "monthly_charges_internet_df = spark.sql(\n",
    "\"\"\"\n",
    "SELECT \n",
    "    InternetService,\n",
    "    MonthlyCharges\n",
    "FROM \n",
    "    churn_data\n",
    "\"\"\")"
   ]
  },
  {
   "cell_type": "code",
   "execution_count": 21,
   "id": "5a637433",
   "metadata": {},
   "outputs": [
    {
     "data": {
      "image/png": "[encoded data removed]",
      "text/plain": [
       "<Figure size 1080x360 with 3 Axes>"
      ]
     },
     "metadata": {
      "needs_background": "light"
     },
     "output_type": "display_data"
    }
   ],
   "source": [
    "\n",
    "monthly_charges_internet_pd = monthly_charges_internet_df.toPandas()\n",
    "\n",
    "plt.figure(figsize=(15, 5))\n",
    "\n",
    "services = monthly_charges_internet_pd['InternetService'].unique()\n",
    "\n",
    "for i, service in enumerate(services, 1):\n",
    "    plt.subplot(1, 3, i) \n",
    "    sns.histplot(monthly_charges_internet_pd[monthly_charges_internet_pd['InternetService'] == service],\n",
    "                 x='MonthlyCharges', bins=30, kde=True, color='blue')\n",
    "    plt.title(f'Monthly Charges Distribution: {service}')\n",
    "    plt.xlabel('Monthly Charges')\n",
    "    plt.ylabel('Frequency')\n",
    "    plt.xlim(0, monthly_charges_internet_pd['MonthlyCharges'].max())  # Limit x-axis to max monthly charges\n",
    "    plt.grid(axis='y')\n",
    "\n",
    "plt.tight_layout() \n",
    "plt.show()\n"
   ]
  },
  {
   "cell_type": "markdown",
   "id": "0bf8bfae",
   "metadata": {},
   "source": [
    "#### f) Identify the top 10 customers who have contributed the most revenue to the company, based on total charges."
   ]
  },
  {
   "cell_type": "code",
   "execution_count": 22,
   "id": "bfc4ff92",
   "metadata": {},
   "outputs": [
    {
     "name": "stdout",
     "output_type": "stream",
     "text": [
      "+----------+------------+\n",
      "|customerID|TotalCharges|\n",
      "+----------+------------+\n",
      "|9093-FPDLG|       999.9|\n",
      "|4536-PLEQY|       999.8|\n",
      "|5899-MQZZL|      999.45|\n",
      "|6051-PTVNS|       998.1|\n",
      "|8249-THVEC|      997.75|\n",
      "|6328-ZPBGN|      997.65|\n",
      "|7297-DVYGA|      996.95|\n",
      "|6243-OZGFH|      996.85|\n",
      "|0484-JPBRU|      996.45|\n",
      "|2971-SGAFL|      995.35|\n",
      "+----------+------------+\n",
      "\n"
     ]
    }
   ],
   "source": [
    "top_customers_df = spark.sql(\n",
    "\"\"\"\n",
    "SELECT \n",
    "    customerID, \n",
    "    TotalCharges \n",
    "FROM \n",
    "    churn_data \n",
    "ORDER BY \n",
    "    TotalCharges DESC \n",
    "LIMIT 10\n",
    "\"\"\")\n",
    "\n",
    "top_customers_df.show()\n"
   ]
  },
  {
   "cell_type": "markdown",
   "id": "c44c9339",
   "metadata": {},
   "source": [
    "#### g) Calculate the churn rate segmented by gender and whether the customer is a senior citizen."
   ]
  },
  {
   "cell_type": "code",
   "execution_count": 23,
   "id": "4c2174db",
   "metadata": {
    "scrolled": true
   },
   "outputs": [
    {
     "name": "stdout",
     "output_type": "stream",
     "text": [
      "+------+-------------+---------------+-----------------+-------------------+\n",
      "|gender|SeniorCitizen|total_customers|churned_customers|         churn_rate|\n",
      "+------+-------------+---------------+-----------------+-------------------+\n",
      "|Female|            0|           2920|              699|0.23938356164383562|\n",
      "|Female|            1|            568|              240| 0.4225352112676056|\n",
      "|  Male|            0|           2981|              694|0.23280778262328078|\n",
      "|  Male|            1|            574|              236|0.41114982578397213|\n",
      "+------+-------------+---------------+-----------------+-------------------+\n",
      "\n"
     ]
    }
   ],
   "source": [
    "churn_rate_gender_senior_df = spark.sql(\n",
    "\"\"\"\n",
    "SELECT \n",
    "    gender,\n",
    "    SeniorCitizen,\n",
    "    COUNT(*) AS total_customers,\n",
    "    SUM(CASE WHEN Churn = 'Yes' THEN 1 ELSE 0 END) AS churned_customers,\n",
    "    SUM(CASE WHEN Churn = 'Yes' THEN 1 ELSE 0 END) / COUNT(*) AS churn_rate\n",
    "FROM \n",
    "    churn_data\n",
    "GROUP BY \n",
    "    gender, SeniorCitizen\n",
    "ORDER BY \n",
    "    gender, SeniorCitizen\n",
    "\"\"\")\n",
    "\n",
    "churn_rate_gender_senior_df.show()\n"
   ]
  },
  {
   "cell_type": "code",
   "execution_count": 24,
   "id": "926ff3fe",
   "metadata": {},
   "outputs": [
    {
     "data": {
      "image/png": "[encoded data removed]",
      "text/plain": [
       "<Figure size 720x432 with 1 Axes>"
      ]
     },
     "metadata": {
      "needs_background": "light"
     },
     "output_type": "display_data"
    }
   ],
   "source": [
    "churn_rate_gender_senior_pd = churn_rate_gender_senior_df.toPandas()\n",
    "\n",
    "churn_rate_gender_senior_pd['SeniorCitizen'] = churn_rate_gender_senior_pd['SeniorCitizen'].map({0: 'No', 1: 'Yes'})\n",
    "\n",
    "plt.figure(figsize=(10, 6))\n",
    "\n",
    "sns.barplot(x='gender', y='churn_rate', hue='SeniorCitizen', data=churn_rate_gender_senior_pd, palette='Set2')\n",
    "\n",
    "plt.title('Churn Rate by Gender and Senior Citizen Status')\n",
    "plt.xlabel('Gender')\n",
    "plt.ylabel('Churn Rate')\n",
    "plt.ylim(0, 1)  \n",
    "plt.axhline(y=0.5, color='r', linestyle='--') \n",
    "plt.legend(title='Senior Citizen')\n",
    "plt.grid(axis='y')\n",
    "\n",
    "plt.show()"
   ]
  },
  {
   "cell_type": "markdown",
   "id": "d3b1acb1",
   "metadata": {},
   "source": [
    "#### h) Write query to calculate Correlation between dependents and churn. Explore whether having dependents affects customer churn rates."
   ]
  },
  {
   "cell_type": "code",
   "execution_count": 25,
   "id": "9f07246d",
   "metadata": {
    "scrolled": true
   },
   "outputs": [
    {
     "name": "stdout",
     "output_type": "stream",
     "text": [
      "+--------------------+\n",
      "|         correlation|\n",
      "+--------------------+\n",
      "|-0.16422140157972537|\n",
      "+--------------------+\n",
      "\n"
     ]
    }
   ],
   "source": [
    "correlation_result = spark.sql(\n",
    "\"\"\"\n",
    "SELECT \n",
    "    CORR(DependentsNum, ChurnNum) AS correlation\n",
    "FROM (\n",
    "    SELECT \n",
    "        CAST(CASE WHEN Dependents = 'Yes' THEN 1 ELSE 0 END AS INT) AS DependentsNum,\n",
    "        CAST(CASE WHEN Churn = 'Yes' THEN 1 ELSE 0 END AS INT) AS ChurnNum\n",
    "    FROM \n",
    "        churn_data\n",
    ") AS correlation_data\n",
    "\"\"\")\n",
    "\n",
    "correlation_result.show()\n"
   ]
  },
  {
   "cell_type": "code",
   "execution_count": 26,
   "id": "108849d8",
   "metadata": {},
   "outputs": [
    {
     "data": {
      "image/png": "[encoded data removed]",
      "text/plain": [
       "<Figure size 576x360 with 1 Axes>"
      ]
     },
     "metadata": {
      "needs_background": "light"
     },
     "output_type": "display_data"
    }
   ],
   "source": [
    "dependents_churn_rate_df = spark.sql(\n",
    "\"\"\"\n",
    "SELECT \n",
    "    Dependents,\n",
    "    COUNT(*) AS total_customers,\n",
    "    SUM(CASE WHEN Churn = 'Yes' THEN 1 ELSE 0 END) AS churned_customers,\n",
    "    SUM(CASE WHEN Churn = 'Yes' THEN 1 ELSE 0 END) / COUNT(*) AS churn_rate\n",
    "FROM \n",
    "    churn_data\n",
    "GROUP BY \n",
    "    Dependents\n",
    "\"\"\")\n",
    "\n",
    "\n",
    "\n",
    "dependents_churn_rate_pd = dependents_churn_rate_df.toPandas()\n",
    "\n",
    "plt.figure(figsize=(8, 5))\n",
    "sns.barplot(x='Dependents', y='churn_rate', data=dependents_churn_rate_pd, palette='Set2')\n",
    "\n",
    "plt.title('Churn Rate by Dependents Status')\n",
    "plt.xlabel('Dependents')\n",
    "plt.ylabel('Churn Rate')\n",
    "plt.ylim(0, 1)\n",
    "plt.axhline(y=0.5, color='r', linestyle='--')  # Optional: add a line at 0.5 for reference\n",
    "plt.grid(axis='y')\n",
    "\n",
    "plt.show()\n"
   ]
  },
  {
   "cell_type": "markdown",
   "id": "a8920d8f",
   "metadata": {},
   "source": [
    "#### i) Predict potential churn rates by analyzing the relationship between monthly charges, contract types, and the churn rate."
   ]
  },
  {
   "cell_type": "code",
   "execution_count": 27,
   "id": "9fc5f17e",
   "metadata": {},
   "outputs": [
    {
     "name": "stdout",
     "output_type": "stream",
     "text": [
      "+--------------+------------------+---------------+-----------------+--------------------+\n",
      "|      Contract|MonthlyChargeRange|total_customers|churned_customers|          churn_rate|\n",
      "+--------------+------------------+---------------+-----------------+--------------------+\n",
      "|Month-to-month|             30-60|            851|              304|  0.3572267920094007|\n",
      "|Month-to-month|               <30|            642|              147| 0.22897196261682243|\n",
      "|Month-to-month|               >60|           2382|             1204|  0.5054575986565911|\n",
      "|      One year|             30-60|            251|               19| 0.07569721115537849|\n",
      "|      One year|               <30|            372|               10|0.026881720430107527|\n",
      "|      One year|               >60|            850|              137| 0.16117647058823528|\n",
      "|      Two year|             30-60|            163|                5| 0.03067484662576687|\n",
      "|      Two year|               <30|            639|                5| 0.00782472613458529|\n",
      "|      Two year|               >60|            893|               38|  0.0425531914893617|\n",
      "+--------------+------------------+---------------+-----------------+--------------------+\n",
      "\n"
     ]
    }
   ],
   "source": [
    "churn_rate_monthly_contract_df = spark.sql(\n",
    "\"\"\"\n",
    "SELECT \n",
    "    Contract,\n",
    "    CASE \n",
    "        WHEN MonthlyCharges < 30 THEN '<30'\n",
    "        WHEN MonthlyCharges BETWEEN 30 AND 60 THEN '30-60'\n",
    "        WHEN MonthlyCharges > 60 THEN '>60'\n",
    "    END AS MonthlyChargeRange,\n",
    "    COUNT(*) AS total_customers,\n",
    "    SUM(CASE WHEN Churn = 'Yes' THEN 1 ELSE 0 END) AS churned_customers,\n",
    "    SUM(CASE WHEN Churn = 'Yes' THEN 1 ELSE 0 END) / COUNT(*) AS churn_rate\n",
    "FROM \n",
    "    churn_data\n",
    "GROUP BY \n",
    "    Contract, MonthlyChargeRange\n",
    "ORDER BY \n",
    "    Contract, MonthlyChargeRange\n",
    "\"\"\")\n",
    "\n",
    "churn_rate_monthly_contract_df.show()\n"
   ]
  },
  {
   "cell_type": "code",
   "execution_count": 28,
   "id": "f50b9b75",
   "metadata": {},
   "outputs": [
    {
     "data": {
      "image/png": "[encoded data removed]",
      "text/plain": [
       "<Figure size 864x432 with 1 Axes>"
      ]
     },
     "metadata": {
      "needs_background": "light"
     },
     "output_type": "display_data"
    }
   ],
   "source": [
    "churn_rate_monthly_contract_pd = churn_rate_monthly_contract_df.toPandas()\n",
    "\n",
    "plt.figure(figsize=(12, 6))\n",
    "\n",
    "sns.barplot(x='MonthlyChargeRange', y='churn_rate', hue='Contract', data=churn_rate_monthly_contract_pd, palette='Set2')\n",
    "\n",
    "plt.title('Churn Rate by Monthly Charges and Contract Type')\n",
    "plt.xlabel('Monthly Charge Range')\n",
    "plt.ylabel('Churn Rate')\n",
    "plt.ylim(0, 1)\n",
    "plt.axhline(y=0.5, color='r', linestyle='--')\n",
    "plt.legend(title='Contract Type')\n",
    "plt.grid(axis='y')\n",
    "\n",
    "plt.show()"
   ]
  },
  {
   "cell_type": "markdown",
   "id": "ea55f245",
   "metadata": {},
   "source": [
    "#### j) Determine the churn rate for customers who have multiple services (Phone, Internet, and Streaming), which can help understand whether bundling services leads to higher or lower churn. Calculate churn rate for customers with multiple services."
   ]
  },
  {
   "cell_type": "code",
   "execution_count": 29,
   "id": "2fa26d63",
   "metadata": {
    "scrolled": true
   },
   "outputs": [
    {
     "name": "stdout",
     "output_type": "stream",
     "text": [
      "+---------------+-----------------+-------------------+\n",
      "|total_customers|churned_customers|         churn_rate|\n",
      "+---------------+-----------------+-------------------+\n",
      "|           3116|              968|0.31065468549422337|\n",
      "+---------------+-----------------+-------------------+\n",
      "\n"
     ]
    }
   ],
   "source": [
    "churn_rate_multiple_services_df = spark.sql(\n",
    "\"\"\"\n",
    "SELECT \n",
    "    COUNT(*) AS total_customers,\n",
    "    SUM(CASE WHEN Churn = 'Yes' THEN 1 ELSE 0 END) AS churned_customers,\n",
    "    SUM(CASE WHEN Churn = 'Yes' THEN 1 ELSE 0 END) / COUNT(*) AS churn_rate\n",
    "FROM \n",
    "    churn_data\n",
    "WHERE \n",
    "    PhoneService = 'Yes' \n",
    "    AND InternetService != 'No' \n",
    "    AND (StreamingTV = 'Yes' OR StreamingMovies = 'Yes')\n",
    "\"\"\")\n",
    "\n",
    "churn_rate_multiple_services_df.show()\n"
   ]
  },
  {
   "cell_type": "markdown",
   "id": "d92f73d3",
   "metadata": {},
   "source": [
    "#### k) Churn Impact by device protection and online backup services. Write query to investigate whether having device protection or online backup services affects churn rates."
   ]
  },
  {
   "cell_type": "code",
   "execution_count": 30,
   "id": "af181721",
   "metadata": {},
   "outputs": [
    {
     "name": "stdout",
     "output_type": "stream",
     "text": [
      "+-------------------+-------------------+---------------+-----------------+-------------------+\n",
      "|   DeviceProtection|       OnlineBackup|total_customers|churned_customers|         churn_rate|\n",
      "+-------------------+-------------------+---------------+-----------------+-------------------+\n",
      "|                 No|                 No|           1984|              911| 0.4591733870967742|\n",
      "|                 No|                Yes|           1111|              300|   0.27002700270027|\n",
      "|No internet service|No internet service|           1526|              113|0.07404980340760157|\n",
      "|                Yes|                 No|           1104|              322| 0.2916666666666667|\n",
      "|                Yes|                Yes|           1318|              223|0.16919575113808802|\n",
      "+-------------------+-------------------+---------------+-----------------+-------------------+\n",
      "\n"
     ]
    }
   ],
   "source": [
    "churn_rate_device_backup_df = spark.sql(\n",
    "\"\"\"\n",
    "SELECT \n",
    "    DeviceProtection,\n",
    "    OnlineBackup,\n",
    "    COUNT(*) AS total_customers,\n",
    "    SUM(CASE WHEN Churn = 'Yes' THEN 1 ELSE 0 END) AS churned_customers,\n",
    "    SUM(CASE WHEN Churn = 'Yes' THEN 1 ELSE 0 END) / COUNT(*) AS churn_rate\n",
    "FROM \n",
    "    churn_data\n",
    "GROUP BY \n",
    "    DeviceProtection, OnlineBackup\n",
    "ORDER BY \n",
    "    DeviceProtection, OnlineBackup\n",
    "\"\"\")\n",
    "\n",
    "churn_rate_device_backup_df.show()\n"
   ]
  },
  {
   "cell_type": "code",
   "execution_count": 31,
   "id": "3a507802",
   "metadata": {},
   "outputs": [
    {
     "data": {
      "image/png": "[encoded data removed]",
      "text/plain": [
       "<Figure size 864x432 with 1 Axes>"
      ]
     },
     "metadata": {
      "needs_background": "light"
     },
     "output_type": "display_data"
    }
   ],
   "source": [
    "\n",
    "churn_rate_device_backup_pd = churn_rate_device_backup_df.toPandas()\n",
    "\n",
    "plt.figure(figsize=(12, 6))\n",
    "\n",
    "sns.barplot(x='DeviceProtection', y='churn_rate', hue='OnlineBackup', data=churn_rate_device_backup_pd, palette='Set2')\n",
    "\n",
    "plt.title('Churn Rate by Device Protection and Online Backup Services')\n",
    "plt.xlabel('Device Protection')\n",
    "plt.ylabel('Churn Rate')\n",
    "plt.ylim(0, 1)  \n",
    "plt.axhline(y=0.5, color='r', linestyle='--')\n",
    "plt.legend(title='Online Backup')\n",
    "plt.grid(axis='y')\n",
    "\n",
    "plt.show()\n"
   ]
  },
  {
   "cell_type": "markdown",
   "id": "19fc0686",
   "metadata": {},
   "source": [
    "#### l) Explore churn rates among customers who do not have phone service and investigate if it influences customer retention."
   ]
  },
  {
   "cell_type": "code",
   "execution_count": 32,
   "id": "91457b44",
   "metadata": {},
   "outputs": [
    {
     "name": "stdout",
     "output_type": "stream",
     "text": [
      "+---------------+-----------------+-------------------+\n",
      "|total_customers|churned_customers|         churn_rate|\n",
      "+---------------+-----------------+-------------------+\n",
      "|            682|              170|0.24926686217008798|\n",
      "+---------------+-----------------+-------------------+\n",
      "\n"
     ]
    }
   ],
   "source": [
    "churn_rate_no_phone_df = spark.sql(\n",
    "\"\"\"\n",
    "SELECT \n",
    "    COUNT(*) AS total_customers,\n",
    "    SUM(CASE WHEN Churn = 'Yes' THEN 1 ELSE 0 END) AS churned_customers,\n",
    "    SUM(CASE WHEN Churn = 'Yes' THEN 1 ELSE 0 END) / COUNT(*) AS churn_rate\n",
    "FROM \n",
    "    churn_data\n",
    "WHERE \n",
    "    PhoneService = 'No'\n",
    "\"\"\")\n",
    "\n",
    "churn_rate_no_phone_df.show()\n"
   ]
  },
  {
   "cell_type": "code",
   "execution_count": 33,
   "id": "5a2a9ac8",
   "metadata": {},
   "outputs": [
    {
     "name": "stdout",
     "output_type": "stream",
     "text": [
      "+-----+--------------+----------+\n",
      "|Churn|customer_count|churn_rate|\n",
      "+-----+--------------+----------+\n",
      "|   No|           512|       0.0|\n",
      "|   No|          4662|       0.0|\n",
      "|  Yes|          1699|       1.0|\n",
      "|  Yes|           170|       1.0|\n",
      "+-----+--------------+----------+\n",
      "\n"
     ]
    }
   ],
   "source": [
    "churn_rate_no_phone_grouped_df = spark.sql(\n",
    "\"\"\"\n",
    "SELECT \n",
    "    Churn,\n",
    "    COUNT(*) AS customer_count,\n",
    "    SUM(CASE WHEN Churn = 'Yes' THEN 1 ELSE 0 END) / COUNT(*) AS churn_rate\n",
    "FROM \n",
    "    churn_data\n",
    "GROUP BY \n",
    "    Churn, PhoneService\n",
    "ORDER BY \n",
    "    Churn\n",
    "\"\"\")\n",
    "\n",
    "churn_rate_no_phone_grouped_df.show()\n"
   ]
  },
  {
   "cell_type": "markdown",
   "id": "591c3943",
   "metadata": {},
   "source": [
    "#### m) Understand the relationship between payment methods and contract types on customer churn. This query will help you discover which combinations are most prone to churn."
   ]
  },
  {
   "cell_type": "code",
   "execution_count": 34,
   "id": "f1329b55",
   "metadata": {},
   "outputs": [
    {
     "name": "stdout",
     "output_type": "stream",
     "text": [
      "+--------------------+--------------+--------------+----------------+------------------+\n",
      "|       PaymentMethod|      Contract|TotalCustomers|ChurnedCustomers|         ChurnRate|\n",
      "+--------------------+--------------+--------------+----------------+------------------+\n",
      "|    Electronic check|Month-to-month|          1850|             994|53.729729729729726|\n",
      "|Bank transfer (au...|Month-to-month|           589|             201|34.125636672325975|\n",
      "|Credit card (auto...|Month-to-month|           543|             178| 32.78084714548803|\n",
      "|        Mailed check|Month-to-month|           893|             282| 31.57894736842105|\n",
      "|    Electronic check|      One year|           347|              64|18.443804034582133|\n",
      "|Credit card (auto...|      One year|           398|              41|10.301507537688442|\n",
      "|Bank transfer (au...|      One year|           391|              38| 9.718670076726342|\n",
      "|    Electronic check|      Two year|           168|              13| 7.738095238095238|\n",
      "|        Mailed check|      One year|           337|              23| 6.824925816023739|\n",
      "|Bank transfer (au...|      Two year|           564|              19| 3.368794326241135|\n",
      "|Credit card (auto...|      Two year|           581|              13|2.2375215146299485|\n",
      "|        Mailed check|      Two year|           382|               3|0.7853403141361256|\n",
      "+--------------------+--------------+--------------+----------------+------------------+\n",
      "\n"
     ]
    }
   ],
   "source": [
    "churn_analysis_result = spark.sql(\"\"\"\n",
    "SELECT \n",
    "    PaymentMethod, \n",
    "    Contract, \n",
    "    COUNT(*) AS TotalCustomers,\n",
    "    SUM(CASE WHEN Churn = 'Yes' THEN 1 ELSE 0 END) AS ChurnedCustomers,\n",
    "    (SUM(CASE WHEN Churn = 'Yes' THEN 1 ELSE 0 END) / COUNT(*)) * 100 AS ChurnRate\n",
    "FROM \n",
    "    churn_data\n",
    "GROUP BY \n",
    "    PaymentMethod, \n",
    "    Contract\n",
    "ORDER BY \n",
    "    ChurnRate DESC\n",
    "\"\"\")\n",
    "\n",
    "churn_analysis_result.show()"
   ]
  },
  {
   "cell_type": "code",
   "execution_count": 35,
   "id": "a1510455",
   "metadata": {},
   "outputs": [
    {
     "data": {
      "image/png": "[encoded data removed]",
      "text/plain": [
       "<Figure size 864x432 with 1 Axes>"
      ]
     },
     "metadata": {
      "needs_background": "light"
     },
     "output_type": "display_data"
    }
   ],
   "source": [
    "churn_analysis_df = churn_analysis_result.toPandas()\n",
    "\n",
    "plt.figure(figsize=(12, 6))\n",
    "\n",
    "sns.barplot(data=churn_analysis_df, x='ChurnRate', y='PaymentMethod', hue='Contract')\n",
    "\n",
    "plt.title('Churn Rate by Payment Method and Contract Type')\n",
    "plt.xlabel('Churn Rate (%)')\n",
    "plt.ylabel('Payment Method')\n",
    "plt.legend(title='Contract Type')\n",
    "plt.xlim(0, 100)  \n",
    "\n",
    "plt.show()"
   ]
  },
  {
   "cell_type": "markdown",
   "id": "006975cb",
   "metadata": {},
   "source": [
    "#### n) Analyze how customer churn is affected by senior citizen status and whether the customer has dependents."
   ]
  },
  {
   "cell_type": "code",
   "execution_count": 36,
   "id": "9679828b",
   "metadata": {},
   "outputs": [
    {
     "name": "stdout",
     "output_type": "stream",
     "text": [
      "+-------------+----------+--------------+----------------+------------------+\n",
      "|SeniorCitizen|Dependents|TotalCustomers|ChurnedCustomers|         ChurnRate|\n",
      "+-------------+----------+--------------+----------------+------------------+\n",
      "|            1|        No|          1051|             454| 43.19695528068506|\n",
      "|            0|        No|          3882|            1089|28.052550231839255|\n",
      "|            1|       Yes|            91|              22|24.175824175824175|\n",
      "|            0|       Yes|          2019|             304|15.056958890539871|\n",
      "+-------------+----------+--------------+----------------+------------------+\n",
      "\n"
     ]
    }
   ],
   "source": [
    "churn_senior_dependents_result = spark.sql(\"\"\"\n",
    "SELECT \n",
    "    SeniorCitizen, \n",
    "    Dependents, \n",
    "    COUNT(*) AS TotalCustomers,\n",
    "    SUM(CASE WHEN Churn = 'Yes' THEN 1 ELSE 0 END) AS ChurnedCustomers,\n",
    "    (SUM(CASE WHEN Churn = 'Yes' THEN 1 ELSE 0 END) / COUNT(*)) * 100 AS ChurnRate\n",
    "FROM \n",
    "    churn_data\n",
    "GROUP BY \n",
    "    SeniorCitizen, \n",
    "    Dependents\n",
    "ORDER BY \n",
    "    ChurnRate DESC\n",
    "\"\"\")\n",
    "\n",
    "churn_senior_dependents_result.show()\n"
   ]
  },
  {
   "cell_type": "code",
   "execution_count": 37,
   "id": "0f22a2e2",
   "metadata": {
    "scrolled": true
   },
   "outputs": [
    {
     "data": {
      "image/png": "[encoded data removed]",
      "text/plain": [
       "<Figure size 720x432 with 1 Axes>"
      ]
     },
     "metadata": {
      "needs_background": "light"
     },
     "output_type": "display_data"
    }
   ],
   "source": [
    "churn_senior_dependents_df = churn_senior_dependents_result.toPandas()\n",
    "\n",
    "# Convert SeniorCitizen and Dependents for better readability in the plot\n",
    "churn_senior_dependents_df['SeniorCitizen'] = churn_senior_dependents_df['SeniorCitizen'].replace({0: 'No', 1: 'Yes'})\n",
    "churn_senior_dependents_df['Dependents'] = churn_senior_dependents_df['Dependents'].replace({'Yes': 'Yes', 'No': 'No'})\n",
    "\n",
    "# Set the size of the plot\n",
    "plt.figure(figsize=(10, 6))\n",
    "\n",
    "# Create a bar plot\n",
    "sns.barplot(data=churn_senior_dependents_df, \n",
    "            x='ChurnRate', \n",
    "            y='SeniorCitizen', \n",
    "            hue='Dependents', \n",
    "            palette='muted')\n",
    "\n",
    "# Set the title and labels\n",
    "plt.title('Churn Rate by Senior Citizen Status and Dependents')\n",
    "plt.xlabel('Churn Rate (%)')\n",
    "plt.ylabel('Senior Citizen Status')\n",
    "plt.legend(title='Dependents')\n",
    "plt.xlim(0, 100)  # Set x-axis limits to show percentage\n",
    "\n",
    "# Show the plot\n",
    "plt.show()"
   ]
  },
  {
   "cell_type": "markdown",
   "id": "6f35446e",
   "metadata": {},
   "source": [
    "#### o) Explore whether subscribing to streaming services like Streaming TV and Streaming Movies influences the churn rate."
   ]
  },
  {
   "cell_type": "code",
   "execution_count": 38,
   "id": "f8f1f885",
   "metadata": {},
   "outputs": [
    {
     "name": "stdout",
     "output_type": "stream",
     "text": [
      "+-------------------+-------------------+--------------+----------------+------------------+\n",
      "|        StreamingTV|    StreamingMovies|TotalCustomers|ChurnedCustomers|         ChurnRate|\n",
      "+-------------------+-------------------+--------------+----------------+------------------+\n",
      "|                 No|                 No|          2018|             695|  34.4400396432111|\n",
      "|                Yes|                 No|           767|             243|31.681877444589308|\n",
      "|                 No|                Yes|           792|             247|31.186868686868685|\n",
      "|                Yes|                Yes|          1940|             571| 29.43298969072165|\n",
      "|No internet service|No internet service|          1526|             113| 7.404980340760157|\n",
      "+-------------------+-------------------+--------------+----------------+------------------+\n",
      "\n"
     ]
    }
   ],
   "source": [
    "churn_streaming_query = \"\"\"\n",
    "SELECT \n",
    "    StreamingTV, \n",
    "    StreamingMovies, \n",
    "    COUNT(*) AS TotalCustomers,\n",
    "    SUM(CASE WHEN Churn = 'Yes' THEN 1 ELSE 0 END) AS ChurnedCustomers,\n",
    "    (SUM(CASE WHEN Churn = 'Yes' THEN 1 ELSE 0 END) / COUNT(*)) * 100 AS ChurnRate\n",
    "FROM \n",
    "    churn_data\n",
    "GROUP BY \n",
    "    StreamingTV, \n",
    "    StreamingMovies\n",
    "ORDER BY \n",
    "    ChurnRate DESC\n",
    "\"\"\"\n",
    "\n",
    "# Execute the query\n",
    "churn_streaming_result = spark.sql(churn_streaming_query)\n",
    "\n",
    "# Show the results\n",
    "churn_streaming_result.show()\n"
   ]
  },
  {
   "cell_type": "code",
   "execution_count": 39,
   "id": "db929ffc",
   "metadata": {},
   "outputs": [
    {
     "data": {
      "image/png": "[encoded data removed]",
      "text/plain": [
       "<Figure size 864x432 with 1 Axes>"
      ]
     },
     "metadata": {
      "needs_background": "light"
     },
     "output_type": "display_data"
    }
   ],
   "source": [
    "churn_streaming_df = churn_streaming_result.toPandas()\n",
    "\n",
    "plt.figure(figsize=(12, 6))\n",
    "\n",
    "sns.barplot(data=churn_streaming_df, \n",
    "            x='ChurnRate', \n",
    "            y='StreamingTV', \n",
    "            hue='StreamingMovies', \n",
    "            palette='pastel')\n",
    "\n",
    "plt.title('Churn Rate by Streaming TV and Streaming Movies Subscription')\n",
    "plt.xlabel('Churn Rate (%)')\n",
    "plt.ylabel('Streaming TV Subscription')\n",
    "plt.legend(title='Streaming Movies')\n",
    "plt.xlim(0, 100)  \n",
    "\n",
    "plt.show()\n"
   ]
  },
  {
   "cell_type": "markdown",
   "id": "d32f1dba",
   "metadata": {},
   "source": [
    "#### p) Understand how tenure and MonthlyCharges differ between churned and non-churned customers. This can provide insights into the behavior of long-term customers."
   ]
  },
  {
   "cell_type": "code",
   "execution_count": 40,
   "id": "540a01a4",
   "metadata": {},
   "outputs": [
    {
     "name": "stdout",
     "output_type": "stream",
     "text": [
      "+-----+------------------+---------------------+--------------+\n",
      "|Churn|     AverageTenure|AverageMonthlyCharges|TotalCustomers|\n",
      "+-----+------------------+---------------------+--------------+\n",
      "|  Yes|17.979133226324237|     74.4413322632423|          1869|\n",
      "|   No| 37.56996521066873|     61.2651236953999|          5174|\n",
      "+-----+------------------+---------------------+--------------+\n",
      "\n"
     ]
    }
   ],
   "source": [
    "tenure_charges_result = spark.sql(\"\"\"\n",
    "SELECT \n",
    "    Churn, \n",
    "    AVG(tenure) AS AverageTenure,\n",
    "    AVG(MonthlyCharges) AS AverageMonthlyCharges,\n",
    "    COUNT(*) AS TotalCustomers\n",
    "FROM \n",
    "    churn_data\n",
    "GROUP BY \n",
    "    Churn\n",
    "ORDER BY \n",
    "    Churn DESC\n",
    "\"\"\")\n",
    "\n",
    "\n",
    "tenure_charges_result.show()"
   ]
  },
  {
   "cell_type": "code",
   "execution_count": 41,
   "id": "d394356a",
   "metadata": {},
   "outputs": [
    {
     "data": {
      "image/png": "[encoded data removed]",
      "text/plain": [
       "<Figure size 1008x432 with 2 Axes>"
      ]
     },
     "metadata": {
      "needs_background": "light"
     },
     "output_type": "display_data"
    }
   ],
   "source": [
    "tenure_charges_df = tenure_charges_result.toPandas()\n",
    "\n",
    "# Set up the figure for the plots\n",
    "fig, axes = plt.subplots(1, 2, figsize=(14, 6))\n",
    "\n",
    "# Plot for Average Tenure\n",
    "sns.barplot(data=tenure_charges_df, x='Churn', y='AverageTenure', ax=axes[0], palette='viridis')\n",
    "axes[0].set_title('Average Tenure by Churn Status')\n",
    "axes[0].set_xlabel('Churn Status')\n",
    "axes[0].set_ylabel('Average Tenure (months)')\n",
    "\n",
    "# Plot for Average Monthly Charges\n",
    "sns.barplot(data=tenure_charges_df, x='Churn', y='AverageMonthlyCharges', ax=axes[1], palette='viridis')\n",
    "axes[1].set_title('Average Monthly Charges by Churn Status')\n",
    "axes[1].set_xlabel('Churn Status')\n",
    "axes[1].set_ylabel('Average Monthly Charges ($)')\n",
    "\n",
    "# Show the plots\n",
    "plt.tight_layout()\n",
    "plt.show()\n"
   ]
  },
  {
   "cell_type": "markdown",
   "id": "e2ee8753",
   "metadata": {},
   "source": [
    "#### q) Compare monthly charges and churn rates between newer customers and long-time customers."
   ]
  },
  {
   "cell_type": "code",
   "execution_count": 42,
   "id": "bce409b1",
   "metadata": {},
   "outputs": [
    {
     "name": "stdout",
     "output_type": "stream",
     "text": [
      "+-------------------+--------------+----------------+---------------------+------------------+\n",
      "|       CustomerType|TotalCustomers|ChurnedCustomers|AverageMonthlyCharges|         ChurnRate|\n",
      "+-------------------+--------------+----------------+---------------------+------------------+\n",
      "|Long-Time Customers|          4974|             870|     68.3829312424606|17.490952955367913|\n",
      "|    Newer Customers|          2069|             999|    56.05601739970993| 48.28419526341228|\n",
      "+-------------------+--------------+----------------+---------------------+------------------+\n",
      "\n"
     ]
    }
   ],
   "source": [
    "churn_tenure_comparison_result = spark.sql(\"\"\"\n",
    "SELECT \n",
    "    CASE \n",
    "        WHEN tenure < 12 THEN 'Newer Customers' \n",
    "        ELSE 'Long-Time Customers' \n",
    "    END AS CustomerType,\n",
    "    COUNT(*) AS TotalCustomers,\n",
    "    SUM(CASE WHEN Churn = 'Yes' THEN 1 ELSE 0 END) AS ChurnedCustomers,\n",
    "    AVG(MonthlyCharges) AS AverageMonthlyCharges,\n",
    "    (SUM(CASE WHEN Churn = 'Yes' THEN 1 ELSE 0 END) / COUNT(*)) * 100 AS ChurnRate\n",
    "FROM \n",
    "    churn_data\n",
    "GROUP BY \n",
    "    CustomerType\n",
    "ORDER BY \n",
    "    CustomerType\n",
    "\"\"\")\n",
    "\n",
    "churn_tenure_comparison_result.show()"
   ]
  },
  {
   "cell_type": "code",
   "execution_count": 43,
   "id": "0dbaa049",
   "metadata": {},
   "outputs": [
    {
     "data": {
      "image/png": "[encoded data removed]",
      "text/plain": [
       "<Figure size 1008x432 with 2 Axes>"
      ]
     },
     "metadata": {
      "needs_background": "light"
     },
     "output_type": "display_data"
    }
   ],
   "source": [
    "churn_tenure_df = churn_tenure_comparison_result.toPandas()\n",
    "\n",
    "# Set up the figure for the plots\n",
    "fig, axes = plt.subplots(1, 2, figsize=(14, 6))\n",
    "\n",
    "# Plot for Average Monthly Charges\n",
    "sns.barplot(data=churn_tenure_df, x='CustomerType', y='AverageMonthlyCharges', ax=axes[0], palette='coolwarm')\n",
    "axes[0].set_title('Average Monthly Charges by Customer Type')\n",
    "axes[0].set_xlabel('Customer Type')\n",
    "axes[0].set_ylabel('Average Monthly Charges ($)')\n",
    "\n",
    "# Plot for Churn Rate\n",
    "sns.barplot(data=churn_tenure_df, x='CustomerType', y='ChurnRate', ax=axes[1], palette='coolwarm')\n",
    "axes[1].set_title('Churn Rate by Customer Type')\n",
    "axes[1].set_xlabel('Customer Type')\n",
    "axes[1].set_ylabel('Churn Rate (%)')\n",
    "\n",
    "# Show the plots\n",
    "plt.tight_layout()\n",
    "plt.show()"
   ]
  },
  {
   "cell_type": "markdown",
   "id": "ea4ad51c",
   "metadata": {},
   "source": [
    "#### r) What is the correlation between senior citizen status and churn rate?"
   ]
  },
  {
   "cell_type": "code",
   "execution_count": 44,
   "id": "88663f1d",
   "metadata": {},
   "outputs": [
    {
     "name": "stdout",
     "output_type": "stream",
     "text": [
      "+-------------+--------------+----------------+------------------+\n",
      "|SeniorCitizen|TotalCustomers|ChurnedCustomers|         ChurnRate|\n",
      "+-------------+--------------+----------------+------------------+\n",
      "|            0|          5901|            1393|23.606168446026096|\n",
      "|            1|          1142|             476| 41.68126094570928|\n",
      "+-------------+--------------+----------------+------------------+\n",
      "\n"
     ]
    }
   ],
   "source": [
    "senior_churn_query = \"\"\"\n",
    "SELECT \n",
    "    SeniorCitizen, \n",
    "    COUNT(*) AS TotalCustomers,\n",
    "    SUM(CASE WHEN Churn = 'Yes' THEN 1 ELSE 0 END) AS ChurnedCustomers,\n",
    "    (SUM(CASE WHEN Churn = 'Yes' THEN 1 ELSE 0 END) / COUNT(*)) * 100 AS ChurnRate\n",
    "FROM \n",
    "    churn_data\n",
    "GROUP BY \n",
    "    SeniorCitizen\n",
    "ORDER BY \n",
    "    SeniorCitizen\n",
    "\"\"\"\n",
    "\n",
    "# Execute the query\n",
    "senior_churn_result = spark.sql(senior_churn_query)\n",
    "\n",
    "# Show the results\n",
    "senior_churn_result.show()"
   ]
  },
  {
   "cell_type": "code",
   "execution_count": 45,
   "id": "6c5dac9b",
   "metadata": {},
   "outputs": [
    {
     "data": {
      "image/png": "[encoded data removed]",
      "text/plain": [
       "<Figure size 576x360 with 1 Axes>"
      ]
     },
     "metadata": {
      "needs_background": "light"
     },
     "output_type": "display_data"
    }
   ],
   "source": [
    "senior_churn_df = senior_churn_result.toPandas()\n",
    "\n",
    "# Convert SeniorCitizen for better readability in the plot\n",
    "senior_churn_df['SeniorCitizen'] = senior_churn_df['SeniorCitizen'].replace({0: 'No', 1: 'Yes'})\n",
    "\n",
    "# Set up the plot\n",
    "plt.figure(figsize=(8, 5))\n",
    "\n",
    "# Create a bar plot\n",
    "sns.barplot(data=senior_churn_df, \n",
    "            x='SeniorCitizen', \n",
    "            y='ChurnRate', \n",
    "            palette='Blues')\n",
    "\n",
    "# Set the title and labels\n",
    "plt.title('Churn Rate by Senior Citizen Status')\n",
    "plt.xlabel('Senior Citizen Status')\n",
    "plt.ylabel('Churn Rate (%)')\n",
    "plt.ylim(0, 100)  # Set y-axis limits to show percentage\n",
    "\n",
    "# Show the plot\n",
    "plt.show()"
   ]
  },
  {
   "cell_type": "markdown",
   "id": "fca24fef",
   "metadata": {},
   "source": [
    "#### s) Partition customers based on whether they are senior citizens and divide them into 5 groups based on tenure. (Use NTILE.)"
   ]
  },
  {
   "cell_type": "code",
   "execution_count": 46,
   "id": "035e344c",
   "metadata": {},
   "outputs": [
    {
     "name": "stdout",
     "output_type": "stream",
     "text": [
      "+----------+-------------+------+-----------+\n",
      "|customerID|SeniorCitizen|tenure|TenureGroup|\n",
      "+----------+-------------+------+-----------+\n",
      "|2775-SEFEE|            0|     0|          1|\n",
      "|2923-ARZLG|            0|     0|          1|\n",
      "|5709-LVOEQ|            0|     0|          1|\n",
      "|3213-VVOLG|            0|     0|          1|\n",
      "|2520-SGTTA|            0|     0|          1|\n",
      "|4367-NUYAO|            0|     0|          1|\n",
      "|7644-OMVMY|            0|     0|          1|\n",
      "|4075-WKNIU|            0|     0|          1|\n",
      "|4472-LVYGI|            0|     0|          1|\n",
      "|3115-CZMZD|            0|     0|          1|\n",
      "|1371-DWPAZ|            0|     0|          1|\n",
      "|8665-UTDHZ|            0|     1|          1|\n",
      "|1066-JKSGK|            0|     1|          1|\n",
      "|3679-XASPY|            0|     1|          1|\n",
      "|7590-VHVEG|            0|     1|          1|\n",
      "|6380-ARCEH|            0|     1|          1|\n",
      "|2273-QCKXA|            0|     1|          1|\n",
      "|5919-TMRGD|            0|     1|          1|\n",
      "|7310-EGVHZ|            0|     1|          1|\n",
      "|3091-FYHKI|            0|     1|          1|\n",
      "+----------+-------------+------+-----------+\n",
      "only showing top 20 rows\n",
      "\n"
     ]
    }
   ],
   "source": [
    "partitioned_customers_query = \"\"\"\n",
    "SELECT \n",
    "    customerID,\n",
    "    SeniorCitizen,\n",
    "    tenure,\n",
    "    NTILE(5) OVER (PARTITION BY SeniorCitizen ORDER BY tenure) AS TenureGroup\n",
    "FROM \n",
    "    churn_data\n",
    "ORDER BY \n",
    "    SeniorCitizen, TenureGroup, tenure\n",
    "\"\"\"\n",
    "\n",
    "# Execute the query\n",
    "partitioned_customers_result = spark.sql(partitioned_customers_query)\n",
    "\n",
    "# Show the results\n",
    "partitioned_customers_result.show()"
   ]
  },
  {
   "cell_type": "code",
   "execution_count": null,
   "id": "30ff3506",
   "metadata": {},
   "outputs": [],
   "source": []
  },
  {
   "cell_type": "markdown",
   "id": "c122bae2",
   "metadata": {},
   "source": [
    "#### t) Use PERCENT_RANK to identify the top 5% of customers by MonthlyCharges."
   ]
  },
  {
   "cell_type": "code",
   "execution_count": 62,
   "id": "2ddd98c4",
   "metadata": {},
   "outputs": [
    {
     "name": "stdout",
     "output_type": "stream",
     "text": [
      "+----------+--------------+------------+---------------+---------------------+\n",
      "|CustomerID|MonthlyCharges|TotalCharges|InternetService|round(PercentRank, 4)|\n",
      "+----------+--------------+------------+---------------+---------------------+\n",
      "|7569-NMZYQ|        118.75|     8672.45|    Fiber optic|                  0.0|\n",
      "|8984-HPEMB|        118.65|      8477.6|    Fiber optic|               1.0E-4|\n",
      "|5989-AXPUC|         118.6|     7990.05|    Fiber optic|               3.0E-4|\n",
      "|5734-EJKXG|         118.6|      7365.7|    Fiber optic|               3.0E-4|\n",
      "|8199-ZLLSA|        118.35|     7804.15|    Fiber optic|               6.0E-4|\n",
      "|9924-JPRMC|         118.2|     8547.15|    Fiber optic|               7.0E-4|\n",
      "|2889-FPWRM|         117.8|      8684.8|    Fiber optic|               9.0E-4|\n",
      "|3810-DVDQQ|         117.6|      8308.9|    Fiber optic|                0.001|\n",
      "|9739-JLPQJ|         117.5|      8670.1|    Fiber optic|               0.0011|\n",
      "|2302-ANTDP|        117.45|      5438.9|    Fiber optic|               0.0013|\n",
      "|6904-JLBGY|        117.35|     8436.25|    Fiber optic|               0.0014|\n",
      "|4282-MSACW|         117.2|     8035.95|    Fiber optic|               0.0016|\n",
      "|6650-BWFRT|        117.15|      8529.5|    Fiber optic|               0.0017|\n",
      "|9788-HNGUT|        116.95|      8594.4|    Fiber optic|               0.0018|\n",
      "|1488-PBLJN|        116.85|      8477.7|    Fiber optic|                0.002|\n",
      "|0017-IUDMW|         116.8|     8456.75|    Fiber optic|               0.0021|\n",
      "|8628-MFKAX|        116.75|     8277.05|    Fiber optic|               0.0023|\n",
      "|3680-CTHUH|         116.6|      7049.5|    Fiber optic|               0.0024|\n",
      "|3258-ZKPAI|         116.6|     8337.45|    Fiber optic|               0.0024|\n",
      "|3795-CAWEX|        116.55|      8152.3|    Fiber optic|               0.0027|\n",
      "+----------+--------------+------------+---------------+---------------------+\n",
      "only showing top 20 rows\n",
      "\n"
     ]
    }
   ],
   "source": [
    "\n",
    "top_5_percent_customers_result = spark.sql(\"\"\"\n",
    "SELECT \n",
    "    CustomerID, MonthlyCharges,TotalCharges, InternetService, ROUND(PercentRank, 4)\n",
    "FROM(\n",
    "SELECT \n",
    "    customerID,\n",
    "    MonthlyCharges,\n",
    "    TotalCharges,\n",
    "    InternetService,\n",
    "    PERCENT_RANK() OVER (ORDER BY MonthlyCharges DESC) AS PercentRank\n",
    "FROM \n",
    "    churn_data\n",
    "ORDER BY \n",
    "    MonthlyCharges DESC\n",
    ") AS _\n",
    "WHERE PercentRank <= 0.05\n",
    "\"\"\")\n",
    "\n",
    "top_5_percent_customers_result.show()"
   ]
  },
  {
   "cell_type": "markdown",
   "id": "aabfb9d1",
   "metadata": {},
   "source": [
    "###### u) Find customers who fall within the top 5% of the distribution based on monthly charges. Compare total charges with the next customer in the same internet service type, based on monthly charges."
   ]
  },
  {
   "cell_type": "code",
   "execution_count": 66,
   "id": "5bc11afe",
   "metadata": {},
   "outputs": [
    {
     "name": "stdout",
     "output_type": "stream",
     "text": [
      "+----------+--------------+---------------+------------+--------------------+-------------------+\n",
      "|customerID|MonthlyCharges|InternetService|TotalCharges|PreviousTotalCharges|         Difference|\n",
      "+----------+--------------+---------------+------------+--------------------+-------------------+\n",
      "|8024-XNAFQ|         107.4|    Fiber optic|     7748.75|                null|               null|\n",
      "|6394-MFYNG|         107.4|    Fiber optic|      5121.3|             7748.75|            2627.45|\n",
      "|9036-CSKBW|        107.45|    Fiber optic|      5680.9|              5121.3| -559.5999999999995|\n",
      "|4056-QHXHZ|        107.45|    Fiber optic|      7576.7|              5680.9|-1895.8000000000002|\n",
      "|5336-UFNZP|        107.45|    Fiber optic|      7047.5|              7576.7|  529.1999999999998|\n",
      "|8265-HKSOW|        107.45|    Fiber optic|      7658.3|              7047.5| -610.8000000000002|\n",
      "|5954-BDFSG|         107.5|    Fiber optic|      7853.7|              7658.3|-195.39999999999964|\n",
      "|8800-ZKRFW|         107.5|    Fiber optic|      3242.5|              7853.7|             4611.2|\n",
      "|2886-KEFUM|         107.5|    Fiber optic|     6873.75|              3242.5|           -3631.25|\n",
      "|2615-YVMYX|         107.5|    Fiber optic|     7713.55|             6873.75| -839.8000000000002|\n",
      "|0114-PEGZZ|        107.55|    Fiber optic|      3645.5|             7713.55|            4068.05|\n",
      "|8327-LZKAS|        107.55|    Fiber optic|      4533.9|              3645.5| -888.3999999999996|\n",
      "|4683-WYDOU|         107.6|    Fiber optic|      6912.7|              4533.9|            -2378.8|\n",
      "|3096-YXENJ|        107.65|    Fiber optic|     7082.85|              6912.7|-170.15000000000055|\n",
      "|8915-NNTRC|         107.7|    Fiber optic|      7919.8|             7082.85| -836.9499999999998|\n",
      "|7821-DPRQE|         107.7|    Fiber optic|      7320.9|              7919.8|  598.9000000000005|\n",
      "|1698-XFZCI|        107.75|    Fiber optic|      6521.9|              7320.9|              799.0|\n",
      "|2000-MPKCA|        107.75|    Fiber optic|     6332.75|              6521.9| 189.14999999999964|\n",
      "|1833-TCXKK|        107.75|    Fiber optic|      4882.8|             6332.75| 1449.9499999999998|\n",
      "|9844-FELAJ|         107.9|    Fiber optic|     7475.85|              4882.8|           -2593.05|\n",
      "+----------+--------------+---------------+------------+--------------------+-------------------+\n",
      "only showing top 20 rows\n",
      "\n"
     ]
    }
   ],
   "source": [
    "top_5_percent_customers_result.createOrReplaceTempView('top_5_percent')\n",
    "\n",
    "compare_charges_with_lag = spark.sql(\"\"\"\n",
    "SELECT\n",
    "    *,\n",
    "    PreviousTotalCharges - TotalCharges as Difference\n",
    "FROM\n",
    "(\n",
    "    SELECT \n",
    "        customerID,\n",
    "        MonthlyCharges,\n",
    "        InternetService,\n",
    "        TotalCharges,\n",
    "        LAG(TotalCharges) OVER (PARTITION BY InternetService ORDER BY MonthlyCharges) AS PreviousTotalCharges\n",
    "    FROM \n",
    "        top_5_percent\n",
    ") AS _\n",
    "\"\"\")\n",
    "\n",
    "compare_charges_with_lag.show()"
   ]
  },
  {
   "cell_type": "markdown",
   "id": "afbd563d",
   "metadata": {},
   "source": [
    "#### v) Find the top 5 customers with the highest MonthlyCharges within each Contract type."
   ]
  },
  {
   "cell_type": "code",
   "execution_count": 69,
   "id": "e46622b7",
   "metadata": {},
   "outputs": [
    {
     "name": "stdout",
     "output_type": "stream",
     "text": [
      "+----------+--------------+--------------+----+\n",
      "|customerID|MonthlyCharges|      Contract|Rank|\n",
      "+----------+--------------+--------------+----+\n",
      "|2302-ANTDP|        117.45|Month-to-month|   1|\n",
      "|8016-NCFVO|         116.5|Month-to-month|   2|\n",
      "|9659-QEQSY|        115.65|Month-to-month|   3|\n",
      "|4361-BKAXE|         114.5|Month-to-month|   4|\n",
      "|6710-HSJRD|         114.1|Month-to-month|   5|\n",
      "|5734-EJKXG|         118.6|      One year|   1|\n",
      "|8199-ZLLSA|        118.35|      One year|   2|\n",
      "|2889-FPWRM|         117.8|      One year|   3|\n",
      "|4282-MSACW|         117.2|      One year|   4|\n",
      "|3680-CTHUH|         116.6|      One year|   5|\n",
      "|7569-NMZYQ|        118.75|      Two year|   1|\n",
      "|8984-HPEMB|        118.65|      Two year|   2|\n",
      "|5989-AXPUC|         118.6|      Two year|   3|\n",
      "|9924-JPRMC|         118.2|      Two year|   4|\n",
      "|3810-DVDQQ|         117.6|      Two year|   5|\n",
      "+----------+--------------+--------------+----+\n",
      "\n"
     ]
    }
   ],
   "source": [
    "top_customers_by_contract_result = spark.sql(\"\"\"\n",
    "\n",
    "SELECT *\n",
    "FROM \n",
    "(SELECT \n",
    "        customerID,\n",
    "        MonthlyCharges,\n",
    "        Contract,\n",
    "        ROW_NUMBER() OVER (PARTITION BY Contract ORDER BY MonthlyCharges DESC) AS Rank\n",
    "    FROM \n",
    "        churn_data ) AS _\n",
    "WHERE Rank <= 5\n",
    "ORDER BY Contract, MonthlyCharges DESC\n",
    "\"\"\")\n",
    "\n",
    "top_customers_by_contract_result.show()\n"
   ]
  },
  {
   "cell_type": "markdown",
   "id": "745c2b3e",
   "metadata": {},
   "source": [
    "#### w) Calculate the churn rate in each Contract type and rank the contracts by churn rate."
   ]
  },
  {
   "cell_type": "code",
   "execution_count": 73,
   "id": "0f3e17b8",
   "metadata": {},
   "outputs": [
    {
     "name": "stdout",
     "output_type": "stream",
     "text": [
      "+--------------+------------------+----+\n",
      "|      Contract|         ChurnRate|Rank|\n",
      "+--------------+------------------+----+\n",
      "|Month-to-month| 42.70967741935484|   1|\n",
      "|      One year|11.269517990495586|   2|\n",
      "|      Two year| 2.831858407079646|   3|\n",
      "+--------------+------------------+----+\n",
      "\n"
     ]
    }
   ],
   "source": [
    "churn_rate_by_contract_query = \"\"\"\n",
    "WITH ChurnRates AS (\n",
    "    SELECT \n",
    "        Contract,\n",
    "        COUNT(*) AS TotalCustomers,\n",
    "        SUM(CASE WHEN Churn = 'Yes' THEN 1 ELSE 0 END) AS ChurnedCustomers,\n",
    "        (SUM(CASE WHEN Churn = 'Yes' THEN 1 ELSE 0 END) / COUNT(*)) * 100 AS ChurnRate\n",
    "    FROM churn_data\n",
    "    GROUP BY Contract\n",
    ")\n",
    "SELECT \n",
    "    Contract,\n",
    "    ChurnRate,\n",
    "    RANK() OVER (ORDER BY ChurnRate DESC) AS Rank\n",
    "FROM ChurnRates\n",
    "ORDER BY Rank\n",
    "\"\"\"\n",
    "\n",
    "churn_rate_by_contract_result = spark.sql(churn_rate_by_contract_query)\n",
    "\n",
    "churn_rate_by_contract_result.show()"
   ]
  },
  {
   "cell_type": "markdown",
   "id": "11587367",
   "metadata": {},
   "source": [
    "#### x) Perform an in-depth analysis of customers using window functions to understand customer rankings, distribution, and trends in charges and tenure."
   ]
  },
  {
   "cell_type": "code",
   "execution_count": null,
   "id": "c228b89c",
   "metadata": {},
   "outputs": [],
   "source": []
  }
 ],
 "metadata": {
  "kernelspec": {
   "display_name": "Python 3",
   "language": "python",
   "name": "python3"
  },
  "language_info": {
   "codemirror_mode": {
    "name": "ipython",
    "version": 3
   },
   "file_extension": ".py",
   "mimetype": "text/x-python",
   "name": "python",
   "nbconvert_exporter": "python",
   "pygments_lexer": "ipython3",
   "version": "3.6.9"
  }
 },
 "nbformat": 4,
 "nbformat_minor": 5
}
