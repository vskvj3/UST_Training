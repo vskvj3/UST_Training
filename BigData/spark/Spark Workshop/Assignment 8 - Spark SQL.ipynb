{
 "cells": [
  {
   "cell_type": "code",
   "execution_count": 30,
   "id": "bd7989f2",
   "metadata": {},
   "outputs": [],
   "source": [
    "import pandas as pd\n",
    "import matplotlib.pyplot as plt\n",
    "import seaborn as sns"
   ]
  },
  {
   "cell_type": "code",
   "execution_count": null,
   "id": "f5e6f111",
   "metadata": {},
   "outputs": [],
   "source": [
    "sc.stop()"
   ]
  },
  {
   "cell_type": "code",
   "execution_count": 2,
   "id": "9ddb4d52",
   "metadata": {},
   "outputs": [],
   "source": [
    "spark.stop()"
   ]
  },
  {
   "cell_type": "code",
   "execution_count": 3,
   "id": "0ec27b9f",
   "metadata": {},
   "outputs": [],
   "source": [
    "from pyspark import SparkConf, SparkContext\n",
    "\n",
    "config = SparkConf().setAppName(\"SQLAssignmentSession\")\n",
    "sc = SparkContext(conf=config)"
   ]
  },
  {
   "cell_type": "code",
   "execution_count": 4,
   "id": "aeaf9340",
   "metadata": {},
   "outputs": [],
   "source": [
    "from pyspark.sql import SparkSession\n",
    "spark = SparkSession.builder.appName('SQLAssignmentSession').getOrCreate()"
   ]
  },
  {
   "cell_type": "code",
   "execution_count": 5,
   "id": "d72a169f",
   "metadata": {},
   "outputs": [
    {
     "data": {
      "text/html": [
       "\n",
       "            <div>\n",
       "                <p><b>SparkSession - hive</b></p>\n",
       "                \n",
       "        <div>\n",
       "            <p><b>SparkContext</b></p>\n",
       "\n",
       "            <p><a href=\"http://10.0.2.15:4041\">Spark UI</a></p>\n",
       "\n",
       "            <dl>\n",
       "              <dt>Version</dt>\n",
       "                <dd><code>v2.4.8</code></dd>\n",
       "              <dt>Master</dt>\n",
       "                <dd><code>local[*]</code></dd>\n",
       "              <dt>AppName</dt>\n",
       "                <dd><code>SQLAssignmentSession</code></dd>\n",
       "            </dl>\n",
       "        </div>\n",
       "        \n",
       "            </div>\n",
       "        "
      ],
      "text/plain": [
       "<pyspark.sql.session.SparkSession at 0x7f5adc723f98>"
      ]
     },
     "execution_count": 5,
     "metadata": {},
     "output_type": "execute_result"
    }
   ],
   "source": [
    "spark"
   ]
  },
  {
   "cell_type": "code",
   "execution_count": 6,
   "id": "bd437448",
   "metadata": {},
   "outputs": [],
   "source": [
    "churn_df = spark.read.csv('file:///home/hadoop/Downloads/Telco_Customer_Churn.csv', \n",
    "                            header=True,\n",
    "                            inferSchema=True)"
   ]
  },
  {
   "cell_type": "code",
   "execution_count": 7,
   "id": "7d949929",
   "metadata": {},
   "outputs": [
    {
     "data": {
      "text/plain": [
       "<bound method DataFrame.printSchema of DataFrame[customerID: string, gender: string, SeniorCitizen: int, Partner: string, Dependents: string, tenure: int, PhoneService: string, MultipleLines: string, InternetService: string, OnlineSecurity: string, OnlineBackup: string, DeviceProtection: string, TechSupport: string, StreamingTV: string, StreamingMovies: string, Contract: string, PaperlessBilling: string, PaymentMethod: string, MonthlyCharges: double, TotalCharges: string, Churn: string]>"
      ]
     },
     "execution_count": 7,
     "metadata": {},
     "output_type": "execute_result"
    }
   ],
   "source": [
    "churn_df.printSchema"
   ]
  },
  {
   "cell_type": "code",
   "execution_count": 8,
   "id": "bfa9fe2d",
   "metadata": {},
   "outputs": [
    {
     "data": {
      "text/plain": [
       "[Row(customerID=0, gender=0, SeniorCitizen=0, Partner=0, Dependents=0, tenure=0, PhoneService=0, MultipleLines=0, InternetService=0, OnlineSecurity=0, OnlineBackup=0, DeviceProtection=0, TechSupport=0, StreamingTV=0, StreamingMovies=0, Contract=0, PaperlessBilling=0, PaymentMethod=0, MonthlyCharges=0, TotalCharges=0, Churn=0)]"
      ]
     },
     "execution_count": 8,
     "metadata": {},
     "output_type": "execute_result"
    }
   ],
   "source": [
    "from pyspark.sql.functions import col, sum\n",
    "\n",
    "null_counts = churn_df.select([sum(col(c).isNull().cast(\"int\")).alias(c) for c in churn_df.columns])\n",
    "null_counts.collect()"
   ]
  },
  {
   "cell_type": "code",
   "execution_count": 9,
   "id": "b9b48cd7",
   "metadata": {},
   "outputs": [],
   "source": [
    "churn_df.createOrReplaceTempView('churn_data')"
   ]
  },
  {
   "cell_type": "code",
   "execution_count": 26,
   "id": "d62b42f4",
   "metadata": {},
   "outputs": [
    {
     "name": "stdout",
     "output_type": "stream",
     "text": [
      "+----+\n",
      "|rows|\n",
      "+----+\n",
      "|7043|\n",
      "+----+\n",
      "\n",
      "+----------------+\n",
      "|        col_name|\n",
      "+----------------+\n",
      "|      customerID|\n",
      "|          gender|\n",
      "|   SeniorCitizen|\n",
      "|         Partner|\n",
      "|      Dependents|\n",
      "|          tenure|\n",
      "|    PhoneService|\n",
      "|   MultipleLines|\n",
      "| InternetService|\n",
      "|  OnlineSecurity|\n",
      "|    OnlineBackup|\n",
      "|DeviceProtection|\n",
      "|     TechSupport|\n",
      "|     StreamingTV|\n",
      "| StreamingMovies|\n",
      "|        Contract|\n",
      "|PaperlessBilling|\n",
      "|   PaymentMethod|\n",
      "|  MonthlyCharges|\n",
      "|    TotalCharges|\n",
      "+----------------+\n",
      "only showing top 20 rows\n",
      "\n"
     ]
    }
   ],
   "source": [
    "spark.sql(\"\"\"\n",
    "SELECT count(*) as rows\n",
    "FROM churn_data\n",
    "\"\"\").show()\n",
    "\n",
    "spark.sql(f\"\"\"\n",
    " SHOW COLUMNS IN churn_data\n",
    "\"\"\").show()"
   ]
  },
  {
   "cell_type": "markdown",
   "id": "79045d0d",
   "metadata": {},
   "source": [
    "#### a) Analyze how customer retention varies based on how long the customer has stayed with the company (tenure)."
   ]
  },
  {
   "cell_type": "code",
   "execution_count": 62,
   "id": "14b55b54",
   "metadata": {
    "scrolled": false
   },
   "outputs": [],
   "source": [
    "churn_rate_df = spark.sql(\"\"\"\n",
    "SELECT \n",
    "    tenure,\n",
    "    COUNT(*) AS total_customers,\n",
    "    SUM(CASE WHEN Churn = 'Yes' THEN 1 ELSE 0 END) AS churned_customers,\n",
    "    SUM(CASE WHEN Churn = 'Yes' THEN 1 ELSE 0 END) / COUNT(*) AS churn_rate\n",
    "FROM churn_data\n",
    "GROUP BY tenure\n",
    "ORDER BY tenure\n",
    "\"\"\")"
   ]
  },
  {
   "cell_type": "code",
   "execution_count": 63,
   "id": "a7706413",
   "metadata": {
    "scrolled": true
   },
   "outputs": [
    {
     "data": {
      "image/png": "[encoded data removed]",
      "text/plain": [
       "<Figure size 720x432 with 1 Axes>"
      ]
     },
     "metadata": {
      "needs_background": "light"
     },
     "output_type": "display_data"
    }
   ],
   "source": [
    "churn_rate_pd = churn_rate_df.toPandas()\n",
    "\n",
    "plt.figure(figsize=(10, 6))\n",
    "sns.lineplot(x='tenure', y='churn_rate', data=churn_rate_pd, marker='o')\n",
    "\n",
    "plt.title('Customer Churn Rate by Tenure')\n",
    "plt.xlabel('Tenure (Months)')\n",
    "plt.ylabel('Churn Rate')\n",
    "plt.ylim(0, 1)  \n",
    "\n",
    "plt.show()"
   ]
  },
  {
   "cell_type": "markdown",
   "id": "1f7e50c6",
   "metadata": {},
   "source": [
    "**Insights**\n",
    "- We can see that the churn rate is quite high(0.8) during the initial 0-5 months, which indicates most of the users may stop the service shortly after signing up\n",
    "- But after the first months, there is a sharp decline the churn rate, around the 10 month the decline stabilices, indicating long term users."
   ]
  },
  {
   "cell_type": "markdown",
   "id": "cbf42920",
   "metadata": {},
   "source": [
    "#### b) Investigate the churn rate of customers who subscribe to streaming services like StreamingTV and StreamingMovies."
   ]
  },
  {
   "cell_type": "code",
   "execution_count": 67,
   "id": "adca6934",
   "metadata": {
    "scrolled": true
   },
   "outputs": [
    {
     "name": "stdout",
     "output_type": "stream",
     "text": [
      "+-----------------------+---------------+-----------------+-------------------+\n",
      "|streaming_service_group|total_customers|churned_customers|         churn_rate|\n",
      "+-----------------------+---------------+-----------------+-------------------+\n",
      "|   Both StreamingTV ...|           1940|              571| 0.2943298969072165|\n",
      "|   No Streaming Serv...|           2018|              695|  0.344400396432111|\n",
      "|   Only StreamingMovies|            792|              247|0.31186868686868685|\n",
      "|       Only StreamingTV|            767|              243|0.31681877444589307|\n",
      "+-----------------------+---------------+-----------------+-------------------+\n",
      "\n"
     ]
    }
   ],
   "source": [
    "\n",
    "churn_streaming_df = spark.sql(\"\"\"\n",
    "SELECT \n",
    "    CASE \n",
    "        WHEN StreamingTV = 'Yes' AND StreamingMovies = 'Yes' THEN 'Both StreamingTV and StreamingMovies'\n",
    "        WHEN StreamingTV = 'Yes' THEN 'Only StreamingTV'\n",
    "        WHEN StreamingMovies = 'Yes' THEN 'Only StreamingMovies'\n",
    "        ELSE 'No Streaming Services'\n",
    "    END AS streaming_service_group,\n",
    "    COUNT(*) AS total_customers,\n",
    "    SUM(CASE WHEN Churn = 'Yes' THEN 1 ELSE 0 END) AS churned_customers,\n",
    "    SUM(CASE WHEN Churn = 'Yes' THEN 1 ELSE 0 END) / COUNT(*) AS churn_rate\n",
    "FROM churn_data\n",
    "WHERE InternetService != 'No'\n",
    "GROUP BY streaming_service_group\n",
    "ORDER BY streaming_service_group\n",
    "\"\"\")\n",
    "\n",
    "churn_streaming_df.show()\n"
   ]
  },
  {
   "cell_type": "code",
   "execution_count": 68,
   "id": "570962f6",
   "metadata": {
    "scrolled": true
   },
   "outputs": [
    {
     "data": {
      "image/png": "[encoded data removed]",
      "text/plain": [
       "<Figure size 936x360 with 1 Axes>"
      ]
     },
     "metadata": {
      "needs_background": "light"
     },
     "output_type": "display_data"
    }
   ],
   "source": [
    "\n",
    "churn_streaming_pd = churn_streaming_df.toPandas()\n",
    "churn_streaming_pd = churn_streaming_pd.sort_values(by='churn_rate', ascending=False)\n",
    "\n",
    "\n",
    "sns.set_palette(\"Set2\")  \n",
    "\n",
    "plt.figure(figsize=(13, 5))\n",
    "sns.barplot(y='streaming_service_group', x='churn_rate', data=churn_streaming_pd)\n",
    "\n",
    "plt.title('Customer Churn Rate by Streaming Service Subscription')\n",
    "plt.xlabel('Streaming Service Group')\n",
    "plt.ylabel('Churn Rate')\n",
    "plt.xlim(0, 1)  \n",
    "\n",
    "plt.show()"
   ]
  },
  {
   "cell_type": "markdown",
   "id": "a4362651",
   "metadata": {},
   "source": [
    "**Insights**\n",
    "- churn rate is higher in customers of streaming movies"
   ]
  },
  {
   "cell_type": "markdown",
   "id": "b9d3cb83",
   "metadata": {},
   "source": [
    "#### c) Write Spark SQL to group customers by their tenure (e.g., 0-12 months, 13-24 months, etc.) and analyze churn rates in these tenure groups."
   ]
  },
  {
   "cell_type": "code",
   "execution_count": 59,
   "id": "af5aa9f5",
   "metadata": {
    "scrolled": true
   },
   "outputs": [
    {
     "name": "stdout",
     "output_type": "stream",
     "text": [
      "+------------+---------------+-----------------+-------------------+\n",
      "|tenure_group|total_customers|churned_customers|         churn_rate|\n",
      "+------------+---------------+-----------------+-------------------+\n",
      "| 0-12 Months|           2186|             1037|0.47438243366880145|\n",
      "|13-24 Months|           1024|              294|        0.287109375|\n",
      "|25-36 Months|            832|              180|0.21634615384615385|\n",
      "|37-48 Months|            762|              145|0.19028871391076116|\n",
      "|  49+ Months|           2239|              213|0.09513175524787852|\n",
      "+------------+---------------+-----------------+-------------------+\n",
      "\n"
     ]
    }
   ],
   "source": [
    "\n",
    "churn_tenure_df = spark.sql(\"\"\"\n",
    "SELECT \n",
    "    CASE \n",
    "        WHEN tenure <= 12 THEN '0-12 Months'\n",
    "        WHEN tenure > 12 AND tenure <= 24 THEN '13-24 Months'\n",
    "        WHEN tenure > 24 AND tenure <= 36 THEN '25-36 Months'\n",
    "        WHEN tenure > 36 AND tenure <= 48 THEN '37-48 Months'\n",
    "        ELSE '49+ Months'\n",
    "    END AS tenure_group,\n",
    "    COUNT(*) AS total_customers,\n",
    "    SUM(CASE WHEN Churn = 'Yes' THEN 1 ELSE 0 END) AS churned_customers,\n",
    "    SUM(CASE WHEN Churn = 'Yes' THEN 1 ELSE 0 END) / COUNT(*) AS churn_rate\n",
    "FROM churn_data\n",
    "GROUP BY tenure_group\n",
    "ORDER BY tenure_group\n",
    "\"\"\")\n",
    "\n",
    "churn_tenure_df.show()\n"
   ]
  },
  {
   "cell_type": "code",
   "execution_count": 60,
   "id": "488df097",
   "metadata": {},
   "outputs": [
    {
     "data": {
      "image/png": "[encoded data removed]",
      "text/plain": [
       "<Figure size 720x432 with 1 Axes>"
      ]
     },
     "metadata": {
      "needs_background": "light"
     },
     "output_type": "display_data"
    }
   ],
   "source": [
    "\n",
    "churn_tenure_pd = churn_tenure_df.toPandas()\n",
    "\n",
    "plt.figure(figsize=(10, 6))\n",
    "sns.barplot(x='tenure_group', y='churn_rate', data=churn_tenure_pd, palette=\"Set2\")\n",
    "\n",
    "plt.title('Customer Churn Rate by Tenure Group')\n",
    "plt.xlabel('Tenure Group')\n",
    "plt.ylabel('Churn Rate')\n",
    "plt.ylim(0, 1)  \n",
    "plt.axhline(y=0.5, color='r', linestyle='--')  \n",
    "plt.xticks(rotation=45)\n",
    "\n",
    "plt.show()\n"
   ]
  },
  {
   "cell_type": "markdown",
   "id": "3999b47e",
   "metadata": {},
   "source": [
    "#### d) Analyze the impact of contract types and payment methods on churn rates."
   ]
  },
  {
   "cell_type": "code",
   "execution_count": 64,
   "id": "d46f6f57",
   "metadata": {},
   "outputs": [
    {
     "name": "stdout",
     "output_type": "stream",
     "text": [
      "+--------------+--------------------+---------------+-----------------+--------------------+\n",
      "|      Contract|       PaymentMethod|total_customers|churned_customers|          churn_rate|\n",
      "+--------------+--------------------+---------------+-----------------+--------------------+\n",
      "|Month-to-month|Bank transfer (au...|            589|              201| 0.34125636672325976|\n",
      "|Month-to-month|Credit card (auto...|            543|              178|  0.3278084714548803|\n",
      "|Month-to-month|    Electronic check|           1850|              994|  0.5372972972972972|\n",
      "|Month-to-month|        Mailed check|            893|              282|  0.3157894736842105|\n",
      "|      One year|Bank transfer (au...|            391|               38| 0.09718670076726342|\n",
      "|      One year|Credit card (auto...|            398|               41| 0.10301507537688442|\n",
      "|      One year|    Electronic check|            347|               64|  0.1844380403458213|\n",
      "|      One year|        Mailed check|            337|               23| 0.06824925816023739|\n",
      "|      Two year|Bank transfer (au...|            564|               19| 0.03368794326241135|\n",
      "|      Two year|Credit card (auto...|            581|               13|0.022375215146299483|\n",
      "|      Two year|    Electronic check|            168|               13| 0.07738095238095238|\n",
      "|      Two year|        Mailed check|            382|                3|0.007853403141361256|\n",
      "+--------------+--------------------+---------------+-----------------+--------------------+\n",
      "\n"
     ]
    }
   ],
   "source": [
    "\n",
    "contract_payment_churn_df = spark.sql(\n",
    "\"\"\"\n",
    "SELECT \n",
    "    Contract,\n",
    "    PaymentMethod,\n",
    "    COUNT(*) AS total_customers,\n",
    "    SUM(CASE WHEN Churn = 'Yes' THEN 1 ELSE 0 END) AS churned_customers,\n",
    "    SUM(CASE WHEN Churn = 'Yes' THEN 1 ELSE 0 END) / COUNT(*) AS churn_rate\n",
    "FROM churn_data\n",
    "GROUP BY Contract, PaymentMethod\n",
    "ORDER BY Contract, PaymentMethod\n",
    "\"\"\")\n",
    "\n",
    "contract_payment_churn_df.show()\n"
   ]
  },
  {
   "cell_type": "code",
   "execution_count": 65,
   "id": "721f583d",
   "metadata": {},
   "outputs": [
    {
     "data": {
      "image/png": "[encoded data removed]",
      "text/plain": [
       "<Figure size 864x576 with 1 Axes>"
      ]
     },
     "metadata": {
      "needs_background": "light"
     },
     "output_type": "display_data"
    }
   ],
   "source": [
    "contract_payment_churn_pd = contract_payment_churn_df.toPandas()\n",
    "\n",
    "plt.figure(figsize=(12, 8))\n",
    "sns.barplot(x='churn_rate', y='Contract', hue='PaymentMethod', data=contract_payment_churn_pd, palette='Set2')\n",
    "\n",
    "plt.title('Churn Rate by Contract Type and Payment Method')\n",
    "plt.xlabel('Churn Rate')\n",
    "plt.ylabel('Contract Type')\n",
    "plt.xlim(0, 1) \n",
    "\n",
    "plt.axvline(x=0.5, color='r', linestyle='--') \n",
    "plt.legend(title='Payment Method')\n",
    "plt.grid()\n",
    "plt.show()\n"
   ]
  },
  {
   "cell_type": "markdown",
   "id": "95e549de",
   "metadata": {},
   "source": [
    "#### e) Explore the distribution of monthly charges for customers based on their type of internet service."
   ]
  },
  {
   "cell_type": "code",
   "execution_count": null,
   "id": "925155d7",
   "metadata": {},
   "outputs": [],
   "source": []
  },
  {
   "cell_type": "markdown",
   "id": "0bf8bfae",
   "metadata": {},
   "source": [
    "#### f) Identify the top 10 customers who have contributed the most revenue to the company, based on total charges."
   ]
  },
  {
   "cell_type": "code",
   "execution_count": null,
   "id": "bfc4ff92",
   "metadata": {},
   "outputs": [],
   "source": []
  },
  {
   "cell_type": "markdown",
   "id": "c44c9339",
   "metadata": {},
   "source": [
    "#### g) Calculate the churn rate segmented by gender and whether the customer is a senior citizen."
   ]
  },
  {
   "cell_type": "code",
   "execution_count": null,
   "id": "4c2174db",
   "metadata": {},
   "outputs": [],
   "source": []
  },
  {
   "cell_type": "markdown",
   "id": "d3b1acb1",
   "metadata": {},
   "source": [
    "#### h) Write query to calculate Correlation between dependents and churn. Explore whether having dependents affects customer churn rates."
   ]
  },
  {
   "cell_type": "code",
   "execution_count": null,
   "id": "9f07246d",
   "metadata": {},
   "outputs": [],
   "source": []
  },
  {
   "cell_type": "markdown",
   "id": "a8920d8f",
   "metadata": {},
   "source": [
    "#### i) Predict potential churn rates by analyzing the relationship between monthly charges, contract types, and the churn rate."
   ]
  },
  {
   "cell_type": "code",
   "execution_count": null,
   "id": "9fc5f17e",
   "metadata": {},
   "outputs": [],
   "source": []
  },
  {
   "cell_type": "markdown",
   "id": "ea55f245",
   "metadata": {},
   "source": [
    "#### j) Determine the churn rate for customers who have multiple services (Phone, Internet, and Streaming), which can help understand whether bundling services leads to higher or lower churn. Calculate churn rate for customers with multiple services."
   ]
  },
  {
   "cell_type": "code",
   "execution_count": null,
   "id": "2fa26d63",
   "metadata": {},
   "outputs": [],
   "source": []
  },
  {
   "cell_type": "markdown",
   "id": "d92f73d3",
   "metadata": {},
   "source": [
    "#### k) Churn Impact by device protection and online backup services. Write query to investigate whether having device protection or online backup services affects churn rates."
   ]
  },
  {
   "cell_type": "code",
   "execution_count": null,
   "id": "af181721",
   "metadata": {},
   "outputs": [],
   "source": []
  },
  {
   "cell_type": "markdown",
   "id": "19fc0686",
   "metadata": {},
   "source": [
    "#### l) Explore churn rates among customers who do not have phone service and investigate if it influences customer retention."
   ]
  },
  {
   "cell_type": "code",
   "execution_count": null,
   "id": "91457b44",
   "metadata": {},
   "outputs": [],
   "source": []
  },
  {
   "cell_type": "markdown",
   "id": "591c3943",
   "metadata": {},
   "source": [
    "#### m) Understand the relationship between payment methods and contract types on customer churn. This query will help you discover which combinations are most prone to churn."
   ]
  },
  {
   "cell_type": "code",
   "execution_count": null,
   "id": "f1329b55",
   "metadata": {},
   "outputs": [],
   "source": []
  },
  {
   "cell_type": "markdown",
   "id": "006975cb",
   "metadata": {},
   "source": [
    "#### n) Analyze how customer churn is affected by senior citizen status and whether the customer has dependents."
   ]
  },
  {
   "cell_type": "code",
   "execution_count": null,
   "id": "9679828b",
   "metadata": {},
   "outputs": [],
   "source": []
  },
  {
   "cell_type": "markdown",
   "id": "6f35446e",
   "metadata": {},
   "source": [
    "#### o) Explore whether subscribing to streaming services like Streaming TV and Streaming Movies influences the churn rate."
   ]
  },
  {
   "cell_type": "code",
   "execution_count": null,
   "id": "f8f1f885",
   "metadata": {},
   "outputs": [],
   "source": []
  },
  {
   "cell_type": "markdown",
   "id": "d32f1dba",
   "metadata": {},
   "source": [
    "#### p) Understand how tenure and MonthlyCharges differ between churned and non-churned customers. This can provide insights into the behavior of long-term customers."
   ]
  },
  {
   "cell_type": "code",
   "execution_count": null,
   "id": "540a01a4",
   "metadata": {},
   "outputs": [],
   "source": []
  },
  {
   "cell_type": "markdown",
   "id": "e2ee8753",
   "metadata": {},
   "source": [
    "#### q) Compare monthly charges and churn rates between newer customers and long-time customers."
   ]
  },
  {
   "cell_type": "code",
   "execution_count": null,
   "id": "bce409b1",
   "metadata": {},
   "outputs": [],
   "source": []
  },
  {
   "cell_type": "markdown",
   "id": "ea4ad51c",
   "metadata": {},
   "source": [
    "#### r) What is the correlation between senior citizen status and churn rate?"
   ]
  },
  {
   "cell_type": "code",
   "execution_count": null,
   "id": "88663f1d",
   "metadata": {},
   "outputs": [],
   "source": []
  },
  {
   "cell_type": "markdown",
   "id": "fca24fef",
   "metadata": {},
   "source": [
    "#### s) Partition customers based on whether they are senior citizens and divide them into 5 groups based on tenure. (Use NTILE.)"
   ]
  },
  {
   "cell_type": "code",
   "execution_count": null,
   "id": "035e344c",
   "metadata": {},
   "outputs": [],
   "source": []
  },
  {
   "cell_type": "markdown",
   "id": "c122bae2",
   "metadata": {},
   "source": [
    "#### t) Use PERCENT_RANK to identify the top 5% of customers by MonthlyCharges."
   ]
  },
  {
   "cell_type": "code",
   "execution_count": null,
   "id": "2ddd98c4",
   "metadata": {},
   "outputs": [],
   "source": []
  },
  {
   "cell_type": "markdown",
   "id": "aabfb9d1",
   "metadata": {},
   "source": [
    "#### u) Find customers who fall within the top 5% of the distribution based on monthly charges. Compare total charges with the next customer in the same internet service type, based on monthly charges."
   ]
  },
  {
   "cell_type": "code",
   "execution_count": null,
   "id": "5bc11afe",
   "metadata": {},
   "outputs": [],
   "source": []
  },
  {
   "cell_type": "markdown",
   "id": "afbd563d",
   "metadata": {},
   "source": [
    "#### v) Find the top 5 customers with the highest MonthlyCharges within each Contract type."
   ]
  },
  {
   "cell_type": "code",
   "execution_count": null,
   "id": "e46622b7",
   "metadata": {},
   "outputs": [],
   "source": []
  },
  {
   "cell_type": "markdown",
   "id": "745c2b3e",
   "metadata": {},
   "source": [
    "#### w) Calculate the churn rate in each Contract type and rank the contracts by churn rate."
   ]
  },
  {
   "cell_type": "code",
   "execution_count": null,
   "id": "0f3e17b8",
   "metadata": {},
   "outputs": [],
   "source": []
  },
  {
   "cell_type": "markdown",
   "id": "11587367",
   "metadata": {},
   "source": [
    "#### x) Perform an in-depth analysis of customers using window functions to understand customer rankings, distribution, and trends in charges and tenure."
   ]
  },
  {
   "cell_type": "code",
   "execution_count": null,
   "id": "c228b89c",
   "metadata": {},
   "outputs": [],
   "source": []
  }
 ],
 "metadata": {
  "kernelspec": {
   "display_name": "Python 3",
   "language": "python",
   "name": "python3"
  },
  "language_info": {
   "codemirror_mode": {
    "name": "ipython",
    "version": 3
   },
   "file_extension": ".py",
   "mimetype": "text/x-python",
   "name": "python",
   "nbconvert_exporter": "python",
   "pygments_lexer": "ipython3",
   "version": "3.6.9"
  }
 },
 "nbformat": 4,
 "nbformat_minor": 5
}
