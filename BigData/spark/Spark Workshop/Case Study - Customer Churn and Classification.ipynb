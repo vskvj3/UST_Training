{
 "cells": [
  {
   "cell_type": "code",
   "execution_count": 1,
   "id": "c0d2ffdf",
   "metadata": {},
   "outputs": [
    {
     "data": {
      "text/html": [
       "\n",
       "        <div>\n",
       "            <p><b>SparkContext</b></p>\n",
       "\n",
       "            <p><a href=\"http://10.0.2.15:4044\">Spark UI</a></p>\n",
       "\n",
       "            <dl>\n",
       "              <dt>Version</dt>\n",
       "                <dd><code>v2.4.8</code></dd>\n",
       "              <dt>Master</dt>\n",
       "                <dd><code>local[*]</code></dd>\n",
       "              <dt>AppName</dt>\n",
       "                <dd><code>PySparkShell</code></dd>\n",
       "            </dl>\n",
       "        </div>\n",
       "        "
      ],
      "text/plain": [
       "<SparkContext master=local[*] appName=PySparkShell>"
      ]
     },
     "execution_count": 1,
     "metadata": {},
     "output_type": "execute_result"
    }
   ],
   "source": [
    "sc"
   ]
  },
  {
   "cell_type": "code",
   "execution_count": 2,
   "id": "28b921bb",
   "metadata": {},
   "outputs": [
    {
     "data": {
      "text/html": [
       "\n",
       "            <div>\n",
       "                <p><b>SparkSession - hive</b></p>\n",
       "                \n",
       "        <div>\n",
       "            <p><b>SparkContext</b></p>\n",
       "\n",
       "            <p><a href=\"http://10.0.2.15:4044\">Spark UI</a></p>\n",
       "\n",
       "            <dl>\n",
       "              <dt>Version</dt>\n",
       "                <dd><code>v2.4.8</code></dd>\n",
       "              <dt>Master</dt>\n",
       "                <dd><code>local[*]</code></dd>\n",
       "              <dt>AppName</dt>\n",
       "                <dd><code>PySparkShell</code></dd>\n",
       "            </dl>\n",
       "        </div>\n",
       "        \n",
       "            </div>\n",
       "        "
      ],
      "text/plain": [
       "<pyspark.sql.session.SparkSession at 0x7f2d3843fba8>"
      ]
     },
     "execution_count": 2,
     "metadata": {},
     "output_type": "execute_result"
    }
   ],
   "source": [
    "spark"
   ]
  },
  {
   "cell_type": "markdown",
   "id": "f5a60a7f",
   "metadata": {},
   "source": [
    "#### 1. Read the dataset"
   ]
  },
  {
   "cell_type": "code",
   "execution_count": 266,
   "id": "0ac0ccc5",
   "metadata": {},
   "outputs": [],
   "source": [
    "churn_data = spark.read.csv(\n",
    "    'file:///home/hadoop/Downloads/Telco_Customer_Churn.csv', \n",
    "    header=True,\n",
    "    inferSchema=True)"
   ]
  },
  {
   "cell_type": "code",
   "execution_count": 267,
   "id": "d6ce8b72",
   "metadata": {},
   "outputs": [
    {
     "data": {
      "text/plain": [
       "Row(customerID='7590-VHVEG', gender='Female', SeniorCitizen=0, Partner='Yes', Dependents='No', tenure=1, PhoneService='No', MultipleLines='No phone service', InternetService='DSL', OnlineSecurity='No', OnlineBackup='Yes', DeviceProtection='No', TechSupport='No', StreamingTV='No', StreamingMovies='No', Contract='Month-to-month', PaperlessBilling='Yes', PaymentMethod='Electronic check', MonthlyCharges=29.85, TotalCharges='29.85', Churn='No')"
      ]
     },
     "execution_count": 267,
     "metadata": {},
     "output_type": "execute_result"
    }
   ],
   "source": [
    "churn_data.head()"
   ]
  },
  {
   "cell_type": "markdown",
   "id": "68299ed4",
   "metadata": {},
   "source": [
    "#### 2. Data Exploration"
   ]
  },
  {
   "cell_type": "markdown",
   "id": "0cf96d9f",
   "metadata": {},
   "source": [
    "a) how many customers records are in dataset"
   ]
  },
  {
   "cell_type": "code",
   "execution_count": 268,
   "id": "d6d4a428",
   "metadata": {},
   "outputs": [
    {
     "data": {
      "text/plain": [
       "7043"
      ]
     },
     "execution_count": 268,
     "metadata": {},
     "output_type": "execute_result"
    }
   ],
   "source": [
    "churn_data.count()"
   ]
  },
  {
   "cell_type": "code",
   "execution_count": 269,
   "id": "0cdb34d8",
   "metadata": {},
   "outputs": [
    {
     "data": {
      "text/plain": [
       "21"
      ]
     },
     "execution_count": 269,
     "metadata": {},
     "output_type": "execute_result"
    }
   ],
   "source": [
    "len(churn_data.columns)"
   ]
  },
  {
   "cell_type": "code",
   "execution_count": 270,
   "id": "fc8e8dcf",
   "metadata": {},
   "outputs": [
    {
     "data": {
      "text/plain": [
       "['customerID',\n",
       " 'gender',\n",
       " 'SeniorCitizen',\n",
       " 'Partner',\n",
       " 'Dependents',\n",
       " 'tenure',\n",
       " 'PhoneService',\n",
       " 'MultipleLines',\n",
       " 'InternetService',\n",
       " 'OnlineSecurity',\n",
       " 'OnlineBackup',\n",
       " 'DeviceProtection',\n",
       " 'TechSupport',\n",
       " 'StreamingTV',\n",
       " 'StreamingMovies',\n",
       " 'Contract',\n",
       " 'PaperlessBilling',\n",
       " 'PaymentMethod',\n",
       " 'MonthlyCharges',\n",
       " 'TotalCharges',\n",
       " 'Churn']"
      ]
     },
     "execution_count": 270,
     "metadata": {},
     "output_type": "execute_result"
    }
   ],
   "source": [
    "churn_data.columns"
   ]
  },
  {
   "cell_type": "markdown",
   "id": "b3974f3c",
   "metadata": {},
   "source": [
    "b) what is distribution of gender among customers?"
   ]
  },
  {
   "cell_type": "code",
   "execution_count": 271,
   "id": "5dd24b28",
   "metadata": {},
   "outputs": [
    {
     "name": "stdout",
     "output_type": "stream",
     "text": [
      "root\n",
      " |-- customerID: string (nullable = true)\n",
      " |-- gender: string (nullable = true)\n",
      " |-- SeniorCitizen: integer (nullable = true)\n",
      " |-- Partner: string (nullable = true)\n",
      " |-- Dependents: string (nullable = true)\n",
      " |-- tenure: integer (nullable = true)\n",
      " |-- PhoneService: string (nullable = true)\n",
      " |-- MultipleLines: string (nullable = true)\n",
      " |-- InternetService: string (nullable = true)\n",
      " |-- OnlineSecurity: string (nullable = true)\n",
      " |-- OnlineBackup: string (nullable = true)\n",
      " |-- DeviceProtection: string (nullable = true)\n",
      " |-- TechSupport: string (nullable = true)\n",
      " |-- StreamingTV: string (nullable = true)\n",
      " |-- StreamingMovies: string (nullable = true)\n",
      " |-- Contract: string (nullable = true)\n",
      " |-- PaperlessBilling: string (nullable = true)\n",
      " |-- PaymentMethod: string (nullable = true)\n",
      " |-- MonthlyCharges: double (nullable = true)\n",
      " |-- TotalCharges: string (nullable = true)\n",
      " |-- Churn: string (nullable = true)\n",
      "\n"
     ]
    }
   ],
   "source": [
    "churn_data.printSchema()"
   ]
  },
  {
   "cell_type": "code",
   "execution_count": 272,
   "id": "662ab009",
   "metadata": {},
   "outputs": [
    {
     "name": "stdout",
     "output_type": "stream",
     "text": [
      "+------+-----+\n",
      "|gender|count|\n",
      "+------+-----+\n",
      "|Female| 3488|\n",
      "|  Male| 3555|\n",
      "+------+-----+\n",
      "\n"
     ]
    }
   ],
   "source": [
    "churn_data.groupBy('gender').count().show()"
   ]
  },
  {
   "cell_type": "markdown",
   "id": "c4f83dac",
   "metadata": {},
   "source": [
    "c) what is the distribution of contract type among customers?"
   ]
  },
  {
   "cell_type": "code",
   "execution_count": 273,
   "id": "cea76791",
   "metadata": {},
   "outputs": [
    {
     "name": "stdout",
     "output_type": "stream",
     "text": [
      "+----------+------+-------------+-------+----------+------+------------+----------------+---------------+-------------------+-------------------+-------------------+-------------------+-------------------+-------------------+--------------+----------------+--------------------+--------------+------------+-----+\n",
      "|customerID|gender|SeniorCitizen|Partner|Dependents|tenure|PhoneService|   MultipleLines|InternetService|     OnlineSecurity|       OnlineBackup|   DeviceProtection|        TechSupport|        StreamingTV|    StreamingMovies|      Contract|PaperlessBilling|       PaymentMethod|MonthlyCharges|TotalCharges|Churn|\n",
      "+----------+------+-------------+-------+----------+------+------------+----------------+---------------+-------------------+-------------------+-------------------+-------------------+-------------------+-------------------+--------------+----------------+--------------------+--------------+------------+-----+\n",
      "|7590-VHVEG|Female|            0|    Yes|        No|     1|          No|No phone service|            DSL|                 No|                Yes|                 No|                 No|                 No|                 No|Month-to-month|             Yes|    Electronic check|         29.85|       29.85|   No|\n",
      "|5575-GNVDE|  Male|            0|     No|        No|    34|         Yes|              No|            DSL|                Yes|                 No|                Yes|                 No|                 No|                 No|      One year|              No|        Mailed check|         56.95|      1889.5|   No|\n",
      "|3668-QPYBK|  Male|            0|     No|        No|     2|         Yes|              No|            DSL|                Yes|                Yes|                 No|                 No|                 No|                 No|Month-to-month|             Yes|        Mailed check|         53.85|      108.15|  Yes|\n",
      "|7795-CFOCW|  Male|            0|     No|        No|    45|          No|No phone service|            DSL|                Yes|                 No|                Yes|                Yes|                 No|                 No|      One year|              No|Bank transfer (au...|          42.3|     1840.75|   No|\n",
      "|9237-HQITU|Female|            0|     No|        No|     2|         Yes|              No|    Fiber optic|                 No|                 No|                 No|                 No|                 No|                 No|Month-to-month|             Yes|    Electronic check|          70.7|      151.65|  Yes|\n",
      "|9305-CDSKC|Female|            0|     No|        No|     8|         Yes|             Yes|    Fiber optic|                 No|                 No|                Yes|                 No|                Yes|                Yes|Month-to-month|             Yes|    Electronic check|         99.65|       820.5|  Yes|\n",
      "|1452-KIOVK|  Male|            0|     No|       Yes|    22|         Yes|             Yes|    Fiber optic|                 No|                Yes|                 No|                 No|                Yes|                 No|Month-to-month|             Yes|Credit card (auto...|          89.1|      1949.4|   No|\n",
      "|6713-OKOMC|Female|            0|     No|        No|    10|          No|No phone service|            DSL|                Yes|                 No|                 No|                 No|                 No|                 No|Month-to-month|              No|        Mailed check|         29.75|       301.9|   No|\n",
      "|7892-POOKP|Female|            0|    Yes|        No|    28|         Yes|             Yes|    Fiber optic|                 No|                 No|                Yes|                Yes|                Yes|                Yes|Month-to-month|             Yes|    Electronic check|         104.8|     3046.05|  Yes|\n",
      "|6388-TABGU|  Male|            0|     No|       Yes|    62|         Yes|              No|            DSL|                Yes|                Yes|                 No|                 No|                 No|                 No|      One year|              No|Bank transfer (au...|         56.15|     3487.95|   No|\n",
      "|9763-GRSKD|  Male|            0|    Yes|       Yes|    13|         Yes|              No|            DSL|                Yes|                 No|                 No|                 No|                 No|                 No|Month-to-month|             Yes|        Mailed check|         49.95|      587.45|   No|\n",
      "|7469-LKBCI|  Male|            0|     No|        No|    16|         Yes|              No|             No|No internet service|No internet service|No internet service|No internet service|No internet service|No internet service|      Two year|              No|Credit card (auto...|         18.95|       326.8|   No|\n",
      "|8091-TTVAX|  Male|            0|    Yes|        No|    58|         Yes|             Yes|    Fiber optic|                 No|                 No|                Yes|                 No|                Yes|                Yes|      One year|              No|Credit card (auto...|        100.35|      5681.1|   No|\n",
      "|0280-XJGEX|  Male|            0|     No|        No|    49|         Yes|             Yes|    Fiber optic|                 No|                Yes|                Yes|                 No|                Yes|                Yes|Month-to-month|             Yes|Bank transfer (au...|         103.7|      5036.3|  Yes|\n",
      "|5129-JLPIS|  Male|            0|     No|        No|    25|         Yes|              No|    Fiber optic|                Yes|                 No|                Yes|                Yes|                Yes|                Yes|Month-to-month|             Yes|    Electronic check|         105.5|     2686.05|   No|\n",
      "|3655-SNQYZ|Female|            0|    Yes|       Yes|    69|         Yes|             Yes|    Fiber optic|                Yes|                Yes|                Yes|                Yes|                Yes|                Yes|      Two year|              No|Credit card (auto...|        113.25|     7895.15|   No|\n",
      "|8191-XWSZG|Female|            0|     No|        No|    52|         Yes|              No|             No|No internet service|No internet service|No internet service|No internet service|No internet service|No internet service|      One year|              No|        Mailed check|         20.65|     1022.95|   No|\n",
      "|9959-WOFKT|  Male|            0|     No|       Yes|    71|         Yes|             Yes|    Fiber optic|                Yes|                 No|                Yes|                 No|                Yes|                Yes|      Two year|              No|Bank transfer (au...|         106.7|     7382.25|   No|\n",
      "|4190-MFLUW|Female|            0|    Yes|       Yes|    10|         Yes|              No|            DSL|                 No|                 No|                Yes|                Yes|                 No|                 No|Month-to-month|              No|Credit card (auto...|          55.2|      528.35|  Yes|\n",
      "|4183-MYFRB|Female|            0|     No|        No|    21|         Yes|              No|    Fiber optic|                 No|                Yes|                Yes|                 No|                 No|                Yes|Month-to-month|             Yes|    Electronic check|         90.05|      1862.9|   No|\n",
      "+----------+------+-------------+-------+----------+------+------------+----------------+---------------+-------------------+-------------------+-------------------+-------------------+-------------------+-------------------+--------------+----------------+--------------------+--------------+------------+-----+\n",
      "only showing top 20 rows\n",
      "\n"
     ]
    }
   ],
   "source": [
    "churn_data.show()"
   ]
  },
  {
   "cell_type": "code",
   "execution_count": 274,
   "id": "a389c574",
   "metadata": {},
   "outputs": [
    {
     "name": "stdout",
     "output_type": "stream",
     "text": [
      "+--------------+-----+\n",
      "|      Contract|count|\n",
      "+--------------+-----+\n",
      "|Month-to-month| 3875|\n",
      "|      One year| 1473|\n",
      "|      Two year| 1695|\n",
      "+--------------+-----+\n",
      "\n"
     ]
    }
   ],
   "source": [
    "churn_data.groupBy(['Contract']).count().show()"
   ]
  },
  {
   "cell_type": "markdown",
   "id": "4360e548",
   "metadata": {},
   "source": [
    "d) What is the percentage of customers who go churned"
   ]
  },
  {
   "cell_type": "code",
   "execution_count": 275,
   "id": "4c7e1bc7",
   "metadata": {},
   "outputs": [
    {
     "data": {
      "text/plain": [
       "26.536987079369588"
      ]
     },
     "execution_count": 275,
     "metadata": {},
     "output_type": "execute_result"
    }
   ],
   "source": [
    "churn_data.select(['churn']).where(\"churn = 'Yes'\").count() / churn_data.count() * 100"
   ]
  },
  {
   "cell_type": "markdown",
   "id": "eb6b9beb",
   "metadata": {},
   "source": [
    "#### 3. Data Preprocessing\n",
    "- check for missing values and handle missing data."
   ]
  },
  {
   "cell_type": "code",
   "execution_count": 276,
   "id": "59848991",
   "metadata": {},
   "outputs": [],
   "source": [
    "from pyspark.sql.functions import *\n",
    "from pyspark.sql.types import *"
   ]
  },
  {
   "cell_type": "code",
   "execution_count": 277,
   "id": "02be1f1c",
   "metadata": {},
   "outputs": [
    {
     "name": "stdout",
     "output_type": "stream",
     "text": [
      "+----------+------+-------------+-------+----------+------+------------+-------------+---------------+--------------+------------+----------------+-----------+-----------+---------------+--------+----------------+-------------+--------------+------------+-----+\n",
      "|customerID|gender|SeniorCitizen|Partner|Dependents|tenure|PhoneService|MultipleLines|InternetService|OnlineSecurity|OnlineBackup|DeviceProtection|TechSupport|StreamingTV|StreamingMovies|Contract|PaperlessBilling|PaymentMethod|MonthlyCharges|TotalCharges|Churn|\n",
      "+----------+------+-------------+-------+----------+------+------------+-------------+---------------+--------------+------------+----------------+-----------+-----------+---------------+--------+----------------+-------------+--------------+------------+-----+\n",
      "|         0|     0|            0|      0|         0|     0|           0|            0|              0|             0|           0|               0|          0|          0|              0|       0|               0|            0|             0|           0|    0|\n",
      "+----------+------+-------------+-------+----------+------+------------+-------------+---------------+--------------+------------+----------------+-----------+-----------+---------------+--------+----------------+-------------+--------------+------------+-----+\n",
      "\n"
     ]
    }
   ],
   "source": [
    "churn_data.select([count(when(isnull(col), col)).alias(col) for col in churn_data.columns]).show()"
   ]
  },
  {
   "cell_type": "code",
   "execution_count": 278,
   "id": "e27a0fba",
   "metadata": {},
   "outputs": [],
   "source": [
    "churn_data = churn_data.withColumn('TotalCharges', when(col('TotalCharges') == \" \", None)\\\n",
    "                      .otherwise(col('TotalCharges')))"
   ]
  },
  {
   "cell_type": "code",
   "execution_count": 279,
   "id": "ec86d37c",
   "metadata": {},
   "outputs": [
    {
     "name": "stdout",
     "output_type": "stream",
     "text": [
      "+----------+------+-------------+-------+----------+------+------------+-------------+---------------+--------------+------------+----------------+-----------+-----------+---------------+--------+----------------+-------------+--------------+------------+-----+\n",
      "|customerID|gender|SeniorCitizen|Partner|Dependents|tenure|PhoneService|MultipleLines|InternetService|OnlineSecurity|OnlineBackup|DeviceProtection|TechSupport|StreamingTV|StreamingMovies|Contract|PaperlessBilling|PaymentMethod|MonthlyCharges|TotalCharges|Churn|\n",
      "+----------+------+-------------+-------+----------+------+------------+-------------+---------------+--------------+------------+----------------+-----------+-----------+---------------+--------+----------------+-------------+--------------+------------+-----+\n",
      "|         0|     0|            0|      0|         0|     0|           0|            0|              0|             0|           0|               0|          0|          0|              0|       0|               0|            0|             0|          11|    0|\n",
      "+----------+------+-------------+-------+----------+------+------------+-------------+---------------+--------------+------------+----------------+-----------+-----------+---------------+--------+----------------+-------------+--------------+------------+-----+\n",
      "\n"
     ]
    }
   ],
   "source": [
    "churn_data.select([count(when(isnull(col), col)).alias(col) for col in churn_data.columns]).show()"
   ]
  },
  {
   "cell_type": "code",
   "execution_count": 280,
   "id": "2fff4115",
   "metadata": {},
   "outputs": [],
   "source": [
    "churn_data1 = churn_data.na.drop()"
   ]
  },
  {
   "cell_type": "code",
   "execution_count": 281,
   "id": "f9e166cc",
   "metadata": {},
   "outputs": [],
   "source": [
    "from pyspark.sql.types import FloatType"
   ]
  },
  {
   "cell_type": "code",
   "execution_count": 282,
   "id": "1cb1b367",
   "metadata": {},
   "outputs": [],
   "source": [
    "churn_data1 = churn_data.withColumn('TotalCharges', col('TotalCharges').cast(FloatType()))"
   ]
  },
  {
   "cell_type": "code",
   "execution_count": 283,
   "id": "a95a2f98",
   "metadata": {},
   "outputs": [],
   "source": [
    "churn_data1 = churn_data1.drop(col('customerID'))\n",
    "churn_data = churn_data.drop(col('customerID'))"
   ]
  },
  {
   "cell_type": "markdown",
   "id": "00276ae9",
   "metadata": {},
   "source": [
    "#### 4. Import Mllib"
   ]
  },
  {
   "cell_type": "markdown",
   "id": "fe8512b8",
   "metadata": {},
   "source": [
    "f) Convert categorical varibles into numerical format using one hot encoding or labe encoding"
   ]
  },
  {
   "cell_type": "code",
   "execution_count": 284,
   "id": "6827876a",
   "metadata": {},
   "outputs": [
    {
     "name": "stdout",
     "output_type": "stream",
     "text": [
      "Defaulting to user installation because normal site-packages is not writeable\n",
      "Requirement already satisfied: numpy in ./.local/lib/python3.6/site-packages (1.19.5)\n",
      "Requirement already satisfied: pandas in ./.local/lib/python3.6/site-packages (1.1.5)\n",
      "Requirement already satisfied: matplotlib in ./.local/lib/python3.6/site-packages (3.3.4)\n",
      "Requirement already satisfied: seaborn in ./.local/lib/python3.6/site-packages (0.11.2)\n",
      "Requirement already satisfied: pytz>=2017.2 in /usr/lib/python3/dist-packages (from pandas) (2018.3)\n",
      "Requirement already satisfied: python-dateutil>=2.7.3 in ./.local/lib/python3.6/site-packages (from pandas) (2.9.0.post0)\n",
      "Requirement already satisfied: cycler>=0.10 in ./.local/lib/python3.6/site-packages (from matplotlib) (0.11.0)\n",
      "Requirement already satisfied: kiwisolver>=1.0.1 in ./.local/lib/python3.6/site-packages (from matplotlib) (1.3.1)\n",
      "Requirement already satisfied: pyparsing!=2.0.4,!=2.1.2,!=2.1.6,>=2.0.3 in ./.local/lib/python3.6/site-packages (from matplotlib) (3.0.9)\n",
      "Requirement already satisfied: pillow>=6.2.0 in ./.local/lib/python3.6/site-packages (from matplotlib) (8.4.0)\n",
      "Requirement already satisfied: scipy>=1.0 in ./.local/lib/python3.6/site-packages (from seaborn) (1.5.4)\n",
      "Requirement already satisfied: six>=1.5 in /usr/lib/python3/dist-packages (from python-dateutil>=2.7.3->pandas) (1.11.0)\n"
     ]
    }
   ],
   "source": [
    "!pip3 install numpy pandas matplotlib seaborn"
   ]
  },
  {
   "cell_type": "code",
   "execution_count": 285,
   "id": "0fdc3494",
   "metadata": {},
   "outputs": [],
   "source": [
    "from pyspark.ml.feature import StringIndexer, OneHotEncoderEstimator, VectorAssembler\n",
    "from pyspark.ml import Pipeline"
   ]
  },
  {
   "cell_type": "markdown",
   "id": "892d990e",
   "metadata": {},
   "source": [
    "convert categorical data to numeric\n",
    "- StringIndexer: \n",
    "    - label categorical columns\n",
    "    - string to numerical\n",
    "- oneHotEncoder:\n",
    "    - for each row, only one value will be true, rest all are false\n",
    "    - for each category a column will be created, and for row with the category, the value will be set to 1, others to 0"
   ]
  },
  {
   "cell_type": "code",
   "execution_count": 286,
   "id": "7e362055",
   "metadata": {},
   "outputs": [
    {
     "data": {
      "text/plain": [
       "[('gender', 'string'),\n",
       " ('SeniorCitizen', 'int'),\n",
       " ('Partner', 'string'),\n",
       " ('Dependents', 'string'),\n",
       " ('tenure', 'int'),\n",
       " ('PhoneService', 'string'),\n",
       " ('MultipleLines', 'string'),\n",
       " ('InternetService', 'string'),\n",
       " ('OnlineSecurity', 'string'),\n",
       " ('OnlineBackup', 'string'),\n",
       " ('DeviceProtection', 'string'),\n",
       " ('TechSupport', 'string'),\n",
       " ('StreamingTV', 'string'),\n",
       " ('StreamingMovies', 'string'),\n",
       " ('Contract', 'string'),\n",
       " ('PaperlessBilling', 'string'),\n",
       " ('PaymentMethod', 'string'),\n",
       " ('MonthlyCharges', 'double'),\n",
       " ('TotalCharges', 'string'),\n",
       " ('Churn', 'string')]"
      ]
     },
     "execution_count": 286,
     "metadata": {},
     "output_type": "execute_result"
    }
   ],
   "source": [
    "churn_data.dtypes"
   ]
  },
  {
   "cell_type": "code",
   "execution_count": 287,
   "id": "fc4f542d",
   "metadata": {},
   "outputs": [
    {
     "data": {
      "text/plain": [
       "['gender',\n",
       " 'Partner',\n",
       " 'Dependents',\n",
       " 'PhoneService',\n",
       " 'MultipleLines',\n",
       " 'InternetService',\n",
       " 'OnlineSecurity',\n",
       " 'OnlineBackup',\n",
       " 'DeviceProtection',\n",
       " 'TechSupport',\n",
       " 'StreamingTV',\n",
       " 'StreamingMovies',\n",
       " 'Contract',\n",
       " 'PaperlessBilling',\n",
       " 'PaymentMethod',\n",
       " 'Churn']"
      ]
     },
     "execution_count": 287,
     "metadata": {},
     "output_type": "execute_result"
    }
   ],
   "source": [
    "[item[0] for item in churn_data1.dtypes if item[1] == 'string']"
   ]
  },
  {
   "cell_type": "code",
   "execution_count": 288,
   "id": "f1c0292c",
   "metadata": {},
   "outputs": [],
   "source": [
    "categorical_cols = [i.name for i in churn_data.schema.fields if isinstance(i.dataType, StringType)]"
   ]
  },
  {
   "cell_type": "code",
   "execution_count": 289,
   "id": "56ae2ec0",
   "metadata": {},
   "outputs": [
    {
     "name": "stdout",
     "output_type": "stream",
     "text": [
      "['gender', 'Partner', 'Dependents', 'PhoneService', 'MultipleLines', 'InternetService', 'OnlineSecurity', 'OnlineBackup', 'DeviceProtection', 'TechSupport', 'StreamingTV', 'StreamingMovies', 'Contract', 'PaperlessBilling', 'PaymentMethod', 'TotalCharges', 'Churn']\n"
     ]
    }
   ],
   "source": [
    "print(categorical_cols)"
   ]
  },
  {
   "cell_type": "code",
   "execution_count": 290,
   "id": "c1dd5f71",
   "metadata": {},
   "outputs": [
    {
     "name": "stdout",
     "output_type": "stream",
     "text": [
      "['gender', 'Partner', 'Dependents', 'PhoneService', 'MultipleLines', 'InternetService', 'OnlineSecurity', 'OnlineBackup', 'DeviceProtection', 'TechSupport', 'StreamingTV', 'StreamingMovies', 'Contract', 'PaperlessBilling', 'PaymentMethod', 'TotalCharges']\n"
     ]
    }
   ],
   "source": [
    "print(categorical_cols[:-1])"
   ]
  },
  {
   "cell_type": "code",
   "execution_count": 306,
   "id": "169521e1",
   "metadata": {},
   "outputs": [],
   "source": [
    "stages = []\n",
    "\n",
    "for catcols in categorical_cols:\n",
    "    stringindexer = StringIndexer(\n",
    "        inputCol=catcols, \n",
    "        outputCol=catcols + 'Index')\n",
    "    onehotencoder = OneHotEncoderEstimator(\n",
    "        inputCols=[stringindexer.getOutputCol()], \n",
    "        outputCols=[catcols + 'classVec'])\n",
    "    stages += [stringindexer, onehotencoder]"
   ]
  },
  {
   "cell_type": "code",
   "execution_count": 307,
   "id": "383e200d",
   "metadata": {},
   "outputs": [],
   "source": [
    "# do the same for numerical columns\n",
    "numerical_cols = ['SeniorCitizen', 'tenure', 'MonthlyCharges', 'TotalCharges']"
   ]
  },
  {
   "cell_type": "code",
   "execution_count": 308,
   "id": "48e3a542",
   "metadata": {},
   "outputs": [],
   "source": [
    "assemblerInputs = [c + 'classVec' for c in categorical_cols[:-1]] + numerical_cols\n",
    "assembler = VectorAssembler(inputCols=assemblerInputs, outputCol='features')\n",
    "stages += [assembler]"
   ]
  },
  {
   "cell_type": "code",
   "execution_count": 309,
   "id": "da1ac939",
   "metadata": {},
   "outputs": [],
   "source": [
    "label_stringIdx = StringIndexer(inputCol='Churn', outputCol='label')"
   ]
  },
  {
   "cell_type": "code",
   "execution_count": 310,
   "id": "42095228",
   "metadata": {},
   "outputs": [],
   "source": [
    "stages += [label_stringIdx]"
   ]
  },
  {
   "cell_type": "code",
   "execution_count": 311,
   "id": "57dd12e9",
   "metadata": {},
   "outputs": [],
   "source": [
    "pipeline = Pipeline(stages=stages)"
   ]
  },
  {
   "cell_type": "code",
   "execution_count": 312,
   "id": "787dce53",
   "metadata": {},
   "outputs": [],
   "source": [
    "preprocessing = pipeline.fit(churn_data1)"
   ]
  },
  {
   "cell_type": "code",
   "execution_count": 313,
   "id": "dbc85aaa",
   "metadata": {},
   "outputs": [],
   "source": [
    "churn_df = preprocessing.transform(churn_data1)"
   ]
  },
  {
   "cell_type": "code",
   "execution_count": 314,
   "id": "b58300f6",
   "metadata": {},
   "outputs": [
    {
     "name": "stdout",
     "output_type": "stream",
     "text": [
      "+------+-------------+-------+----------+------+------------+----------------+---------------+-------------------+-------------------+-------------------+-------------------+-------------------+-------------------+--------------+----------------+--------------------+--------------+------------+-----+-----------+--------------+------------+---------------+---------------+------------------+-----------------+--------------------+------------------+---------------------+--------------------+-----------------------+-------------------+----------------------+-----------------+--------------------+---------------------+------------------------+----------------+-------------------+----------------+-------------------+--------------------+-----------------------+-------------+----------------+---------------------+------------------------+------------------+---------------------+-----------------+--------------------+----------+-------------+--------------------+-----+\n",
      "|gender|SeniorCitizen|Partner|Dependents|tenure|PhoneService|   MultipleLines|InternetService|     OnlineSecurity|       OnlineBackup|   DeviceProtection|        TechSupport|        StreamingTV|    StreamingMovies|      Contract|PaperlessBilling|       PaymentMethod|MonthlyCharges|TotalCharges|Churn|genderIndex|genderclassVec|PartnerIndex|PartnerclassVec|DependentsIndex|DependentsclassVec|PhoneServiceIndex|PhoneServiceclassVec|MultipleLinesIndex|MultipleLinesclassVec|InternetServiceIndex|InternetServiceclassVec|OnlineSecurityIndex|OnlineSecurityclassVec|OnlineBackupIndex|OnlineBackupclassVec|DeviceProtectionIndex|DeviceProtectionclassVec|TechSupportIndex|TechSupportclassVec|StreamingTVIndex|StreamingTVclassVec|StreamingMoviesIndex|StreamingMoviesclassVec|ContractIndex|ContractclassVec|PaperlessBillingIndex|PaperlessBillingclassVec|PaymentMethodIndex|PaymentMethodclassVec|TotalChargesIndex|TotalChargesclassVec|ChurnIndex|ChurnclassVec|            features|label|\n",
      "+------+-------------+-------+----------+------+------------+----------------+---------------+-------------------+-------------------+-------------------+-------------------+-------------------+-------------------+--------------+----------------+--------------------+--------------+------------+-----+-----------+--------------+------------+---------------+---------------+------------------+-----------------+--------------------+------------------+---------------------+--------------------+-----------------------+-------------------+----------------------+-----------------+--------------------+---------------------+------------------------+----------------+-------------------+----------------+-------------------+--------------------+-----------------------+-------------+----------------+---------------------+------------------------+------------------+---------------------+-----------------+--------------------+----------+-------------+--------------------+-----+\n",
      "|Female|            0|    Yes|        No|     1|          No|No phone service|            DSL|                 No|                Yes|                 No|                 No|                 No|                 No|Month-to-month|             Yes|    Electronic check|         29.85|       29.85|   No|        1.0|     (1,[],[])|         1.0|      (1,[],[])|            0.0|     (1,[0],[1.0])|              1.0|           (1,[],[])|               2.0|            (2,[],[])|                 1.0|          (2,[1],[1.0])|                0.0|         (2,[0],[1.0])|              1.0|       (2,[1],[1.0])|                  0.0|           (2,[0],[1.0])|             0.0|      (2,[0],[1.0])|             0.0|      (2,[0],[1.0])|                 0.0|          (2,[0],[1.0])|          0.0|   (2,[0],[1.0])|                  0.0|           (1,[0],[1.0])|               0.0|        (3,[0],[1.0])|            648.0|  (6529,[648],[1.0])|       0.0|(1,[0],[1.0])|(6559,[2,7,8,11,1...|  0.0|\n",
      "|  Male|            0|     No|        No|    34|         Yes|              No|            DSL|                Yes|                 No|                Yes|                 No|                 No|                 No|      One year|              No|        Mailed check|         56.95|      1889.5|   No|        0.0| (1,[0],[1.0])|         0.0|  (1,[0],[1.0])|            0.0|     (1,[0],[1.0])|              0.0|       (1,[0],[1.0])|               0.0|        (2,[0],[1.0])|                 1.0|          (2,[1],[1.0])|                1.0|         (2,[1],[1.0])|              0.0|       (2,[0],[1.0])|                  1.0|           (2,[1],[1.0])|             0.0|      (2,[0],[1.0])|             0.0|      (2,[0],[1.0])|                 0.0|          (2,[0],[1.0])|          2.0|       (2,[],[])|                  1.0|               (1,[],[])|               1.0|        (3,[1],[1.0])|           3319.0| (6529,[3319],[1.0])|       0.0|(1,[0],[1.0])|(6559,[0,1,2,3,4,...|  0.0|\n",
      "|  Male|            0|     No|        No|     2|         Yes|              No|            DSL|                Yes|                Yes|                 No|                 No|                 No|                 No|Month-to-month|             Yes|        Mailed check|         53.85|      108.15|  Yes|        0.0| (1,[0],[1.0])|         0.0|  (1,[0],[1.0])|            0.0|     (1,[0],[1.0])|              0.0|       (1,[0],[1.0])|               0.0|        (2,[0],[1.0])|                 1.0|          (2,[1],[1.0])|                1.0|         (2,[1],[1.0])|              1.0|       (2,[1],[1.0])|                  0.0|           (2,[0],[1.0])|             0.0|      (2,[0],[1.0])|             0.0|      (2,[0],[1.0])|                 0.0|          (2,[0],[1.0])|          0.0|   (2,[0],[1.0])|                  0.0|           (1,[0],[1.0])|               1.0|        (3,[1],[1.0])|           2224.0| (6529,[2224],[1.0])|       1.0|    (1,[],[])|(6559,[0,1,2,3,4,...|  1.0|\n",
      "|  Male|            0|     No|        No|    45|          No|No phone service|            DSL|                Yes|                 No|                Yes|                Yes|                 No|                 No|      One year|              No|Bank transfer (au...|          42.3|     1840.75|   No|        0.0| (1,[0],[1.0])|         0.0|  (1,[0],[1.0])|            0.0|     (1,[0],[1.0])|              1.0|           (1,[],[])|               2.0|            (2,[],[])|                 1.0|          (2,[1],[1.0])|                1.0|         (2,[1],[1.0])|              0.0|       (2,[0],[1.0])|                  1.0|           (2,[1],[1.0])|             1.0|      (2,[1],[1.0])|             0.0|      (2,[0],[1.0])|                 0.0|          (2,[0],[1.0])|          2.0|       (2,[],[])|                  1.0|               (1,[],[])|               2.0|        (3,[2],[1.0])|           4943.0| (6529,[4943],[1.0])|       0.0|(1,[0],[1.0])|(6559,[0,1,2,7,9,...|  0.0|\n",
      "|Female|            0|     No|        No|     2|         Yes|              No|    Fiber optic|                 No|                 No|                 No|                 No|                 No|                 No|Month-to-month|             Yes|    Electronic check|          70.7|      151.65|  Yes|        1.0|     (1,[],[])|         0.0|  (1,[0],[1.0])|            0.0|     (1,[0],[1.0])|              0.0|       (1,[0],[1.0])|               0.0|        (2,[0],[1.0])|                 0.0|          (2,[0],[1.0])|                0.0|         (2,[0],[1.0])|              0.0|       (2,[0],[1.0])|                  0.0|           (2,[0],[1.0])|             0.0|      (2,[0],[1.0])|             0.0|      (2,[0],[1.0])|                 0.0|          (2,[0],[1.0])|          0.0|   (2,[0],[1.0])|                  0.0|           (1,[0],[1.0])|               0.0|        (3,[0],[1.0])|           4019.0| (6529,[4019],[1.0])|       1.0|    (1,[],[])|(6559,[1,2,3,4,6,...|  1.0|\n",
      "|Female|            0|     No|        No|     8|         Yes|             Yes|    Fiber optic|                 No|                 No|                Yes|                 No|                Yes|                Yes|Month-to-month|             Yes|    Electronic check|         99.65|       820.5|  Yes|        1.0|     (1,[],[])|         0.0|  (1,[0],[1.0])|            0.0|     (1,[0],[1.0])|              0.0|       (1,[0],[1.0])|               1.0|        (2,[1],[1.0])|                 0.0|          (2,[0],[1.0])|                0.0|         (2,[0],[1.0])|              0.0|       (2,[0],[1.0])|                  1.0|           (2,[1],[1.0])|             0.0|      (2,[0],[1.0])|             1.0|      (2,[1],[1.0])|                 1.0|          (2,[1],[1.0])|          0.0|   (2,[0],[1.0])|                  0.0|           (1,[0],[1.0])|               0.0|        (3,[0],[1.0])|           1101.0| (6529,[1101],[1.0])|       1.0|    (1,[],[])|(6559,[1,2,3,5,6,...|  1.0|\n",
      "|  Male|            0|     No|       Yes|    22|         Yes|             Yes|    Fiber optic|                 No|                Yes|                 No|                 No|                Yes|                 No|Month-to-month|             Yes|Credit card (auto...|          89.1|      1949.4|   No|        0.0| (1,[0],[1.0])|         0.0|  (1,[0],[1.0])|            1.0|         (1,[],[])|              0.0|       (1,[0],[1.0])|               1.0|        (2,[1],[1.0])|                 0.0|          (2,[0],[1.0])|                0.0|         (2,[0],[1.0])|              1.0|       (2,[1],[1.0])|                  0.0|           (2,[0],[1.0])|             0.0|      (2,[0],[1.0])|             1.0|      (2,[1],[1.0])|                 0.0|          (2,[0],[1.0])|          0.0|   (2,[0],[1.0])|                  0.0|           (1,[0],[1.0])|               3.0|            (3,[],[])|           5737.0| (6529,[5737],[1.0])|       0.0|(1,[0],[1.0])|(6559,[0,1,3,5,6,...|  0.0|\n",
      "|Female|            0|     No|        No|    10|          No|No phone service|            DSL|                Yes|                 No|                 No|                 No|                 No|                 No|Month-to-month|              No|        Mailed check|         29.75|       301.9|   No|        1.0|     (1,[],[])|         0.0|  (1,[0],[1.0])|            0.0|     (1,[0],[1.0])|              1.0|           (1,[],[])|               2.0|            (2,[],[])|                 1.0|          (2,[1],[1.0])|                1.0|         (2,[1],[1.0])|              0.0|       (2,[0],[1.0])|                  0.0|           (2,[0],[1.0])|             0.0|      (2,[0],[1.0])|             0.0|      (2,[0],[1.0])|                 0.0|          (2,[0],[1.0])|          0.0|   (2,[0],[1.0])|                  1.0|               (1,[],[])|               1.0|        (3,[1],[1.0])|           1045.0| (6529,[1045],[1.0])|       0.0|(1,[0],[1.0])|(6559,[1,2,7,9,10...|  0.0|\n",
      "|Female|            0|    Yes|        No|    28|         Yes|             Yes|    Fiber optic|                 No|                 No|                Yes|                Yes|                Yes|                Yes|Month-to-month|             Yes|    Electronic check|         104.8|     3046.05|  Yes|        1.0|     (1,[],[])|         1.0|      (1,[],[])|            0.0|     (1,[0],[1.0])|              0.0|       (1,[0],[1.0])|               1.0|        (2,[1],[1.0])|                 0.0|          (2,[0],[1.0])|                0.0|         (2,[0],[1.0])|              0.0|       (2,[0],[1.0])|                  1.0|           (2,[1],[1.0])|             1.0|      (2,[1],[1.0])|             1.0|      (2,[1],[1.0])|                 1.0|          (2,[1],[1.0])|          0.0|   (2,[0],[1.0])|                  0.0|           (1,[0],[1.0])|               0.0|        (3,[0],[1.0])|           1960.0| (6529,[1960],[1.0])|       1.0|    (1,[],[])|(6559,[2,3,5,6,8,...|  1.0|\n",
      "|  Male|            0|     No|       Yes|    62|         Yes|              No|            DSL|                Yes|                Yes|                 No|                 No|                 No|                 No|      One year|              No|Bank transfer (au...|         56.15|     3487.95|   No|        0.0| (1,[0],[1.0])|         0.0|  (1,[0],[1.0])|            1.0|         (1,[],[])|              0.0|       (1,[0],[1.0])|               0.0|        (2,[0],[1.0])|                 1.0|          (2,[1],[1.0])|                1.0|         (2,[1],[1.0])|              1.0|       (2,[1],[1.0])|                  0.0|           (2,[0],[1.0])|             0.0|      (2,[0],[1.0])|             0.0|      (2,[0],[1.0])|                 0.0|          (2,[0],[1.0])|          2.0|       (2,[],[])|                  1.0|               (1,[],[])|               2.0|        (3,[2],[1.0])|           2157.0| (6529,[2157],[1.0])|       0.0|(1,[0],[1.0])|(6559,[0,1,3,4,7,...|  0.0|\n",
      "|  Male|            0|    Yes|       Yes|    13|         Yes|              No|            DSL|                Yes|                 No|                 No|                 No|                 No|                 No|Month-to-month|             Yes|        Mailed check|         49.95|      587.45|   No|        0.0| (1,[0],[1.0])|         1.0|      (1,[],[])|            1.0|         (1,[],[])|              0.0|       (1,[0],[1.0])|               0.0|        (2,[0],[1.0])|                 1.0|          (2,[1],[1.0])|                1.0|         (2,[1],[1.0])|              0.0|       (2,[0],[1.0])|                  0.0|           (2,[0],[1.0])|             0.0|      (2,[0],[1.0])|             0.0|      (2,[0],[1.0])|                 0.0|          (2,[0],[1.0])|          0.0|   (2,[0],[1.0])|                  0.0|           (1,[0],[1.0])|               1.0|        (3,[1],[1.0])|           5693.0| (6529,[5693],[1.0])|       0.0|(1,[0],[1.0])|(6559,[0,3,4,7,9,...|  0.0|\n",
      "|  Male|            0|     No|        No|    16|         Yes|              No|             No|No internet service|No internet service|No internet service|No internet service|No internet service|No internet service|      Two year|              No|Credit card (auto...|         18.95|       326.8|   No|        0.0| (1,[0],[1.0])|         0.0|  (1,[0],[1.0])|            0.0|     (1,[0],[1.0])|              0.0|       (1,[0],[1.0])|               0.0|        (2,[0],[1.0])|                 2.0|              (2,[],[])|                2.0|             (2,[],[])|              2.0|           (2,[],[])|                  2.0|               (2,[],[])|             2.0|          (2,[],[])|             2.0|          (2,[],[])|                 2.0|              (2,[],[])|          1.0|   (2,[1],[1.0])|                  1.0|               (1,[],[])|               3.0|            (3,[],[])|           5241.0| (6529,[5241],[1.0])|       0.0|(1,[0],[1.0])|(6559,[0,1,2,3,4,...|  0.0|\n",
      "|  Male|            0|    Yes|        No|    58|         Yes|             Yes|    Fiber optic|                 No|                 No|                Yes|                 No|                Yes|                Yes|      One year|              No|Credit card (auto...|        100.35|      5681.1|   No|        0.0| (1,[0],[1.0])|         1.0|      (1,[],[])|            0.0|     (1,[0],[1.0])|              0.0|       (1,[0],[1.0])|               1.0|        (2,[1],[1.0])|                 0.0|          (2,[0],[1.0])|                0.0|         (2,[0],[1.0])|              0.0|       (2,[0],[1.0])|                  1.0|           (2,[1],[1.0])|             0.0|      (2,[0],[1.0])|             1.0|      (2,[1],[1.0])|                 1.0|          (2,[1],[1.0])|          2.0|       (2,[],[])|                  1.0|               (1,[],[])|               3.0|            (3,[],[])|            600.0|  (6529,[600],[1.0])|       0.0|(1,[0],[1.0])|(6559,[0,2,3,5,6,...|  0.0|\n",
      "|  Male|            0|     No|        No|    49|         Yes|             Yes|    Fiber optic|                 No|                Yes|                Yes|                 No|                Yes|                Yes|Month-to-month|             Yes|Bank transfer (au...|         103.7|      5036.3|  Yes|        0.0| (1,[0],[1.0])|         0.0|  (1,[0],[1.0])|            0.0|     (1,[0],[1.0])|              0.0|       (1,[0],[1.0])|               1.0|        (2,[1],[1.0])|                 0.0|          (2,[0],[1.0])|                0.0|         (2,[0],[1.0])|              1.0|       (2,[1],[1.0])|                  1.0|           (2,[1],[1.0])|             0.0|      (2,[0],[1.0])|             1.0|      (2,[1],[1.0])|                 1.0|          (2,[1],[1.0])|          0.0|   (2,[0],[1.0])|                  0.0|           (1,[0],[1.0])|               2.0|        (3,[2],[1.0])|           6137.0| (6529,[6137],[1.0])|       1.0|    (1,[],[])|(6559,[0,1,2,3,5,...|  1.0|\n",
      "|  Male|            0|     No|        No|    25|         Yes|              No|    Fiber optic|                Yes|                 No|                Yes|                Yes|                Yes|                Yes|Month-to-month|             Yes|    Electronic check|         105.5|     2686.05|   No|        0.0| (1,[0],[1.0])|         0.0|  (1,[0],[1.0])|            0.0|     (1,[0],[1.0])|              0.0|       (1,[0],[1.0])|               0.0|        (2,[0],[1.0])|                 0.0|          (2,[0],[1.0])|                1.0|         (2,[1],[1.0])|              0.0|       (2,[0],[1.0])|                  1.0|           (2,[1],[1.0])|             1.0|      (2,[1],[1.0])|             1.0|      (2,[1],[1.0])|                 1.0|          (2,[1],[1.0])|          0.0|   (2,[0],[1.0])|                  0.0|           (1,[0],[1.0])|               0.0|        (3,[0],[1.0])|           6073.0| (6529,[6073],[1.0])|       0.0|(1,[0],[1.0])|(6559,[0,1,2,3,4,...|  0.0|\n",
      "|Female|            0|    Yes|       Yes|    69|         Yes|             Yes|    Fiber optic|                Yes|                Yes|                Yes|                Yes|                Yes|                Yes|      Two year|              No|Credit card (auto...|        113.25|     7895.15|   No|        1.0|     (1,[],[])|         1.0|      (1,[],[])|            1.0|         (1,[],[])|              0.0|       (1,[0],[1.0])|               1.0|        (2,[1],[1.0])|                 0.0|          (2,[0],[1.0])|                1.0|         (2,[1],[1.0])|              1.0|       (2,[1],[1.0])|                  1.0|           (2,[1],[1.0])|             1.0|      (2,[1],[1.0])|             1.0|      (2,[1],[1.0])|                 1.0|          (2,[1],[1.0])|          1.0|   (2,[1],[1.0])|                  1.0|               (1,[],[])|               3.0|            (3,[],[])|           3760.0| (6529,[3760],[1.0])|       0.0|(1,[0],[1.0])|(6559,[3,5,6,9,11...|  0.0|\n",
      "|Female|            0|     No|        No|    52|         Yes|              No|             No|No internet service|No internet service|No internet service|No internet service|No internet service|No internet service|      One year|              No|        Mailed check|         20.65|     1022.95|   No|        1.0|     (1,[],[])|         0.0|  (1,[0],[1.0])|            0.0|     (1,[0],[1.0])|              0.0|       (1,[0],[1.0])|               0.0|        (2,[0],[1.0])|                 2.0|              (2,[],[])|                2.0|             (2,[],[])|              2.0|           (2,[],[])|                  2.0|               (2,[],[])|             2.0|          (2,[],[])|             2.0|          (2,[],[])|                 2.0|              (2,[],[])|          2.0|       (2,[],[])|                  1.0|               (1,[],[])|               1.0|        (3,[1],[1.0])|           1100.0| (6529,[1100],[1.0])|       0.0|(1,[0],[1.0])|(6559,[1,2,3,4,24...|  0.0|\n",
      "|  Male|            0|     No|       Yes|    71|         Yes|             Yes|    Fiber optic|                Yes|                 No|                Yes|                 No|                Yes|                Yes|      Two year|              No|Bank transfer (au...|         106.7|     7382.25|   No|        0.0| (1,[0],[1.0])|         0.0|  (1,[0],[1.0])|            1.0|         (1,[],[])|              0.0|       (1,[0],[1.0])|               1.0|        (2,[1],[1.0])|                 0.0|          (2,[0],[1.0])|                1.0|         (2,[1],[1.0])|              0.0|       (2,[0],[1.0])|                  1.0|           (2,[1],[1.0])|             0.0|      (2,[0],[1.0])|             1.0|      (2,[1],[1.0])|                 1.0|          (2,[1],[1.0])|          1.0|   (2,[1],[1.0])|                  1.0|               (1,[],[])|               2.0|        (3,[2],[1.0])|           6313.0| (6529,[6313],[1.0])|       0.0|(1,[0],[1.0])|(6559,[0,1,3,5,6,...|  0.0|\n",
      "|Female|            0|    Yes|       Yes|    10|         Yes|              No|            DSL|                 No|                 No|                Yes|                Yes|                 No|                 No|Month-to-month|              No|Credit card (auto...|          55.2|      528.35|  Yes|        1.0|     (1,[],[])|         1.0|      (1,[],[])|            1.0|         (1,[],[])|              0.0|       (1,[0],[1.0])|               0.0|        (2,[0],[1.0])|                 1.0|          (2,[1],[1.0])|                0.0|         (2,[0],[1.0])|              0.0|       (2,[0],[1.0])|                  1.0|           (2,[1],[1.0])|             1.0|      (2,[1],[1.0])|             0.0|      (2,[0],[1.0])|                 0.0|          (2,[0],[1.0])|          0.0|   (2,[0],[1.0])|                  1.0|               (1,[],[])|               3.0|            (3,[],[])|           5301.0| (6529,[5301],[1.0])|       1.0|    (1,[],[])|(6559,[3,4,7,8,10...|  1.0|\n",
      "|Female|            0|     No|        No|    21|         Yes|              No|    Fiber optic|                 No|                Yes|                Yes|                 No|                 No|                Yes|Month-to-month|             Yes|    Electronic check|         90.05|      1862.9|   No|        1.0|     (1,[],[])|         0.0|  (1,[0],[1.0])|            0.0|     (1,[0],[1.0])|              0.0|       (1,[0],[1.0])|               0.0|        (2,[0],[1.0])|                 0.0|          (2,[0],[1.0])|                0.0|         (2,[0],[1.0])|              1.0|       (2,[1],[1.0])|                  1.0|           (2,[1],[1.0])|             0.0|      (2,[0],[1.0])|             0.0|      (2,[0],[1.0])|                 1.0|          (2,[1],[1.0])|          0.0|   (2,[0],[1.0])|                  0.0|           (1,[0],[1.0])|               0.0|        (3,[0],[1.0])|           3444.0| (6529,[3444],[1.0])|       0.0|(1,[0],[1.0])|(6559,[1,2,3,4,6,...|  0.0|\n",
      "+------+-------------+-------+----------+------+------------+----------------+---------------+-------------------+-------------------+-------------------+-------------------+-------------------+-------------------+--------------+----------------+--------------------+--------------+------------+-----+-----------+--------------+------------+---------------+---------------+------------------+-----------------+--------------------+------------------+---------------------+--------------------+-----------------------+-------------------+----------------------+-----------------+--------------------+---------------------+------------------------+----------------+-------------------+----------------+-------------------+--------------------+-----------------------+-------------+----------------+---------------------+------------------------+------------------+---------------------+-----------------+--------------------+----------+-------------+--------------------+-----+\n",
      "only showing top 20 rows\n",
      "\n"
     ]
    }
   ],
   "source": [
    "churn_df.show()"
   ]
  },
  {
   "cell_type": "code",
   "execution_count": 315,
   "id": "239462a8",
   "metadata": {},
   "outputs": [
    {
     "name": "stdout",
     "output_type": "stream",
     "text": [
      "+--------------+-------------+----------------+\n",
      "|      Contract|ContractIndex|ContractclassVec|\n",
      "+--------------+-------------+----------------+\n",
      "|Month-to-month|          0.0|   (2,[0],[1.0])|\n",
      "|      One year|          2.0|       (2,[],[])|\n",
      "|Month-to-month|          0.0|   (2,[0],[1.0])|\n",
      "|      One year|          2.0|       (2,[],[])|\n",
      "|Month-to-month|          0.0|   (2,[0],[1.0])|\n",
      "|Month-to-month|          0.0|   (2,[0],[1.0])|\n",
      "|Month-to-month|          0.0|   (2,[0],[1.0])|\n",
      "|Month-to-month|          0.0|   (2,[0],[1.0])|\n",
      "|Month-to-month|          0.0|   (2,[0],[1.0])|\n",
      "|      One year|          2.0|       (2,[],[])|\n",
      "|Month-to-month|          0.0|   (2,[0],[1.0])|\n",
      "|      Two year|          1.0|   (2,[1],[1.0])|\n",
      "|      One year|          2.0|       (2,[],[])|\n",
      "|Month-to-month|          0.0|   (2,[0],[1.0])|\n",
      "|Month-to-month|          0.0|   (2,[0],[1.0])|\n",
      "|      Two year|          1.0|   (2,[1],[1.0])|\n",
      "|      One year|          2.0|       (2,[],[])|\n",
      "|      Two year|          1.0|   (2,[1],[1.0])|\n",
      "|Month-to-month|          0.0|   (2,[0],[1.0])|\n",
      "|Month-to-month|          0.0|   (2,[0],[1.0])|\n",
      "+--------------+-------------+----------------+\n",
      "only showing top 20 rows\n",
      "\n"
     ]
    }
   ],
   "source": [
    "churn_df.select(['Contract', 'ContractIndex', 'ContractclassVec']).show()"
   ]
  },
  {
   "cell_type": "code",
   "execution_count": 316,
   "id": "7a983d07",
   "metadata": {},
   "outputs": [
    {
     "name": "stdout",
     "output_type": "stream",
     "text": [
      "+-----------------------------------------------------------------------------------------------------------------------------------------------------------------+-----+\n",
      "|features                                                                                                                                                         |label|\n",
      "+-----------------------------------------------------------------------------------------------------------------------------------------------------------------+-----+\n",
      "|(6559,[2,7,8,11,12,14,16,18,20,22,23,674,6556,6557,6558],[1.0,1.0,1.0,1.0,1.0,1.0,1.0,1.0,1.0,1.0,1.0,1.0,1.0,29.85,29.850000381469727])                         |0.0  |\n",
      "|(6559,[0,1,2,3,4,7,9,10,13,14,16,18,24,3345,6556,6557,6558],[1.0,1.0,1.0,1.0,1.0,1.0,1.0,1.0,1.0,1.0,1.0,1.0,1.0,1.0,34.0,56.95,1889.5])                         |0.0  |\n",
      "|(6559,[0,1,2,3,4,7,9,11,12,14,16,18,20,22,24,2250,6556,6557,6558],[1.0,1.0,1.0,1.0,1.0,1.0,1.0,1.0,1.0,1.0,1.0,1.0,1.0,1.0,1.0,1.0,2.0,53.85,108.1500015258789]) |1.0  |\n",
      "|(6559,[0,1,2,7,9,10,13,15,16,18,25,4969,6556,6557,6558],[1.0,1.0,1.0,1.0,1.0,1.0,1.0,1.0,1.0,1.0,1.0,1.0,45.0,42.3,1840.75])                                     |0.0  |\n",
      "|(6559,[1,2,3,4,6,8,10,12,14,16,18,20,22,23,4045,6556,6557,6558],[1.0,1.0,1.0,1.0,1.0,1.0,1.0,1.0,1.0,1.0,1.0,1.0,1.0,1.0,1.0,2.0,70.7,151.64999389648438])       |1.0  |\n",
      "|(6559,[1,2,3,5,6,8,10,13,14,17,19,20,22,23,1127,6556,6557,6558],[1.0,1.0,1.0,1.0,1.0,1.0,1.0,1.0,1.0,1.0,1.0,1.0,1.0,1.0,1.0,8.0,99.65,820.5])                   |1.0  |\n",
      "|(6559,[0,1,3,5,6,8,11,12,14,17,18,20,22,5763,6556,6557,6558],[1.0,1.0,1.0,1.0,1.0,1.0,1.0,1.0,1.0,1.0,1.0,1.0,1.0,1.0,22.0,89.1,1949.4000244140625])             |0.0  |\n",
      "|(6559,[1,2,7,9,10,12,14,16,18,20,24,1071,6556,6557,6558],[1.0,1.0,1.0,1.0,1.0,1.0,1.0,1.0,1.0,1.0,1.0,1.0,10.0,29.75,301.8999938964844])                         |0.0  |\n",
      "|(6559,[2,3,5,6,8,10,13,15,17,19,20,22,23,1986,6556,6557,6558],[1.0,1.0,1.0,1.0,1.0,1.0,1.0,1.0,1.0,1.0,1.0,1.0,1.0,1.0,28.0,104.8,3046.050048828125])            |1.0  |\n",
      "|(6559,[0,1,3,4,7,9,11,12,14,16,18,25,2183,6556,6557,6558],[1.0,1.0,1.0,1.0,1.0,1.0,1.0,1.0,1.0,1.0,1.0,1.0,1.0,62.0,56.15,3487.949951171875])                    |0.0  |\n",
      "|(6559,[0,3,4,7,9,10,12,14,16,18,20,22,24,5719,6556,6557,6558],[1.0,1.0,1.0,1.0,1.0,1.0,1.0,1.0,1.0,1.0,1.0,1.0,1.0,1.0,13.0,49.95,587.4500122070312])            |0.0  |\n",
      "|(6559,[0,1,2,3,4,21,5267,6556,6557,6558],[1.0,1.0,1.0,1.0,1.0,1.0,1.0,16.0,18.95,326.79998779296875])                                                            |0.0  |\n",
      "|(6559,[0,2,3,5,6,8,10,13,14,17,19,626,6556,6557,6558],[1.0,1.0,1.0,1.0,1.0,1.0,1.0,1.0,1.0,1.0,1.0,1.0,58.0,100.35,5681.10009765625])                            |0.0  |\n",
      "|(6559,[0,1,2,3,5,6,8,11,13,14,17,19,20,22,25,6163,6556,6557,6558],[1.0,1.0,1.0,1.0,1.0,1.0,1.0,1.0,1.0,1.0,1.0,1.0,1.0,1.0,1.0,1.0,49.0,103.7,5036.2998046875])  |1.0  |\n",
      "|(6559,[0,1,2,3,4,6,9,10,13,15,17,19,20,22,23,6099,6556,6557,6558],[1.0,1.0,1.0,1.0,1.0,1.0,1.0,1.0,1.0,1.0,1.0,1.0,1.0,1.0,1.0,1.0,25.0,105.5,2686.050048828125])|0.0  |\n",
      "|(6559,[3,5,6,9,11,13,15,17,19,21,3786,6556,6557,6558],[1.0,1.0,1.0,1.0,1.0,1.0,1.0,1.0,1.0,1.0,1.0,69.0,113.25,7895.14990234375])                                |0.0  |\n",
      "|(6559,[1,2,3,4,24,1126,6556,6557,6558],[1.0,1.0,1.0,1.0,1.0,1.0,52.0,20.65,1022.9500122070312])                                                                  |0.0  |\n",
      "|(6559,[0,1,3,5,6,9,10,13,14,17,19,21,25,6339,6556,6557,6558],[1.0,1.0,1.0,1.0,1.0,1.0,1.0,1.0,1.0,1.0,1.0,1.0,1.0,1.0,71.0,106.7,7382.25])                       |0.0  |\n",
      "|(6559,[3,4,7,8,10,13,15,16,18,20,5327,6556,6557,6558],[1.0,1.0,1.0,1.0,1.0,1.0,1.0,1.0,1.0,1.0,1.0,10.0,55.2,528.3499755859375])                                 |1.0  |\n",
      "|(6559,[1,2,3,4,6,8,11,13,14,16,19,20,22,23,3470,6556,6557,6558],[1.0,1.0,1.0,1.0,1.0,1.0,1.0,1.0,1.0,1.0,1.0,1.0,1.0,1.0,1.0,21.0,90.05,1862.9000244140625])     |0.0  |\n",
      "+-----------------------------------------------------------------------------------------------------------------------------------------------------------------+-----+\n",
      "only showing top 20 rows\n",
      "\n"
     ]
    }
   ],
   "source": [
    "churn_df1 = churn_df.select(['features', 'label'])\n",
    "churn_df1.show(truncate=False)"
   ]
  },
  {
   "cell_type": "markdown",
   "id": "4bcdf35f",
   "metadata": {},
   "source": [
    "#### split dataset into Train and Test"
   ]
  },
  {
   "cell_type": "code",
   "execution_count": 317,
   "id": "220207f9",
   "metadata": {},
   "outputs": [],
   "source": [
    "train, test = churn_df1.randomSplit([0.8, 0.2], seed = 2)"
   ]
  },
  {
   "cell_type": "code",
   "execution_count": 318,
   "id": "5ffa853d",
   "metadata": {},
   "outputs": [
    {
     "data": {
      "text/plain": [
       "DataFrame[features: vector, label: double]"
      ]
     },
     "execution_count": 318,
     "metadata": {},
     "output_type": "execute_result"
    }
   ],
   "source": [
    "train.select(['features', 'label'])"
   ]
  },
  {
   "cell_type": "code",
   "execution_count": 319,
   "id": "f88865dd",
   "metadata": {},
   "outputs": [],
   "source": [
    "#### Build Decision Tree ML Model"
   ]
  },
  {
   "cell_type": "code",
   "execution_count": 320,
   "id": "0f9dba31",
   "metadata": {},
   "outputs": [
    {
     "ename": "Py4JJavaError",
     "evalue": "An error occurred while calling o19808.fit.\n: org.apache.spark.SparkException: Job aborted due to stage failure: Task 0 in stage 489.0 failed 1 times, most recent failure: Lost task 0.0 in stage 489.0 (TID 1444, localhost, executor driver): org.apache.spark.SparkException: Failed to execute user defined function($anonfun$9: (string) => double)\n\tat org.apache.spark.sql.catalyst.expressions.GeneratedClass$GeneratedIteratorForCodegenStage1.sort_addToSorter_0$(Unknown Source)\n\tat org.apache.spark.sql.catalyst.expressions.GeneratedClass$GeneratedIteratorForCodegenStage1.processNext(Unknown Source)\n\tat org.apache.spark.sql.execution.BufferedRowIterator.hasNext(BufferedRowIterator.java:43)\n\tat org.apache.spark.sql.execution.WholeStageCodegenExec$$anonfun$13$$anon$1.hasNext(WholeStageCodegenExec.scala:636)\n\tat scala.collection.Iterator$$anon$11.hasNext(Iterator.scala:409)\n\tat scala.collection.Iterator$$anon$11.hasNext(Iterator.scala:409)\n\tat scala.collection.Iterator$$anon$11.hasNext(Iterator.scala:409)\n\tat scala.collection.Iterator$$anon$11.hasNext(Iterator.scala:409)\n\tat scala.collection.Iterator$$anon$10.hasNext(Iterator.scala:390)\n\tat scala.collection.Iterator$class.foreach(Iterator.scala:891)\n\tat scala.collection.AbstractIterator.foreach(Iterator.scala:1334)\n\tat scala.collection.generic.Growable$class.$plus$plus$eq(Growable.scala:59)\n\tat scala.collection.mutable.ArrayBuffer.$plus$plus$eq(ArrayBuffer.scala:104)\n\tat scala.collection.mutable.ArrayBuffer.$plus$plus$eq(ArrayBuffer.scala:48)\n\tat scala.collection.TraversableOnce$class.to(TraversableOnce.scala:310)\n\tat scala.collection.AbstractIterator.to(Iterator.scala:1334)\n\tat scala.collection.TraversableOnce$class.toBuffer(TraversableOnce.scala:302)\n\tat scala.collection.AbstractIterator.toBuffer(Iterator.scala:1334)\n\tat scala.collection.TraversableOnce$class.toArray(TraversableOnce.scala:289)\n\tat scala.collection.AbstractIterator.toArray(Iterator.scala:1334)\n\tat org.apache.spark.rdd.RDD$$anonfun$take$1$$anonfun$31.apply(RDD.scala:1409)\n\tat org.apache.spark.rdd.RDD$$anonfun$take$1$$anonfun$31.apply(RDD.scala:1409)\n\tat org.apache.spark.SparkContext$$anonfun$runJob$5.apply(SparkContext.scala:2107)\n\tat org.apache.spark.SparkContext$$anonfun$runJob$5.apply(SparkContext.scala:2107)\n\tat org.apache.spark.scheduler.ResultTask.runTask(ResultTask.scala:90)\n\tat org.apache.spark.scheduler.Task.run(Task.scala:123)\n\tat org.apache.spark.executor.Executor$TaskRunner$$anonfun$10.apply(Executor.scala:411)\n\tat org.apache.spark.util.Utils$.tryWithSafeFinally(Utils.scala:1360)\n\tat org.apache.spark.executor.Executor$TaskRunner.run(Executor.scala:417)\n\tat java.util.concurrent.ThreadPoolExecutor.runWorker(ThreadPoolExecutor.java:1142)\n\tat java.util.concurrent.ThreadPoolExecutor$Worker.run(ThreadPoolExecutor.java:617)\n\tat java.lang.Thread.run(Thread.java:745)\nCaused by: org.apache.spark.SparkException: StringIndexer encountered NULL value. To handle or skip NULLS, try setting StringIndexer.handleInvalid.\n\tat org.apache.spark.ml.feature.StringIndexerModel$$anonfun$9.apply(StringIndexer.scala:251)\n\tat org.apache.spark.ml.feature.StringIndexerModel$$anonfun$9.apply(StringIndexer.scala:246)\n\t... 32 more\n\nDriver stacktrace:\n\tat org.apache.spark.scheduler.DAGScheduler.org$apache$spark$scheduler$DAGScheduler$$failJobAndIndependentStages(DAGScheduler.scala:1925)\n\tat org.apache.spark.scheduler.DAGScheduler$$anonfun$abortStage$1.apply(DAGScheduler.scala:1913)\n\tat org.apache.spark.scheduler.DAGScheduler$$anonfun$abortStage$1.apply(DAGScheduler.scala:1912)\n\tat scala.collection.mutable.ResizableArray$class.foreach(ResizableArray.scala:59)\n\tat scala.collection.mutable.ArrayBuffer.foreach(ArrayBuffer.scala:48)\n\tat org.apache.spark.scheduler.DAGScheduler.abortStage(DAGScheduler.scala:1912)\n\tat org.apache.spark.scheduler.DAGScheduler$$anonfun$handleTaskSetFailed$1.apply(DAGScheduler.scala:948)\n\tat org.apache.spark.scheduler.DAGScheduler$$anonfun$handleTaskSetFailed$1.apply(DAGScheduler.scala:948)\n\tat scala.Option.foreach(Option.scala:257)\n\tat org.apache.spark.scheduler.DAGScheduler.handleTaskSetFailed(DAGScheduler.scala:948)\n\tat org.apache.spark.scheduler.DAGSchedulerEventProcessLoop.doOnReceive(DAGScheduler.scala:2146)\n\tat org.apache.spark.scheduler.DAGSchedulerEventProcessLoop.onReceive(DAGScheduler.scala:2095)\n\tat org.apache.spark.scheduler.DAGSchedulerEventProcessLoop.onReceive(DAGScheduler.scala:2084)\n\tat org.apache.spark.util.EventLoop$$anon$1.run(EventLoop.scala:49)\n\tat org.apache.spark.scheduler.DAGScheduler.runJob(DAGScheduler.scala:759)\n\tat org.apache.spark.SparkContext.runJob(SparkContext.scala:2067)\n\tat org.apache.spark.SparkContext.runJob(SparkContext.scala:2088)\n\tat org.apache.spark.SparkContext.runJob(SparkContext.scala:2107)\n\tat org.apache.spark.rdd.RDD$$anonfun$take$1.apply(RDD.scala:1409)\n\tat org.apache.spark.rdd.RDDOperationScope$.withScope(RDDOperationScope.scala:151)\n\tat org.apache.spark.rdd.RDDOperationScope$.withScope(RDDOperationScope.scala:112)\n\tat org.apache.spark.rdd.RDD.withScope(RDD.scala:385)\n\tat org.apache.spark.rdd.RDD.take(RDD.scala:1382)\n\tat org.apache.spark.ml.tree.impl.DecisionTreeMetadata$.buildMetadata(DecisionTreeMetadata.scala:112)\n\tat org.apache.spark.ml.tree.impl.RandomForest$.run(RandomForest.scala:106)\n\tat org.apache.spark.ml.classification.DecisionTreeClassifier$$anonfun$train$1.apply(DecisionTreeClassifier.scala:121)\n\tat org.apache.spark.ml.classification.DecisionTreeClassifier$$anonfun$train$1.apply(DecisionTreeClassifier.scala:101)\n\tat org.apache.spark.ml.util.Instrumentation$$anonfun$11.apply(Instrumentation.scala:185)\n\tat scala.util.Try$.apply(Try.scala:192)\n\tat org.apache.spark.ml.util.Instrumentation$.instrumented(Instrumentation.scala:185)\n\tat org.apache.spark.ml.classification.DecisionTreeClassifier.train(DecisionTreeClassifier.scala:101)\n\tat org.apache.spark.ml.classification.DecisionTreeClassifier.train(DecisionTreeClassifier.scala:46)\n\tat org.apache.spark.ml.Predictor.fit(Predictor.scala:118)\n\tat org.apache.spark.ml.Predictor.fit(Predictor.scala:82)\n\tat sun.reflect.NativeMethodAccessorImpl.invoke0(Native Method)\n\tat sun.reflect.NativeMethodAccessorImpl.invoke(NativeMethodAccessorImpl.java:62)\n\tat sun.reflect.DelegatingMethodAccessorImpl.invoke(DelegatingMethodAccessorImpl.java:43)\n\tat java.lang.reflect.Method.invoke(Method.java:498)\n\tat py4j.reflection.MethodInvoker.invoke(MethodInvoker.java:244)\n\tat py4j.reflection.ReflectionEngine.invoke(ReflectionEngine.java:357)\n\tat py4j.Gateway.invoke(Gateway.java:282)\n\tat py4j.commands.AbstractCommand.invokeMethod(AbstractCommand.java:132)\n\tat py4j.commands.CallCommand.execute(CallCommand.java:79)\n\tat py4j.GatewayConnection.run(GatewayConnection.java:238)\n\tat java.lang.Thread.run(Thread.java:745)\nCaused by: org.apache.spark.SparkException: Failed to execute user defined function($anonfun$9: (string) => double)\n\tat org.apache.spark.sql.catalyst.expressions.GeneratedClass$GeneratedIteratorForCodegenStage1.sort_addToSorter_0$(Unknown Source)\n\tat org.apache.spark.sql.catalyst.expressions.GeneratedClass$GeneratedIteratorForCodegenStage1.processNext(Unknown Source)\n\tat org.apache.spark.sql.execution.BufferedRowIterator.hasNext(BufferedRowIterator.java:43)\n\tat org.apache.spark.sql.execution.WholeStageCodegenExec$$anonfun$13$$anon$1.hasNext(WholeStageCodegenExec.scala:636)\n\tat scala.collection.Iterator$$anon$11.hasNext(Iterator.scala:409)\n\tat scala.collection.Iterator$$anon$11.hasNext(Iterator.scala:409)\n\tat scala.collection.Iterator$$anon$11.hasNext(Iterator.scala:409)\n\tat scala.collection.Iterator$$anon$11.hasNext(Iterator.scala:409)\n\tat scala.collection.Iterator$$anon$10.hasNext(Iterator.scala:390)\n\tat scala.collection.Iterator$class.foreach(Iterator.scala:891)\n\tat scala.collection.AbstractIterator.foreach(Iterator.scala:1334)\n\tat scala.collection.generic.Growable$class.$plus$plus$eq(Growable.scala:59)\n\tat scala.collection.mutable.ArrayBuffer.$plus$plus$eq(ArrayBuffer.scala:104)\n\tat scala.collection.mutable.ArrayBuffer.$plus$plus$eq(ArrayBuffer.scala:48)\n\tat scala.collection.TraversableOnce$class.to(TraversableOnce.scala:310)\n\tat scala.collection.AbstractIterator.to(Iterator.scala:1334)\n\tat scala.collection.TraversableOnce$class.toBuffer(TraversableOnce.scala:302)\n\tat scala.collection.AbstractIterator.toBuffer(Iterator.scala:1334)\n\tat scala.collection.TraversableOnce$class.toArray(TraversableOnce.scala:289)\n\tat scala.collection.AbstractIterator.toArray(Iterator.scala:1334)\n\tat org.apache.spark.rdd.RDD$$anonfun$take$1$$anonfun$31.apply(RDD.scala:1409)\n\tat org.apache.spark.rdd.RDD$$anonfun$take$1$$anonfun$31.apply(RDD.scala:1409)\n\tat org.apache.spark.SparkContext$$anonfun$runJob$5.apply(SparkContext.scala:2107)\n\tat org.apache.spark.SparkContext$$anonfun$runJob$5.apply(SparkContext.scala:2107)\n\tat org.apache.spark.scheduler.ResultTask.runTask(ResultTask.scala:90)\n\tat org.apache.spark.scheduler.Task.run(Task.scala:123)\n\tat org.apache.spark.executor.Executor$TaskRunner$$anonfun$10.apply(Executor.scala:411)\n\tat org.apache.spark.util.Utils$.tryWithSafeFinally(Utils.scala:1360)\n\tat org.apache.spark.executor.Executor$TaskRunner.run(Executor.scala:417)\n\tat java.util.concurrent.ThreadPoolExecutor.runWorker(ThreadPoolExecutor.java:1142)\n\tat java.util.concurrent.ThreadPoolExecutor$Worker.run(ThreadPoolExecutor.java:617)\n\t... 1 more\nCaused by: org.apache.spark.SparkException: StringIndexer encountered NULL value. To handle or skip NULLS, try setting StringIndexer.handleInvalid.\n\tat org.apache.spark.ml.feature.StringIndexerModel$$anonfun$9.apply(StringIndexer.scala:251)\n\tat org.apache.spark.ml.feature.StringIndexerModel$$anonfun$9.apply(StringIndexer.scala:246)\n\t... 32 more\n",
     "output_type": "error",
     "traceback": [
      "\u001b[0;31m---------------------------------------------------------------------------\u001b[0m",
      "\u001b[0;31mPy4JJavaError\u001b[0m                             Traceback (most recent call last)",
      "\u001b[0;32m<ipython-input-320-dfbe5522e0c3>\u001b[0m in \u001b[0;36m<module>\u001b[0;34m\u001b[0m\n\u001b[1;32m      2\u001b[0m \u001b[0;34m\u001b[0m\u001b[0m\n\u001b[1;32m      3\u001b[0m \u001b[0mtree\u001b[0m \u001b[0;34m=\u001b[0m \u001b[0mDecisionTreeClassifier\u001b[0m\u001b[0;34m(\u001b[0m\u001b[0mfeaturesCol\u001b[0m\u001b[0;34m=\u001b[0m\u001b[0;34m'features'\u001b[0m\u001b[0;34m,\u001b[0m \u001b[0mlabelCol\u001b[0m\u001b[0;34m=\u001b[0m\u001b[0;34m'label'\u001b[0m\u001b[0;34m)\u001b[0m\u001b[0;34m\u001b[0m\u001b[0;34m\u001b[0m\u001b[0m\n\u001b[0;32m----> 4\u001b[0;31m \u001b[0mdecision_model\u001b[0m \u001b[0;34m=\u001b[0m \u001b[0mtree\u001b[0m\u001b[0;34m.\u001b[0m\u001b[0mfit\u001b[0m\u001b[0;34m(\u001b[0m\u001b[0mtrain\u001b[0m\u001b[0;34m)\u001b[0m\u001b[0;34m\u001b[0m\u001b[0;34m\u001b[0m\u001b[0m\n\u001b[0m",
      "\u001b[0;32m/usr/local/spark/python/pyspark/ml/base.py\u001b[0m in \u001b[0;36mfit\u001b[0;34m(self, dataset, params)\u001b[0m\n\u001b[1;32m    130\u001b[0m                 \u001b[0;32mreturn\u001b[0m \u001b[0mself\u001b[0m\u001b[0;34m.\u001b[0m\u001b[0mcopy\u001b[0m\u001b[0;34m(\u001b[0m\u001b[0mparams\u001b[0m\u001b[0;34m)\u001b[0m\u001b[0;34m.\u001b[0m\u001b[0m_fit\u001b[0m\u001b[0;34m(\u001b[0m\u001b[0mdataset\u001b[0m\u001b[0;34m)\u001b[0m\u001b[0;34m\u001b[0m\u001b[0;34m\u001b[0m\u001b[0m\n\u001b[1;32m    131\u001b[0m             \u001b[0;32melse\u001b[0m\u001b[0;34m:\u001b[0m\u001b[0;34m\u001b[0m\u001b[0;34m\u001b[0m\u001b[0m\n\u001b[0;32m--> 132\u001b[0;31m                 \u001b[0;32mreturn\u001b[0m \u001b[0mself\u001b[0m\u001b[0;34m.\u001b[0m\u001b[0m_fit\u001b[0m\u001b[0;34m(\u001b[0m\u001b[0mdataset\u001b[0m\u001b[0;34m)\u001b[0m\u001b[0;34m\u001b[0m\u001b[0;34m\u001b[0m\u001b[0m\n\u001b[0m\u001b[1;32m    133\u001b[0m         \u001b[0;32melse\u001b[0m\u001b[0;34m:\u001b[0m\u001b[0;34m\u001b[0m\u001b[0;34m\u001b[0m\u001b[0m\n\u001b[1;32m    134\u001b[0m             raise ValueError(\"Params must be either a param map or a list/tuple of param maps, \"\n",
      "\u001b[0;32m/usr/local/spark/python/pyspark/ml/wrapper.py\u001b[0m in \u001b[0;36m_fit\u001b[0;34m(self, dataset)\u001b[0m\n\u001b[1;32m    293\u001b[0m \u001b[0;34m\u001b[0m\u001b[0m\n\u001b[1;32m    294\u001b[0m     \u001b[0;32mdef\u001b[0m \u001b[0m_fit\u001b[0m\u001b[0;34m(\u001b[0m\u001b[0mself\u001b[0m\u001b[0;34m,\u001b[0m \u001b[0mdataset\u001b[0m\u001b[0;34m)\u001b[0m\u001b[0;34m:\u001b[0m\u001b[0;34m\u001b[0m\u001b[0;34m\u001b[0m\u001b[0m\n\u001b[0;32m--> 295\u001b[0;31m         \u001b[0mjava_model\u001b[0m \u001b[0;34m=\u001b[0m \u001b[0mself\u001b[0m\u001b[0;34m.\u001b[0m\u001b[0m_fit_java\u001b[0m\u001b[0;34m(\u001b[0m\u001b[0mdataset\u001b[0m\u001b[0;34m)\u001b[0m\u001b[0;34m\u001b[0m\u001b[0;34m\u001b[0m\u001b[0m\n\u001b[0m\u001b[1;32m    296\u001b[0m         \u001b[0mmodel\u001b[0m \u001b[0;34m=\u001b[0m \u001b[0mself\u001b[0m\u001b[0;34m.\u001b[0m\u001b[0m_create_model\u001b[0m\u001b[0;34m(\u001b[0m\u001b[0mjava_model\u001b[0m\u001b[0;34m)\u001b[0m\u001b[0;34m\u001b[0m\u001b[0;34m\u001b[0m\u001b[0m\n\u001b[1;32m    297\u001b[0m         \u001b[0;32mreturn\u001b[0m \u001b[0mself\u001b[0m\u001b[0;34m.\u001b[0m\u001b[0m_copyValues\u001b[0m\u001b[0;34m(\u001b[0m\u001b[0mmodel\u001b[0m\u001b[0;34m)\u001b[0m\u001b[0;34m\u001b[0m\u001b[0;34m\u001b[0m\u001b[0m\n",
      "\u001b[0;32m/usr/local/spark/python/pyspark/ml/wrapper.py\u001b[0m in \u001b[0;36m_fit_java\u001b[0;34m(self, dataset)\u001b[0m\n\u001b[1;32m    290\u001b[0m         \"\"\"\n\u001b[1;32m    291\u001b[0m         \u001b[0mself\u001b[0m\u001b[0;34m.\u001b[0m\u001b[0m_transfer_params_to_java\u001b[0m\u001b[0;34m(\u001b[0m\u001b[0;34m)\u001b[0m\u001b[0;34m\u001b[0m\u001b[0;34m\u001b[0m\u001b[0m\n\u001b[0;32m--> 292\u001b[0;31m         \u001b[0;32mreturn\u001b[0m \u001b[0mself\u001b[0m\u001b[0;34m.\u001b[0m\u001b[0m_java_obj\u001b[0m\u001b[0;34m.\u001b[0m\u001b[0mfit\u001b[0m\u001b[0;34m(\u001b[0m\u001b[0mdataset\u001b[0m\u001b[0;34m.\u001b[0m\u001b[0m_jdf\u001b[0m\u001b[0;34m)\u001b[0m\u001b[0;34m\u001b[0m\u001b[0;34m\u001b[0m\u001b[0m\n\u001b[0m\u001b[1;32m    293\u001b[0m \u001b[0;34m\u001b[0m\u001b[0m\n\u001b[1;32m    294\u001b[0m     \u001b[0;32mdef\u001b[0m \u001b[0m_fit\u001b[0m\u001b[0;34m(\u001b[0m\u001b[0mself\u001b[0m\u001b[0;34m,\u001b[0m \u001b[0mdataset\u001b[0m\u001b[0;34m)\u001b[0m\u001b[0;34m:\u001b[0m\u001b[0;34m\u001b[0m\u001b[0;34m\u001b[0m\u001b[0m\n",
      "\u001b[0;32m/usr/local/spark/python/lib/py4j-0.10.7-src.zip/py4j/java_gateway.py\u001b[0m in \u001b[0;36m__call__\u001b[0;34m(self, *args)\u001b[0m\n\u001b[1;32m   1255\u001b[0m         \u001b[0manswer\u001b[0m \u001b[0;34m=\u001b[0m \u001b[0mself\u001b[0m\u001b[0;34m.\u001b[0m\u001b[0mgateway_client\u001b[0m\u001b[0;34m.\u001b[0m\u001b[0msend_command\u001b[0m\u001b[0;34m(\u001b[0m\u001b[0mcommand\u001b[0m\u001b[0;34m)\u001b[0m\u001b[0;34m\u001b[0m\u001b[0;34m\u001b[0m\u001b[0m\n\u001b[1;32m   1256\u001b[0m         return_value = get_return_value(\n\u001b[0;32m-> 1257\u001b[0;31m             answer, self.gateway_client, self.target_id, self.name)\n\u001b[0m\u001b[1;32m   1258\u001b[0m \u001b[0;34m\u001b[0m\u001b[0m\n\u001b[1;32m   1259\u001b[0m         \u001b[0;32mfor\u001b[0m \u001b[0mtemp_arg\u001b[0m \u001b[0;32min\u001b[0m \u001b[0mtemp_args\u001b[0m\u001b[0;34m:\u001b[0m\u001b[0;34m\u001b[0m\u001b[0;34m\u001b[0m\u001b[0m\n",
      "\u001b[0;32m/usr/local/spark/python/pyspark/sql/utils.py\u001b[0m in \u001b[0;36mdeco\u001b[0;34m(*a, **kw)\u001b[0m\n\u001b[1;32m     61\u001b[0m     \u001b[0;32mdef\u001b[0m \u001b[0mdeco\u001b[0m\u001b[0;34m(\u001b[0m\u001b[0;34m*\u001b[0m\u001b[0ma\u001b[0m\u001b[0;34m,\u001b[0m \u001b[0;34m**\u001b[0m\u001b[0mkw\u001b[0m\u001b[0;34m)\u001b[0m\u001b[0;34m:\u001b[0m\u001b[0;34m\u001b[0m\u001b[0;34m\u001b[0m\u001b[0m\n\u001b[1;32m     62\u001b[0m         \u001b[0;32mtry\u001b[0m\u001b[0;34m:\u001b[0m\u001b[0;34m\u001b[0m\u001b[0;34m\u001b[0m\u001b[0m\n\u001b[0;32m---> 63\u001b[0;31m             \u001b[0;32mreturn\u001b[0m \u001b[0mf\u001b[0m\u001b[0;34m(\u001b[0m\u001b[0;34m*\u001b[0m\u001b[0ma\u001b[0m\u001b[0;34m,\u001b[0m \u001b[0;34m**\u001b[0m\u001b[0mkw\u001b[0m\u001b[0;34m)\u001b[0m\u001b[0;34m\u001b[0m\u001b[0;34m\u001b[0m\u001b[0m\n\u001b[0m\u001b[1;32m     64\u001b[0m         \u001b[0;32mexcept\u001b[0m \u001b[0mpy4j\u001b[0m\u001b[0;34m.\u001b[0m\u001b[0mprotocol\u001b[0m\u001b[0;34m.\u001b[0m\u001b[0mPy4JJavaError\u001b[0m \u001b[0;32mas\u001b[0m \u001b[0me\u001b[0m\u001b[0;34m:\u001b[0m\u001b[0;34m\u001b[0m\u001b[0;34m\u001b[0m\u001b[0m\n\u001b[1;32m     65\u001b[0m             \u001b[0ms\u001b[0m \u001b[0;34m=\u001b[0m \u001b[0me\u001b[0m\u001b[0;34m.\u001b[0m\u001b[0mjava_exception\u001b[0m\u001b[0;34m.\u001b[0m\u001b[0mtoString\u001b[0m\u001b[0;34m(\u001b[0m\u001b[0;34m)\u001b[0m\u001b[0;34m\u001b[0m\u001b[0;34m\u001b[0m\u001b[0m\n",
      "\u001b[0;32m/usr/local/spark/python/lib/py4j-0.10.7-src.zip/py4j/protocol.py\u001b[0m in \u001b[0;36mget_return_value\u001b[0;34m(answer, gateway_client, target_id, name)\u001b[0m\n\u001b[1;32m    326\u001b[0m                 raise Py4JJavaError(\n\u001b[1;32m    327\u001b[0m                     \u001b[0;34m\"An error occurred while calling {0}{1}{2}.\\n\"\u001b[0m\u001b[0;34m.\u001b[0m\u001b[0;34m\u001b[0m\u001b[0;34m\u001b[0m\u001b[0m\n\u001b[0;32m--> 328\u001b[0;31m                     format(target_id, \".\", name), value)\n\u001b[0m\u001b[1;32m    329\u001b[0m             \u001b[0;32melse\u001b[0m\u001b[0;34m:\u001b[0m\u001b[0;34m\u001b[0m\u001b[0;34m\u001b[0m\u001b[0m\n\u001b[1;32m    330\u001b[0m                 raise Py4JError(\n",
      "\u001b[0;31mPy4JJavaError\u001b[0m: An error occurred while calling o19808.fit.\n: org.apache.spark.SparkException: Job aborted due to stage failure: Task 0 in stage 489.0 failed 1 times, most recent failure: Lost task 0.0 in stage 489.0 (TID 1444, localhost, executor driver): org.apache.spark.SparkException: Failed to execute user defined function($anonfun$9: (string) => double)\n\tat org.apache.spark.sql.catalyst.expressions.GeneratedClass$GeneratedIteratorForCodegenStage1.sort_addToSorter_0$(Unknown Source)\n\tat org.apache.spark.sql.catalyst.expressions.GeneratedClass$GeneratedIteratorForCodegenStage1.processNext(Unknown Source)\n\tat org.apache.spark.sql.execution.BufferedRowIterator.hasNext(BufferedRowIterator.java:43)\n\tat org.apache.spark.sql.execution.WholeStageCodegenExec$$anonfun$13$$anon$1.hasNext(WholeStageCodegenExec.scala:636)\n\tat scala.collection.Iterator$$anon$11.hasNext(Iterator.scala:409)\n\tat scala.collection.Iterator$$anon$11.hasNext(Iterator.scala:409)\n\tat scala.collection.Iterator$$anon$11.hasNext(Iterator.scala:409)\n\tat scala.collection.Iterator$$anon$11.hasNext(Iterator.scala:409)\n\tat scala.collection.Iterator$$anon$10.hasNext(Iterator.scala:390)\n\tat scala.collection.Iterator$class.foreach(Iterator.scala:891)\n\tat scala.collection.AbstractIterator.foreach(Iterator.scala:1334)\n\tat scala.collection.generic.Growable$class.$plus$plus$eq(Growable.scala:59)\n\tat scala.collection.mutable.ArrayBuffer.$plus$plus$eq(ArrayBuffer.scala:104)\n\tat scala.collection.mutable.ArrayBuffer.$plus$plus$eq(ArrayBuffer.scala:48)\n\tat scala.collection.TraversableOnce$class.to(TraversableOnce.scala:310)\n\tat scala.collection.AbstractIterator.to(Iterator.scala:1334)\n\tat scala.collection.TraversableOnce$class.toBuffer(TraversableOnce.scala:302)\n\tat scala.collection.AbstractIterator.toBuffer(Iterator.scala:1334)\n\tat scala.collection.TraversableOnce$class.toArray(TraversableOnce.scala:289)\n\tat scala.collection.AbstractIterator.toArray(Iterator.scala:1334)\n\tat org.apache.spark.rdd.RDD$$anonfun$take$1$$anonfun$31.apply(RDD.scala:1409)\n\tat org.apache.spark.rdd.RDD$$anonfun$take$1$$anonfun$31.apply(RDD.scala:1409)\n\tat org.apache.spark.SparkContext$$anonfun$runJob$5.apply(SparkContext.scala:2107)\n\tat org.apache.spark.SparkContext$$anonfun$runJob$5.apply(SparkContext.scala:2107)\n\tat org.apache.spark.scheduler.ResultTask.runTask(ResultTask.scala:90)\n\tat org.apache.spark.scheduler.Task.run(Task.scala:123)\n\tat org.apache.spark.executor.Executor$TaskRunner$$anonfun$10.apply(Executor.scala:411)\n\tat org.apache.spark.util.Utils$.tryWithSafeFinally(Utils.scala:1360)\n\tat org.apache.spark.executor.Executor$TaskRunner.run(Executor.scala:417)\n\tat java.util.concurrent.ThreadPoolExecutor.runWorker(ThreadPoolExecutor.java:1142)\n\tat java.util.concurrent.ThreadPoolExecutor$Worker.run(ThreadPoolExecutor.java:617)\n\tat java.lang.Thread.run(Thread.java:745)\nCaused by: org.apache.spark.SparkException: StringIndexer encountered NULL value. To handle or skip NULLS, try setting StringIndexer.handleInvalid.\n\tat org.apache.spark.ml.feature.StringIndexerModel$$anonfun$9.apply(StringIndexer.scala:251)\n\tat org.apache.spark.ml.feature.StringIndexerModel$$anonfun$9.apply(StringIndexer.scala:246)\n\t... 32 more\n\nDriver stacktrace:\n\tat org.apache.spark.scheduler.DAGScheduler.org$apache$spark$scheduler$DAGScheduler$$failJobAndIndependentStages(DAGScheduler.scala:1925)\n\tat org.apache.spark.scheduler.DAGScheduler$$anonfun$abortStage$1.apply(DAGScheduler.scala:1913)\n\tat org.apache.spark.scheduler.DAGScheduler$$anonfun$abortStage$1.apply(DAGScheduler.scala:1912)\n\tat scala.collection.mutable.ResizableArray$class.foreach(ResizableArray.scala:59)\n\tat scala.collection.mutable.ArrayBuffer.foreach(ArrayBuffer.scala:48)\n\tat org.apache.spark.scheduler.DAGScheduler.abortStage(DAGScheduler.scala:1912)\n\tat org.apache.spark.scheduler.DAGScheduler$$anonfun$handleTaskSetFailed$1.apply(DAGScheduler.scala:948)\n\tat org.apache.spark.scheduler.DAGScheduler$$anonfun$handleTaskSetFailed$1.apply(DAGScheduler.scala:948)\n\tat scala.Option.foreach(Option.scala:257)\n\tat org.apache.spark.scheduler.DAGScheduler.handleTaskSetFailed(DAGScheduler.scala:948)\n\tat org.apache.spark.scheduler.DAGSchedulerEventProcessLoop.doOnReceive(DAGScheduler.scala:2146)\n\tat org.apache.spark.scheduler.DAGSchedulerEventProcessLoop.onReceive(DAGScheduler.scala:2095)\n\tat org.apache.spark.scheduler.DAGSchedulerEventProcessLoop.onReceive(DAGScheduler.scala:2084)\n\tat org.apache.spark.util.EventLoop$$anon$1.run(EventLoop.scala:49)\n\tat org.apache.spark.scheduler.DAGScheduler.runJob(DAGScheduler.scala:759)\n\tat org.apache.spark.SparkContext.runJob(SparkContext.scala:2067)\n\tat org.apache.spark.SparkContext.runJob(SparkContext.scala:2088)\n\tat org.apache.spark.SparkContext.runJob(SparkContext.scala:2107)\n\tat org.apache.spark.rdd.RDD$$anonfun$take$1.apply(RDD.scala:1409)\n\tat org.apache.spark.rdd.RDDOperationScope$.withScope(RDDOperationScope.scala:151)\n\tat org.apache.spark.rdd.RDDOperationScope$.withScope(RDDOperationScope.scala:112)\n\tat org.apache.spark.rdd.RDD.withScope(RDD.scala:385)\n\tat org.apache.spark.rdd.RDD.take(RDD.scala:1382)\n\tat org.apache.spark.ml.tree.impl.DecisionTreeMetadata$.buildMetadata(DecisionTreeMetadata.scala:112)\n\tat org.apache.spark.ml.tree.impl.RandomForest$.run(RandomForest.scala:106)\n\tat org.apache.spark.ml.classification.DecisionTreeClassifier$$anonfun$train$1.apply(DecisionTreeClassifier.scala:121)\n\tat org.apache.spark.ml.classification.DecisionTreeClassifier$$anonfun$train$1.apply(DecisionTreeClassifier.scala:101)\n\tat org.apache.spark.ml.util.Instrumentation$$anonfun$11.apply(Instrumentation.scala:185)\n\tat scala.util.Try$.apply(Try.scala:192)\n\tat org.apache.spark.ml.util.Instrumentation$.instrumented(Instrumentation.scala:185)\n\tat org.apache.spark.ml.classification.DecisionTreeClassifier.train(DecisionTreeClassifier.scala:101)\n\tat org.apache.spark.ml.classification.DecisionTreeClassifier.train(DecisionTreeClassifier.scala:46)\n\tat org.apache.spark.ml.Predictor.fit(Predictor.scala:118)\n\tat org.apache.spark.ml.Predictor.fit(Predictor.scala:82)\n\tat sun.reflect.NativeMethodAccessorImpl.invoke0(Native Method)\n\tat sun.reflect.NativeMethodAccessorImpl.invoke(NativeMethodAccessorImpl.java:62)\n\tat sun.reflect.DelegatingMethodAccessorImpl.invoke(DelegatingMethodAccessorImpl.java:43)\n\tat java.lang.reflect.Method.invoke(Method.java:498)\n\tat py4j.reflection.MethodInvoker.invoke(MethodInvoker.java:244)\n\tat py4j.reflection.ReflectionEngine.invoke(ReflectionEngine.java:357)\n\tat py4j.Gateway.invoke(Gateway.java:282)\n\tat py4j.commands.AbstractCommand.invokeMethod(AbstractCommand.java:132)\n\tat py4j.commands.CallCommand.execute(CallCommand.java:79)\n\tat py4j.GatewayConnection.run(GatewayConnection.java:238)\n\tat java.lang.Thread.run(Thread.java:745)\nCaused by: org.apache.spark.SparkException: Failed to execute user defined function($anonfun$9: (string) => double)\n\tat org.apache.spark.sql.catalyst.expressions.GeneratedClass$GeneratedIteratorForCodegenStage1.sort_addToSorter_0$(Unknown Source)\n\tat org.apache.spark.sql.catalyst.expressions.GeneratedClass$GeneratedIteratorForCodegenStage1.processNext(Unknown Source)\n\tat org.apache.spark.sql.execution.BufferedRowIterator.hasNext(BufferedRowIterator.java:43)\n\tat org.apache.spark.sql.execution.WholeStageCodegenExec$$anonfun$13$$anon$1.hasNext(WholeStageCodegenExec.scala:636)\n\tat scala.collection.Iterator$$anon$11.hasNext(Iterator.scala:409)\n\tat scala.collection.Iterator$$anon$11.hasNext(Iterator.scala:409)\n\tat scala.collection.Iterator$$anon$11.hasNext(Iterator.scala:409)\n\tat scala.collection.Iterator$$anon$11.hasNext(Iterator.scala:409)\n\tat scala.collection.Iterator$$anon$10.hasNext(Iterator.scala:390)\n\tat scala.collection.Iterator$class.foreach(Iterator.scala:891)\n\tat scala.collection.AbstractIterator.foreach(Iterator.scala:1334)\n\tat scala.collection.generic.Growable$class.$plus$plus$eq(Growable.scala:59)\n\tat scala.collection.mutable.ArrayBuffer.$plus$plus$eq(ArrayBuffer.scala:104)\n\tat scala.collection.mutable.ArrayBuffer.$plus$plus$eq(ArrayBuffer.scala:48)\n\tat scala.collection.TraversableOnce$class.to(TraversableOnce.scala:310)\n\tat scala.collection.AbstractIterator.to(Iterator.scala:1334)\n\tat scala.collection.TraversableOnce$class.toBuffer(TraversableOnce.scala:302)\n\tat scala.collection.AbstractIterator.toBuffer(Iterator.scala:1334)\n\tat scala.collection.TraversableOnce$class.toArray(TraversableOnce.scala:289)\n\tat scala.collection.AbstractIterator.toArray(Iterator.scala:1334)\n\tat org.apache.spark.rdd.RDD$$anonfun$take$1$$anonfun$31.apply(RDD.scala:1409)\n\tat org.apache.spark.rdd.RDD$$anonfun$take$1$$anonfun$31.apply(RDD.scala:1409)\n\tat org.apache.spark.SparkContext$$anonfun$runJob$5.apply(SparkContext.scala:2107)\n\tat org.apache.spark.SparkContext$$anonfun$runJob$5.apply(SparkContext.scala:2107)\n\tat org.apache.spark.scheduler.ResultTask.runTask(ResultTask.scala:90)\n\tat org.apache.spark.scheduler.Task.run(Task.scala:123)\n\tat org.apache.spark.executor.Executor$TaskRunner$$anonfun$10.apply(Executor.scala:411)\n\tat org.apache.spark.util.Utils$.tryWithSafeFinally(Utils.scala:1360)\n\tat org.apache.spark.executor.Executor$TaskRunner.run(Executor.scala:417)\n\tat java.util.concurrent.ThreadPoolExecutor.runWorker(ThreadPoolExecutor.java:1142)\n\tat java.util.concurrent.ThreadPoolExecutor$Worker.run(ThreadPoolExecutor.java:617)\n\t... 1 more\nCaused by: org.apache.spark.SparkException: StringIndexer encountered NULL value. To handle or skip NULLS, try setting StringIndexer.handleInvalid.\n\tat org.apache.spark.ml.feature.StringIndexerModel$$anonfun$9.apply(StringIndexer.scala:251)\n\tat org.apache.spark.ml.feature.StringIndexerModel$$anonfun$9.apply(StringIndexer.scala:246)\n\t... 32 more\n"
     ]
    }
   ],
   "source": [
    "from pyspark.ml.classification import DecisionTreeClassifier, RandomForestClassifier\n",
    "\n",
    "tree = DecisionTreeClassifier(featuresCol='features', labelCol='label')\n",
    "decision_model = tree.fit(train)"
   ]
  },
  {
   "cell_type": "code",
   "execution_count": 160,
   "id": "e40f0ae8",
   "metadata": {},
   "outputs": [],
   "source": [
    "## Evaluate the model"
   ]
  },
  {
   "cell_type": "code",
   "execution_count": 187,
   "id": "e304cb51",
   "metadata": {},
   "outputs": [
    {
     "ename": "NameError",
     "evalue": "name 'decision_model' is not defined",
     "output_type": "error",
     "traceback": [
      "\u001b[0;31m---------------------------------------------------------------------------\u001b[0m",
      "\u001b[0;31mNameError\u001b[0m                                 Traceback (most recent call last)",
      "\u001b[0;32m<ipython-input-187-90fa0f5d1047>\u001b[0m in \u001b[0;36m<module>\u001b[0;34m\u001b[0m\n\u001b[0;32m----> 1\u001b[0;31m \u001b[0mpredictions\u001b[0m \u001b[0;34m=\u001b[0m \u001b[0mdecision_model\u001b[0m\u001b[0;34m.\u001b[0m\u001b[0mtransform\u001b[0m\u001b[0;34m(\u001b[0m\u001b[0mtest\u001b[0m\u001b[0;34m)\u001b[0m\u001b[0;34m\u001b[0m\u001b[0;34m\u001b[0m\u001b[0m\n\u001b[0m",
      "\u001b[0;31mNameError\u001b[0m: name 'decision_model' is not defined"
     ]
    }
   ],
   "source": [
    "predictions = decision_model.transform(test)"
   ]
  },
  {
   "cell_type": "code",
   "execution_count": null,
   "id": "efb4ca95",
   "metadata": {},
   "outputs": [],
   "source": [
    "predictions.select([])"
   ]
  }
 ],
 "metadata": {
  "kernelspec": {
   "display_name": "Python 3",
   "language": "python",
   "name": "python3"
  },
  "language_info": {
   "codemirror_mode": {
    "name": "ipython",
    "version": 3
   },
   "file_extension": ".py",
   "mimetype": "text/x-python",
   "name": "python",
   "nbconvert_exporter": "python",
   "pygments_lexer": "ipython3",
   "version": "3.6.9"
  }
 },
 "nbformat": 4,
 "nbformat_minor": 5
}
