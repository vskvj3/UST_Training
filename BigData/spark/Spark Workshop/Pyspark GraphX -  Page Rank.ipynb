{
 "cells": [
  {
   "cell_type": "code",
   "execution_count": 1,
   "id": "fba2f25d",
   "metadata": {},
   "outputs": [
    {
     "data": {
      "text/html": [
       "\n",
       "        <div>\n",
       "            <p><b>SparkContext</b></p>\n",
       "\n",
       "            <p><a href=\"http://10.0.2.15:4040\">Spark UI</a></p>\n",
       "\n",
       "            <dl>\n",
       "              <dt>Version</dt>\n",
       "                <dd><code>v2.4.8</code></dd>\n",
       "              <dt>Master</dt>\n",
       "                <dd><code>local[*]</code></dd>\n",
       "              <dt>AppName</dt>\n",
       "                <dd><code>PySparkShell</code></dd>\n",
       "            </dl>\n",
       "        </div>\n",
       "        "
      ],
      "text/plain": [
       "<SparkContext master=local[*] appName=PySparkShell>"
      ]
     },
     "execution_count": 1,
     "metadata": {},
     "output_type": "execute_result"
    }
   ],
   "source": [
    "sc"
   ]
  },
  {
   "cell_type": "code",
   "execution_count": 2,
   "id": "1fb5f49b",
   "metadata": {},
   "outputs": [
    {
     "data": {
      "text/html": [
       "\n",
       "            <div>\n",
       "                <p><b>SparkSession - hive</b></p>\n",
       "                \n",
       "        <div>\n",
       "            <p><b>SparkContext</b></p>\n",
       "\n",
       "            <p><a href=\"http://10.0.2.15:4040\">Spark UI</a></p>\n",
       "\n",
       "            <dl>\n",
       "              <dt>Version</dt>\n",
       "                <dd><code>v2.4.8</code></dd>\n",
       "              <dt>Master</dt>\n",
       "                <dd><code>local[*]</code></dd>\n",
       "              <dt>AppName</dt>\n",
       "                <dd><code>PySparkShell</code></dd>\n",
       "            </dl>\n",
       "        </div>\n",
       "        \n",
       "            </div>\n",
       "        "
      ],
      "text/plain": [
       "<pyspark.sql.session.SparkSession at 0x7f56a4bd34e0>"
      ]
     },
     "execution_count": 2,
     "metadata": {},
     "output_type": "execute_result"
    }
   ],
   "source": [
    "spark"
   ]
  },
  {
   "cell_type": "code",
   "execution_count": 3,
   "id": "574ae364",
   "metadata": {},
   "outputs": [],
   "source": [
    "from pyspark.sql.functions import *"
   ]
  },
  {
   "cell_type": "code",
   "execution_count": 4,
   "id": "a33020f1",
   "metadata": {
    "scrolled": true
   },
   "outputs": [
    {
     "name": "stdout",
     "output_type": "stream",
     "text": [
      "+-------+------------+------------+\n",
      "|user_id|   user_name|   full_name|\n",
      "+-------+------------+------------+\n",
      "|      1|amitmishra08| amit mishra|\n",
      "|      2|    sharon_1|sharon dcruz|\n",
      "|      3|   naveen007|naveen rajan|\n",
      "|      4|   allen_456|  allen bose|\n",
      "|      5|    siva2109|    siva rao|\n",
      "|      6| bhagya10200|      bhagya|\n",
      "|      7|  devika9091|   devika T.|\n",
      "|      8|   anonymous|          NA|\n",
      "+-------+------------+------------+\n",
      "\n"
     ]
    }
   ],
   "source": [
    "# load user data\n",
    "user_data = spark.read.csv('file:///home/hadoop/Downloads/users.txt', inferSchema=True, header=True)\n",
    "user_data.show()"
   ]
  },
  {
   "cell_type": "code",
   "execution_count": 5,
   "id": "df13925c",
   "metadata": {},
   "outputs": [
    {
     "name": "stdout",
     "output_type": "stream",
     "text": [
      "+-----------+-----------+\n",
      "|follower_id|followee_id|\n",
      "+-----------+-----------+\n",
      "|          1|          2|\n",
      "|          2|          3|\n",
      "|          2|          4|\n",
      "|          4|          2|\n",
      "|          3|          1|\n",
      "|          1|          4|\n",
      "|          4|          7|\n",
      "|          7|          8|\n",
      "|          1|          6|\n",
      "|          5|          6|\n",
      "|          6|          5|\n",
      "+-----------+-----------+\n",
      "\n"
     ]
    }
   ],
   "source": [
    "# load followers data\n",
    "follower_data = spark.read.csv('file:///home/hadoop/Downloads/followers.txt',\n",
    "                               inferSchema=True,\n",
    "                                header=True)\n",
    "follower_data.show()"
   ]
  },
  {
   "cell_type": "markdown",
   "id": "59becf8e",
   "metadata": {},
   "source": [
    "#### Set up spark for graph frames "
   ]
  },
  {
   "cell_type": "code",
   "execution_count": 6,
   "id": "4fabdf69",
   "metadata": {},
   "outputs": [
    {
     "name": "stdout",
     "output_type": "stream",
     "text": [
      "Defaulting to user installation because normal site-packages is not writeable\n",
      "Requirement already satisfied: graphframes in ./.local/lib/python3.6/site-packages (0.6)\n",
      "Requirement already satisfied: numpy in ./.local/lib/python3.6/site-packages (from graphframes) (1.19.5)\n",
      "Requirement already satisfied: nose in ./.local/lib/python3.6/site-packages (from graphframes) (1.3.7)\n"
     ]
    }
   ],
   "source": [
    "!pip install graphframes"
   ]
  },
  {
   "cell_type": "code",
   "execution_count": 7,
   "id": "115099ae",
   "metadata": {},
   "outputs": [],
   "source": [
    "from graphframes import GraphFrame"
   ]
  },
  {
   "cell_type": "code",
   "execution_count": 8,
   "id": "2205a97b",
   "metadata": {},
   "outputs": [
    {
     "name": "stdout",
     "output_type": "stream",
     "text": [
      "+---+------------+\n",
      "| id|   user_name|\n",
      "+---+------------+\n",
      "|  1|amitmishra08|\n",
      "|  2|    sharon_1|\n",
      "|  3|   naveen007|\n",
      "|  4|   allen_456|\n",
      "|  5|    siva2109|\n",
      "|  6| bhagya10200|\n",
      "|  7|  devika9091|\n",
      "|  8|   anonymous|\n",
      "+---+------------+\n",
      "\n"
     ]
    }
   ],
   "source": [
    "vertices = user_data.withColumnRenamed('user_id', 'id').select('id', 'user_name')\n",
    "vertices.show()"
   ]
  },
  {
   "cell_type": "code",
   "execution_count": 9,
   "id": "cec89a05",
   "metadata": {},
   "outputs": [
    {
     "name": "stdout",
     "output_type": "stream",
     "text": [
      "+---+---+\n",
      "|src|dst|\n",
      "+---+---+\n",
      "|  1|  2|\n",
      "|  2|  3|\n",
      "|  2|  4|\n",
      "|  4|  2|\n",
      "|  3|  1|\n",
      "|  1|  4|\n",
      "|  4|  7|\n",
      "|  7|  8|\n",
      "|  1|  6|\n",
      "|  5|  6|\n",
      "|  6|  5|\n",
      "+---+---+\n",
      "\n"
     ]
    }
   ],
   "source": [
    "edges = follower_data.withColumnRenamed('follower_id', 'src')\\\n",
    ".withColumnRenamed('followee_id', 'dst')\n",
    "\n",
    "edges.show()"
   ]
  },
  {
   "cell_type": "code",
   "execution_count": 11,
   "id": "26bd37e5",
   "metadata": {},
   "outputs": [],
   "source": [
    "# create a graphframe with vertices and edges\n",
    "graph = GraphFrame(vertices, edges)"
   ]
  },
  {
   "cell_type": "code",
   "execution_count": 20,
   "id": "d7dc4f87",
   "metadata": {},
   "outputs": [
    {
     "name": "stdout",
     "output_type": "stream",
     "text": [
      "+---+---+\n",
      "|src|dst|\n",
      "+---+---+\n",
      "|  1|  2|\n",
      "|  2|  3|\n",
      "|  2|  4|\n",
      "|  4|  2|\n",
      "|  3|  1|\n",
      "|  1|  4|\n",
      "|  4|  7|\n",
      "|  7|  8|\n",
      "|  1|  6|\n",
      "|  5|  6|\n",
      "|  6|  5|\n",
      "+---+---+\n",
      "\n"
     ]
    }
   ],
   "source": [
    "graph.edges.show()"
   ]
  },
  {
   "cell_type": "code",
   "execution_count": 21,
   "id": "a090eff4",
   "metadata": {},
   "outputs": [
    {
     "name": "stdout",
     "output_type": "stream",
     "text": [
      "+---+------------+\n",
      "| id|   user_name|\n",
      "+---+------------+\n",
      "|  1|amitmishra08|\n",
      "|  2|    sharon_1|\n",
      "|  3|   naveen007|\n",
      "|  4|   allen_456|\n",
      "|  5|    siva2109|\n",
      "|  6| bhagya10200|\n",
      "|  7|  devika9091|\n",
      "|  8|   anonymous|\n",
      "+---+------------+\n",
      "\n"
     ]
    }
   ],
   "source": [
    "graph.vertices.show()"
   ]
  },
  {
   "cell_type": "code",
   "execution_count": 15,
   "id": "5a1d9bc3",
   "metadata": {},
   "outputs": [],
   "source": [
    "# run pageRank algorithm from GraphX\n",
    "ranks = graph.pageRank(resetProbability=0.25, maxIter=20)"
   ]
  },
  {
   "cell_type": "code",
   "execution_count": 16,
   "id": "ef83bf66",
   "metadata": {},
   "outputs": [
    {
     "data": {
      "text/plain": [
       "GraphFrame(v:[id: int, user_name: string ... 1 more field], e:[src: int, dst: int ... 1 more field])"
      ]
     },
     "execution_count": 16,
     "metadata": {},
     "output_type": "execute_result"
    }
   ],
   "source": [
    "ranks"
   ]
  },
  {
   "cell_type": "code",
   "execution_count": 18,
   "id": "07f72625",
   "metadata": {
    "scrolled": true
   },
   "outputs": [
    {
     "name": "stdout",
     "output_type": "stream",
     "text": [
      "+---+------------+------------------+\n",
      "| id|   user_name|          pagerank|\n",
      "+---+------------+------------------+\n",
      "|  6| bhagya10200| 1.763895520679174|\n",
      "|  5|    siva2109|1.6489141795499844|\n",
      "|  4|   allen_456|0.8440441090101278|\n",
      "|  2|    sharon_1|0.8440441090101278|\n",
      "|  1|amitmishra08|0.8073449902828328|\n",
      "|  8|   anonymous|0.8073449902828328|\n",
      "|  3|   naveen007|  0.64220605059246|\n",
      "|  7|  devika9091|  0.64220605059246|\n",
      "+---+------------+------------------+\n",
      "\n"
     ]
    }
   ],
   "source": [
    "ranks.vertices.orderBy(ranks.vertices.pagerank.desc()).show()"
   ]
  },
  {
   "cell_type": "markdown",
   "id": "58f56bfd",
   "metadata": {},
   "source": [
    "#### create a network graph"
   ]
  },
  {
   "cell_type": "code",
   "execution_count": 31,
   "id": "b6e2b38b",
   "metadata": {
    "collapsed": true
   },
   "outputs": [
    {
     "name": "stdout",
     "output_type": "stream",
     "text": [
      "Defaulting to user installation because normal site-packages is not writeable\n",
      "Collecting networkx\n",
      "  Downloading networkx-2.5.1-py3-none-any.whl (1.6 MB)\n",
      "     |████████████████████████████████| 1.6 MB 2.6 MB/s            \n",
      "\u001b[?25hCollecting decorator<5,>=4.3\n",
      "  Downloading decorator-4.4.2-py2.py3-none-any.whl (9.2 kB)\n",
      "Installing collected packages: decorator, networkx\n",
      "  Attempting uninstall: decorator\n",
      "    Found existing installation: decorator 5.1.1\n",
      "    Uninstalling decorator-5.1.1:\n",
      "      Successfully uninstalled decorator-5.1.1\n",
      "Successfully installed decorator-4.4.2 networkx-2.5.1\n"
     ]
    }
   ],
   "source": [
    "!pip install networkx"
   ]
  },
  {
   "cell_type": "code",
   "execution_count": 33,
   "id": "bd41d06e",
   "metadata": {},
   "outputs": [],
   "source": [
    "import networkx as nx"
   ]
  },
  {
   "cell_type": "code",
   "execution_count": 43,
   "id": "fcfcd527",
   "metadata": {},
   "outputs": [],
   "source": [
    "nx_graph = nx.DiGraph()\n",
    "edges_df = edges.toPandas()\n",
    "for _, row in edges_df.iterrows():\n",
    "    nx_graph.add_edge(row['src'], row['dst'])"
   ]
  },
  {
   "cell_type": "code",
   "execution_count": 44,
   "id": "f51c4ab0",
   "metadata": {
    "scrolled": true
   },
   "outputs": [
    {
     "data": {
      "image/png": "[encoded data removed]",
      "text/plain": [
       "<Figure size 432x288 with 1 Axes>"
      ]
     },
     "metadata": {},
     "output_type": "display_data"
    }
   ],
   "source": [
    "import matplotlib.pyplot as plt\n",
    "\n",
    "pos = nx.spring_layout(nx_graph)\n",
    "\n",
    "nx.draw(nx_graph, \n",
    "        pos, \n",
    "        with_labels = True, \n",
    "        node_size = 2000, \n",
    "        node_color = 'skyblue', \n",
    "        font_size=16, \n",
    "        arrows=True)\n",
    "\n",
    "plt.show()"
   ]
  },
  {
   "cell_type": "code",
   "execution_count": null,
   "id": "417df035",
   "metadata": {},
   "outputs": [],
   "source": []
  },
  {
   "cell_type": "code",
   "execution_count": null,
   "id": "b0fe8a7c",
   "metadata": {},
   "outputs": [],
   "source": []
  }
 ],
 "metadata": {
  "kernelspec": {
   "display_name": "Python 3",
   "language": "python",
   "name": "python3"
  },
  "language_info": {
   "codemirror_mode": {
    "name": "ipython",
    "version": 3
   },
   "file_extension": ".py",
   "mimetype": "text/x-python",
   "name": "python",
   "nbconvert_exporter": "python",
   "pygments_lexer": "ipython3",
   "version": "3.6.9"
  }
 },
 "nbformat": 4,
 "nbformat_minor": 5
}
