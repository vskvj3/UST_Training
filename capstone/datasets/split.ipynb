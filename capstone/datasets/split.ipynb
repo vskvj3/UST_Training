{
 "cells": [
  {
   "cell_type": "code",
   "execution_count": 1,
   "metadata": {},
   "outputs": [],
   "source": [
    "import pandas as pd\n",
    "\n"
   ]
  },
  {
   "cell_type": "code",
   "execution_count": 2,
   "metadata": {},
   "outputs": [],
   "source": [
    "df = pd.read_csv('incident_event_log.csv')"
   ]
  },
  {
   "cell_type": "code",
   "execution_count": 3,
   "metadata": {},
   "outputs": [
    {
     "data": {
      "text/plain": [
       "Index(['number', 'incident_state', 'active', 'reassignment_count',\n",
       "       'reopen_count', 'sys_mod_count', 'made_sla', 'caller_id', 'opened_by',\n",
       "       'opened_at', 'sys_created_by', 'sys_created_at', 'sys_updated_by',\n",
       "       'sys_updated_at', 'contact_type', 'location', 'category', 'subcategory',\n",
       "       'u_symptom', 'cmdb_ci', 'impact', 'urgency', 'priority',\n",
       "       'assignment_group', 'assigned_to', 'knowledge',\n",
       "       'u_priority_confirmation', 'notify', 'problem_id', 'rfc', 'vendor',\n",
       "       'caused_by', 'closed_code', 'resolved_by', 'resolved_at', 'closed_at'],\n",
       "      dtype='object')"
      ]
     },
     "execution_count": 3,
     "metadata": {},
     "output_type": "execute_result"
    }
   ],
   "source": [
    "df.columns"
   ]
  },
  {
   "cell_type": "code",
   "execution_count": 9,
   "metadata": {},
   "outputs": [
    {
     "data": {
      "text/plain": [
       "number                     141712\n",
       "incident_state             141712\n",
       "active                     141712\n",
       "reassignment_count         141712\n",
       "reopen_count               141712\n",
       "sys_mod_count              141712\n",
       "made_sla                   141712\n",
       "caller_id                  141712\n",
       "opened_by                  141712\n",
       "opened_at                  141712\n",
       "sys_created_by             141712\n",
       "sys_created_at             141712\n",
       "sys_updated_by             141712\n",
       "sys_updated_at             141712\n",
       "contact_type               141712\n",
       "location                   141712\n",
       "category                   141712\n",
       "subcategory                141712\n",
       "u_symptom                  141712\n",
       "cmdb_ci                    141712\n",
       "impact                     141712\n",
       "urgency                    141712\n",
       "priority                   141712\n",
       "assignment_group           141712\n",
       "assigned_to                141712\n",
       "knowledge                  141712\n",
       "u_priority_confirmation    141712\n",
       "notify                     141712\n",
       "problem_id                 141712\n",
       "rfc                        141712\n",
       "vendor                     141712\n",
       "caused_by                  141712\n",
       "closed_code                141712\n",
       "resolved_by                141712\n",
       "resolved_at                141712\n",
       "closed_at                  141712\n",
       "dtype: int64"
      ]
     },
     "execution_count": 9,
     "metadata": {},
     "output_type": "execute_result"
    }
   ],
   "source": [
    "df.count()"
   ]
  },
  {
   "cell_type": "code",
   "execution_count": 20,
   "metadata": {},
   "outputs": [],
   "source": [
    "for column_name in df.columns:\n",
    "    if df[column_name].is_unique:\n",
    "        print(column_name)"
   ]
  },
  {
   "cell_type": "markdown",
   "metadata": {},
   "source": [
    "we canno split the data by columns because none of the rows have unique values. try to conditional split by columns"
   ]
  },
  {
   "cell_type": "code",
   "execution_count": 21,
   "metadata": {},
   "outputs": [
    {
     "data": {
      "text/plain": [
       "False"
      ]
     },
     "execution_count": 21,
     "metadata": {},
     "output_type": "execute_result"
    }
   ],
   "source": [
    "df.duplicated().any()"
   ]
  },
  {
   "cell_type": "code",
   "execution_count": 22,
   "metadata": {},
   "outputs": [
    {
     "data": {
      "text/plain": [
       "number                     24918\n",
       "incident_state                 9\n",
       "active                         2\n",
       "reassignment_count            28\n",
       "reopen_count                   9\n",
       "sys_mod_count                115\n",
       "made_sla                       2\n",
       "caller_id                   5245\n",
       "opened_by                    208\n",
       "opened_at                  19849\n",
       "sys_created_by               186\n",
       "sys_created_at             11553\n",
       "sys_updated_by               846\n",
       "sys_updated_at             50664\n",
       "contact_type                   5\n",
       "location                     225\n",
       "category                      59\n",
       "subcategory                  255\n",
       "u_symptom                    526\n",
       "cmdb_ci                       51\n",
       "impact                         3\n",
       "urgency                        3\n",
       "priority                       4\n",
       "assignment_group              79\n",
       "assigned_to                  235\n",
       "knowledge                      2\n",
       "u_priority_confirmation        2\n",
       "notify                         2\n",
       "problem_id                   253\n",
       "rfc                          182\n",
       "vendor                         5\n",
       "caused_by                      4\n",
       "closed_code                   18\n",
       "resolved_by                  217\n",
       "resolved_at                18506\n",
       "closed_at                   2707\n",
       "dtype: int64"
      ]
     },
     "execution_count": 22,
     "metadata": {},
     "output_type": "execute_result"
    }
   ],
   "source": [
    "df.nunique()"
   ]
  },
  {
   "cell_type": "code",
   "execution_count": 19,
   "metadata": {},
   "outputs": [
    {
     "data": {
      "text/plain": [
       "array(['2 - Medium', '3 - Low', '1 - High'], dtype=object)"
      ]
     },
     "execution_count": 19,
     "metadata": {},
     "output_type": "execute_result"
    }
   ],
   "source": [
    "df['urgency'].unique()"
   ]
  },
  {
   "cell_type": "code",
   "execution_count": 23,
   "metadata": {},
   "outputs": [
    {
     "name": "stdout",
     "output_type": "stream",
     "text": [
      "Saved subset for urgency '2 - Medium' as a CSV file.\n",
      "Saved subset for urgency '3 - Low' as a CSV file.\n",
      "Saved subset for urgency '1 - High' as a CSV file.\n"
     ]
    }
   ],
   "source": [
    "df = pd.read_csv('incident_event_log.csv')\n",
    "\n",
    "# Split the data based on urgency values\n",
    "urgency_levels = df['urgency'].unique()\n",
    "\n",
    "# Create separate datasets based on the urgency level\n",
    "for urgency in urgency_levels:\n",
    "    # Create a subset of the data where urgency matches the current urgency level\n",
    "    subset_df = df[df['urgency'] == urgency]\n",
    "    \n",
    "    # Save the subset into a CSV file\n",
    "    subset_df.to_csv(f\"data_{urgency.replace(' ', '_').replace('-', '').lower()}.csv\", index=False)\n",
    "    print(f\"data_{urgency.replace(' ', '_').replace('-', '').lower()}.csv\")\n"
   ]
  },
  {
   "cell_type": "code",
   "execution_count": null,
   "metadata": {},
   "outputs": [],
   "source": [
    "df = pd.read_csv('incident_event_log.csv')\n"
   ]
  }
 ],
 "metadata": {
  "kernelspec": {
   "display_name": "Python 3",
   "language": "python",
   "name": "python3"
  },
  "language_info": {
   "codemirror_mode": {
    "name": "ipython",
    "version": 3
   },
   "file_extension": ".py",
   "mimetype": "text/x-python",
   "name": "python",
   "nbconvert_exporter": "python",
   "pygments_lexer": "ipython3",
   "version": "3.12.3"
  }
 },
 "nbformat": 4,
 "nbformat_minor": 2
}
