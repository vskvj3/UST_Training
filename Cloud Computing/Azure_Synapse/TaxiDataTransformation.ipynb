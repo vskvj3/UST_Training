{
  "nbformat": 4,
  "nbformat_minor": 2,
  "metadata": {
    "language_info": {
      "name": "python"
    },
    "kernelspec": {
      "name": "synapse_pyspark",
      "display_name": "python"
    },
    "description": null,
    "save_output": true,
    "synapse_widget": {
      "version": "0.1",
      "state": {}
    }
  },
  "cells": [
    {
      "cell_type": "code",
      "execution_count": 13,
      "outputs": [
        {
          "output_type": "display_data",
          "data": {
            "application/vnd.livy.statement-meta+json": {
              "spark_pool": "spark",
              "statement_id": 3,
              "statement_ids": [
                3
              ],
              "state": "finished",
              "livy_statement_state": "available",
              "spark_jobs": null,
              "session_id": "2",
              "normalized_state": "finished",
              "queued_time": "2024-09-19T11:34:05.599729Z",
              "session_start_time": null,
              "execution_start_time": "2024-09-19T11:34:05.7868444Z",
              "execution_finish_time": "2024-09-19T11:34:31.2277242Z",
              "parent_msg_id": "d96785fc-b9bc-4217-9e36-ee00306055a9"
            },
            "text/plain": "StatementMeta(spark, 2, 3, Finished, Available, Finished)"
          },
          "metadata": {}
        },
        {
          "output_type": "stream",
          "name": "stdout",
          "text": [
            "+--------+--------------------+---------------------+------------------+----------+------------+------------+---------------+-------------+-----------+-----+-------+----------+------------+---------+---------------------+------------+------------+---------+--------------------+\n|VendorID|lpep_pickup_datetime|lpep_dropoff_datetime|store_and_fwd_flag|RatecodeID|PULocationID|DOLocationID|passenger_count|trip_distance|fare_amount|extra|mta_tax|tip_amount|tolls_amount|ehail_fee|improvement_surcharge|total_amount|payment_type|trip_type|congestion_surcharge|\n+--------+--------------------+---------------------+------------------+----------+------------+------------+---------------+-------------+-----------+-----+-------+----------+------------+---------+---------------------+------------+------------+---------+--------------------+\n|       2|01/01/2021 12:15:...| 01/01/2021 12:19:...|                 N|         1|          43|         151|              1|         1.01|        5.5|  0.5|    0.5|       0.0|         0.0|     null|                  0.3|         6.8|           2|        1|                 0.0|\n|       2|01/01/2021 12:25:...| 01/01/2021 12:34:...|                 N|         1|         166|         239|              1|         2.53|       10.0|  0.5|    0.5|      2.81|         0.0|     null|                  0.3|       16.86|           1|        1|                2.75|\n|       2|01/01/2021 12:45:...| 01/01/2021 12:51:...|                 N|         1|          41|          42|              1|         1.12|        6.0|  0.5|    0.5|       1.0|         0.0|     null|                  0.3|         8.3|           1|        1|                 0.0|\n|       2|12/31/2020 11:57:...| 01/01/2021 12:04:...|                 N|         1|         168|          75|              1|         1.99|        8.0|  0.5|    0.5|       0.0|         0.0|     null|                  0.3|         9.3|           2|        1|                 0.0|\n|       2|01/01/2021 12:16:...| 01/01/2021 12:16:...|                 N|         2|         265|         265|              3|          0.0|      -52.0|  0.0|   -0.5|       0.0|         0.0|     null|                 -0.3|       -52.8|           3|        1|                 0.0|\n|       2|01/01/2021 12:16:...| 01/01/2021 12:16:...|                 N|         2|         265|         265|              3|          0.0|       52.0|  0.0|    0.5|       0.0|         0.0|     null|                  0.3|        52.8|           2|        1|                 0.0|\n|       2|01/01/2021 12:19:...| 01/01/2021 12:19:...|                 N|         5|         265|         265|              1|          0.0|      180.0|  0.0|    0.0|     36.06|         0.0|     null|                  0.3|      216.36|           1|        2|                 0.0|\n|       2|01/01/2021 12:26:...| 01/01/2021 12:28:...|                 N|         1|          75|          75|              6|         0.45|        3.5|  0.5|    0.5|      0.96|         0.0|     null|                  0.3|        5.76|           1|        1|                 0.0|\n|       2|01/01/2021 12:57:...| 01/01/2021 12:57:...|                 N|         1|         225|         225|              1|          0.0|        2.5|  0.5|    0.5|       0.0|         0.0|     null|                  0.3|         3.8|           2|        1|                 0.0|\n|       2|01/01/2021 12:58:...| 01/01/2021 01:32:...|                 N|         1|         225|         265|              1|        12.19|       38.0|  0.5|    0.5|      2.75|         0.0|     null|                  0.3|       42.05|           1|        1|                 0.0|\n|       2|01/01/2021 12:31:...| 01/01/2021 12:55:...|                 N|         1|         244|         244|              2|         3.39|       18.0|  0.5|    0.5|       0.0|         0.0|     null|                  0.3|        19.3|           2|        1|                 0.0|\n|       2|01/01/2021 12:08:...| 01/01/2021 12:21:...|                 N|         1|          75|         213|              1|         6.69|       19.5|  0.5|    0.5|       0.0|         0.0|     null|                  0.3|        20.8|           2|        1|                 0.0|\n|       2|01/01/2021 12:35:...| 01/01/2021 12:44:...|                 N|         1|          74|         238|              1|         2.34|       10.0|  0.5|    0.5|       0.0|         0.0|     null|                  0.3|       14.05|           1|        1|                2.75|\n|       2|01/01/2021 12:39:...| 01/01/2021 12:55:...|                 N|         1|          74|          60|              1|         5.48|       18.0|  0.5|    0.5|       0.0|         0.0|     null|                  0.3|        19.3|           2|        1|                 0.0|\n|       1|01/01/2021 12:51:...| 01/01/2021 12:57:...|                 N|         1|          42|          41|              2|          0.9|        6.0|  0.5|    0.5|       0.0|         0.0|     null|                  0.3|         7.3|           1|        1|                 0.0|\n|       2|01/01/2021 12:29:...| 01/01/2021 12:29:...|                 N|         5|          42|         264|              1|          0.0|       10.0|  0.0|    0.0|      2.06|         0.0|     null|                  0.3|       12.36|           1|        2|                 0.0|\n|       2|01/01/2021 12:32:...| 01/01/2021 12:42:...|                 N|         1|          74|         116|              1|         2.08|        9.5|  0.5|    0.5|      2.16|         0.0|     null|                  0.3|       12.96|           1|        1|                 0.0|\n|       2|01/01/2021 12:49:...| 01/01/2021 01:05:...|                 N|         1|         116|         143|              1|         4.64|       16.5|  0.5|    0.5|      5.14|         0.0|     null|                  0.3|       25.69|           1|        1|                2.75|\n|       2|01/01/2021 12:07:...| 01/01/2021 12:12:...|                 N|         1|          75|          42|              1|         1.68|        6.5|  0.5|    0.5|       0.0|         0.0|     null|                  0.3|         7.8|           2|        1|                 0.0|\n|       2|01/01/2021 12:25:...| 01/01/2021 12:28:...|                 N|         1|          74|          75|              1|         0.68|        4.0|  0.5|    0.5|       0.0|         0.0|     null|                  0.3|         5.3|           2|        1|                 0.0|\n+--------+--------------------+---------------------+------------------+----------+------------+------------+---------------+-------------+-----------+-----+-------+----------+------------+---------+---------------------+------------+------------+---------+--------------------+\nonly showing top 20 rows\n\n"
          ]
        }
      ],
      "metadata": {},
      "source": [
        "from pyspark.sql import SparkSession\r\n",
        "from pyspark.sql.types import *\r\n",
        "from pyspark.sql.functions import *\r\n",
        "from datetime import datetime\r\n",
        "\r\n",
        "greentaxiDF = spark.read.load(\r\n",
        "    \"abfss://employeefs285@datalakefs285.dfs.core.windows.net/GreenTaxiData/2021_Green_Taxi_Trip_Data.csv\",\r\n",
        "    format='csv',\r\n",
        "    inferSchema=True,\r\n",
        "    header=True\r\n",
        ")\r\n",
        "\r\n",
        "display(greentaxiDF.show())"
      ]
    },
    {
      "cell_type": "code",
      "execution_count": 14,
      "outputs": [
        {
          "output_type": "display_data",
          "data": {
            "application/vnd.livy.statement-meta+json": {
              "spark_pool": "spark",
              "statement_id": 4,
              "statement_ids": [
                4
              ],
              "state": "finished",
              "livy_statement_state": "available",
              "spark_jobs": null,
              "session_id": "2",
              "normalized_state": "finished",
              "queued_time": "2024-09-19T11:34:05.6847326Z",
              "session_start_time": null,
              "execution_start_time": "2024-09-19T11:34:31.3797268Z",
              "execution_finish_time": "2024-09-19T11:34:31.5505461Z",
              "parent_msg_id": "184691dc-9b57-4872-bc98-b83b5e5cdc49"
            },
            "text/plain": "StatementMeta(spark, 2, 4, Finished, Available, Finished)"
          },
          "metadata": {}
        }
      ],
      "metadata": {
        "jupyter": {
          "source_hidden": false,
          "outputs_hidden": false
        },
        "nteract": {
          "transient": {
            "deleting": false
          }
        }
      },
      "source": [
        "greentaxiDF = greentaxiDF.where(col('passenger_count') > 0)\\\r\n",
        "    .filter(col('trip_distance') > 0.0)\\\r\n",
        "    .dropDuplicates()"
      ]
    },
    {
      "cell_type": "code",
      "execution_count": 15,
      "outputs": [
        {
          "output_type": "display_data",
          "data": {
            "application/vnd.livy.statement-meta+json": {
              "spark_pool": "spark",
              "statement_id": 5,
              "statement_ids": [
                5
              ],
              "state": "finished",
              "livy_statement_state": "available",
              "spark_jobs": null,
              "session_id": "2",
              "normalized_state": "finished",
              "queued_time": "2024-09-19T11:34:05.7869316Z",
              "session_start_time": null,
              "execution_start_time": "2024-09-19T11:34:31.7149785Z",
              "execution_finish_time": "2024-09-19T11:34:31.8781657Z",
              "parent_msg_id": "062daf4d-bdd8-40f9-9394-d5268c460701"
            },
            "text/plain": "StatementMeta(spark, 2, 5, Finished, Available, Finished)"
          },
          "metadata": {}
        },
        {
          "output_type": "stream",
          "name": "stdout",
          "text": [
            "root\n |-- VendorID: integer (nullable = true)\n |-- lpep_pickup_datetime: string (nullable = true)\n |-- lpep_dropoff_datetime: string (nullable = true)\n |-- store_and_fwd_flag: string (nullable = true)\n |-- RatecodeID: integer (nullable = true)\n |-- PULocationID: integer (nullable = true)\n |-- DOLocationID: integer (nullable = true)\n |-- passenger_count: integer (nullable = true)\n |-- trip_distance: double (nullable = true)\n |-- fare_amount: double (nullable = true)\n |-- extra: double (nullable = true)\n |-- mta_tax: double (nullable = true)\n |-- tip_amount: double (nullable = true)\n |-- tolls_amount: double (nullable = true)\n |-- ehail_fee: string (nullable = true)\n |-- improvement_surcharge: double (nullable = true)\n |-- total_amount: double (nullable = true)\n |-- payment_type: integer (nullable = true)\n |-- trip_type: integer (nullable = true)\n |-- congestion_surcharge: double (nullable = true)\n\n"
          ]
        }
      ],
      "metadata": {
        "jupyter": {
          "source_hidden": false,
          "outputs_hidden": false
        },
        "nteract": {
          "transient": {
            "deleting": false
          }
        }
      },
      "source": [
        "greentaxiDF.printSchema()"
      ]
    },
    {
      "cell_type": "code",
      "execution_count": 16,
      "outputs": [
        {
          "output_type": "display_data",
          "data": {
            "application/vnd.livy.statement-meta+json": {
              "spark_pool": "spark",
              "statement_id": 6,
              "statement_ids": [
                6
              ],
              "state": "finished",
              "livy_statement_state": "available",
              "spark_jobs": null,
              "session_id": "2",
              "normalized_state": "finished",
              "queued_time": "2024-09-19T11:34:05.8748955Z",
              "session_start_time": null,
              "execution_start_time": "2024-09-19T11:34:32.0382615Z",
              "execution_finish_time": "2024-09-19T11:34:32.205762Z",
              "parent_msg_id": "f23e2cd6-1d90-4ef6-99a1-39a986e9ee85"
            },
            "text/plain": "StatementMeta(spark, 2, 6, Finished, Available, Finished)"
          },
          "metadata": {}
        }
      ],
      "metadata": {
        "jupyter": {
          "source_hidden": false,
          "outputs_hidden": false
        },
        "nteract": {
          "transient": {
            "deleting": false
          }
        }
      },
      "source": [
        "spark.conf.set(\"spark.sql.session.timeZone\", \"UTC\")\r\n",
        "\r\n",
        "greentaxiDF = greentaxiDF.withColumn('lpep_pickup_datetime', \r\n",
        "    to_timestamp('lpep_pickup_datetime', \"MM/dd/yyyy hh:mm:ss a\"))\r\n",
        "\r\n",
        "greentaxiDF = greentaxiDF.withColumn('lpep_dropoff_datetime', \r\n",
        "    to_timestamp('lpep_dropoff_datetime', \"MM/dd/yyyy hh:mm:ss a\"))\r\n",
        ""
      ]
    },
    {
      "cell_type": "code",
      "execution_count": 17,
      "outputs": [
        {
          "output_type": "display_data",
          "data": {
            "application/vnd.livy.statement-meta+json": {
              "spark_pool": "spark",
              "statement_id": 7,
              "statement_ids": [
                7
              ],
              "state": "finished",
              "livy_statement_state": "available",
              "spark_jobs": null,
              "session_id": "2",
              "normalized_state": "finished",
              "queued_time": "2024-09-19T11:34:06.0091853Z",
              "session_start_time": null,
              "execution_start_time": "2024-09-19T11:34:32.3597117Z",
              "execution_finish_time": "2024-09-19T11:34:32.5198584Z",
              "parent_msg_id": "995699ef-494e-4ada-8957-28883e557311"
            },
            "text/plain": "StatementMeta(spark, 2, 7, Finished, Available, Finished)"
          },
          "metadata": {}
        },
        {
          "output_type": "stream",
          "name": "stdout",
          "text": [
            "root\n |-- VendorID: integer (nullable = true)\n |-- PassengerCount: integer (nullable = true)\n |-- TripDistance: double (nullable = true)\n |-- PickupTime: timestamp (nullable = true)\n |-- DropTime: timestamp (nullable = true)\n |-- PickupLocationId: integer (nullable = true)\n |-- DropLocationId: integer (nullable = true)\n |-- TotalAmount: double (nullable = true)\n |-- PaymentType: integer (nullable = true)\n |-- TripYear: integer (nullable = true)\n |-- TripMonth: integer (nullable = true)\n |-- TripDay: integer (nullable = true)\n |-- TripDurationinMinutes: long (nullable = true)\n |-- TripType: string (nullable = false)\n\n"
          ]
        }
      ],
      "metadata": {
        "jupyter": {
          "source_hidden": false,
          "outputs_hidden": false
        },
        "nteract": {
          "transient": {
            "deleting": false
          }
        }
      },
      "source": [
        "greentaxiDF1 = greentaxiDF.select(\r\n",
        "    col(\"VendorID\"),\r\n",
        "    col(\"passenger_count\").alias(\"PassengerCount\"),\r\n",
        "    col(\"trip_distance\").alias(\"TripDistance\"),\r\n",
        "    col(\"lpep_pickup_datetime\").alias(\"PickupTime\"),\r\n",
        "    col(\"lpep_dropoff_datetime\").alias(\"DropTime\"),\r\n",
        "    col('PULocationID').alias(\"PickupLocationId\"),\r\n",
        "    col('DOLocationID').alias(\"DropLocationId\"),\r\n",
        "    col('RatecodeID'),\r\n",
        "    col('total_amount').alias(\"TotalAmount\"),\r\n",
        "    col('payment_type').alias(\"PaymentType\"))\\\r\n",
        "    .withColumn(\"TripYear\", year(\"PickupTime\"))\\\r\n",
        "    .withColumn(\"TripMonth\", month(\"PickupTime\"))\\\r\n",
        "    .withColumn(\"TripDay\", dayofmonth(\"PickupTime\"))\\\r\n",
        "    .withColumn(\"TripDurationinMinutes\", round(unix_timestamp(col('DropTime')) - unix_timestamp(col('PickupTime'))))\\\r\n",
        "    .withColumn(\"TripType\", when(col(\"RatecodeID\") == 6,\"SharedTrip\").otherwise(\"SoloTrip\"))\\\r\n",
        "    .drop(\"RatecodeID\")\r\n",
        "\r\n",
        "greentaxiDF1.printSchema()"
      ]
    },
    {
      "cell_type": "code",
      "execution_count": 18,
      "outputs": [
        {
          "output_type": "display_data",
          "data": {
            "application/vnd.livy.statement-meta+json": {
              "spark_pool": "spark",
              "statement_id": 8,
              "statement_ids": [
                8
              ],
              "state": "finished",
              "livy_statement_state": "available",
              "spark_jobs": null,
              "session_id": "2",
              "normalized_state": "finished",
              "queued_time": "2024-09-19T11:34:06.1992182Z",
              "session_start_time": null,
              "execution_start_time": "2024-09-19T11:34:32.6638752Z",
              "execution_finish_time": "2024-09-19T11:35:10.0935285Z",
              "parent_msg_id": "af5ab5c9-a0eb-4fca-8bda-109d56756284"
            },
            "text/plain": "StatementMeta(spark, 2, 8, Finished, Available, Finished)"
          },
          "metadata": {}
        },
        {
          "output_type": "execute_result",
          "data": {
            "text/plain": "        VendorID  PassengerCount  TripDistance          PickupTime  \\\n0              2               1          1.44 2021-01-01 08:59:00   \n1              1               1          0.80 2021-01-01 11:56:17   \n2              2               2          1.10 2021-01-01 12:15:47   \n3              2               1          7.15 2021-01-01 15:46:21   \n4              2               1          1.77 2021-01-01 21:51:36   \n...          ...             ...           ...                 ...   \n621005         2               1          2.25 2021-12-31 17:30:04   \n621006         1               1          1.50 2021-12-31 19:45:01   \n621007         2               1          1.16 2021-12-31 20:43:03   \n621008         2               1          0.20 2021-12-31 22:43:13   \n621009         1               1          1.20 2021-12-31 23:42:30   \n\n                  DropTime  PickupLocationId  DropLocationId  TotalAmount  \\\n0      2021-01-01 09:04:13                74              75         8.76   \n1      2021-01-01 11:58:47                74              75         6.50   \n2      2021-01-01 12:23:19                 7             179         7.80   \n3      2021-01-01 16:25:28               130              61        29.30   \n4      2021-01-01 21:59:26                74             168         9.30   \n...                    ...               ...             ...          ...   \n621005 2021-12-31 17:42:01                41             168        14.76   \n621006 2021-12-31 19:51:45                43             151         9.35   \n621007 2021-12-31 20:51:26                75              74         8.30   \n621008 2021-12-31 22:44:24                41              41         4.30   \n621009 2021-12-31 23:48:56                95              95         9.35   \n\n        PaymentType  TripYear  TripMonth  TripDay  TripDurationinMinutes  \\\n0                 1      2021          1        1                    313   \n1                 1      2021          1        1                    150   \n2                 2      2021          1        1                    452   \n3                 1      2021          1        1                   2347   \n4                 1      2021          1        1                    470   \n...             ...       ...        ...      ...                    ...   \n621005            1      2021         12       31                    717   \n621006            1      2021         12       31                    404   \n621007            2      2021         12       31                    503   \n621008            2      2021         12       31                     71   \n621009            1      2021         12       31                    386   \n\n        TripType  \n0       SoloTrip  \n1       SoloTrip  \n2       SoloTrip  \n3       SoloTrip  \n4       SoloTrip  \n...          ...  \n621005  SoloTrip  \n621006  SoloTrip  \n621007  SoloTrip  \n621008  SoloTrip  \n621009  SoloTrip  \n\n[621010 rows x 14 columns]",
            "text/html": "<div>\n<style scoped>\n    .dataframe tbody tr th:only-of-type {\n        vertical-align: middle;\n    }\n\n    .dataframe tbody tr th {\n        vertical-align: top;\n    }\n\n    .dataframe thead th {\n        text-align: right;\n    }\n</style>\n<table border=\"1\" class=\"dataframe\">\n  <thead>\n    <tr style=\"text-align: right;\">\n      <th></th>\n      <th>VendorID</th>\n      <th>PassengerCount</th>\n      <th>TripDistance</th>\n      <th>PickupTime</th>\n      <th>DropTime</th>\n      <th>PickupLocationId</th>\n      <th>DropLocationId</th>\n      <th>TotalAmount</th>\n      <th>PaymentType</th>\n      <th>TripYear</th>\n      <th>TripMonth</th>\n      <th>TripDay</th>\n      <th>TripDurationinMinutes</th>\n      <th>TripType</th>\n    </tr>\n  </thead>\n  <tbody>\n    <tr>\n      <th>0</th>\n      <td>2</td>\n      <td>1</td>\n      <td>1.44</td>\n      <td>2021-01-01 08:59:00</td>\n      <td>2021-01-01 09:04:13</td>\n      <td>74</td>\n      <td>75</td>\n      <td>8.76</td>\n      <td>1</td>\n      <td>2021</td>\n      <td>1</td>\n      <td>1</td>\n      <td>313</td>\n      <td>SoloTrip</td>\n    </tr>\n    <tr>\n      <th>1</th>\n      <td>1</td>\n      <td>1</td>\n      <td>0.80</td>\n      <td>2021-01-01 11:56:17</td>\n      <td>2021-01-01 11:58:47</td>\n      <td>74</td>\n      <td>75</td>\n      <td>6.50</td>\n      <td>1</td>\n      <td>2021</td>\n      <td>1</td>\n      <td>1</td>\n      <td>150</td>\n      <td>SoloTrip</td>\n    </tr>\n    <tr>\n      <th>2</th>\n      <td>2</td>\n      <td>2</td>\n      <td>1.10</td>\n      <td>2021-01-01 12:15:47</td>\n      <td>2021-01-01 12:23:19</td>\n      <td>7</td>\n      <td>179</td>\n      <td>7.80</td>\n      <td>2</td>\n      <td>2021</td>\n      <td>1</td>\n      <td>1</td>\n      <td>452</td>\n      <td>SoloTrip</td>\n    </tr>\n    <tr>\n      <th>3</th>\n      <td>2</td>\n      <td>1</td>\n      <td>7.15</td>\n      <td>2021-01-01 15:46:21</td>\n      <td>2021-01-01 16:25:28</td>\n      <td>130</td>\n      <td>61</td>\n      <td>29.30</td>\n      <td>1</td>\n      <td>2021</td>\n      <td>1</td>\n      <td>1</td>\n      <td>2347</td>\n      <td>SoloTrip</td>\n    </tr>\n    <tr>\n      <th>4</th>\n      <td>2</td>\n      <td>1</td>\n      <td>1.77</td>\n      <td>2021-01-01 21:51:36</td>\n      <td>2021-01-01 21:59:26</td>\n      <td>74</td>\n      <td>168</td>\n      <td>9.30</td>\n      <td>1</td>\n      <td>2021</td>\n      <td>1</td>\n      <td>1</td>\n      <td>470</td>\n      <td>SoloTrip</td>\n    </tr>\n    <tr>\n      <th>...</th>\n      <td>...</td>\n      <td>...</td>\n      <td>...</td>\n      <td>...</td>\n      <td>...</td>\n      <td>...</td>\n      <td>...</td>\n      <td>...</td>\n      <td>...</td>\n      <td>...</td>\n      <td>...</td>\n      <td>...</td>\n      <td>...</td>\n      <td>...</td>\n    </tr>\n    <tr>\n      <th>621005</th>\n      <td>2</td>\n      <td>1</td>\n      <td>2.25</td>\n      <td>2021-12-31 17:30:04</td>\n      <td>2021-12-31 17:42:01</td>\n      <td>41</td>\n      <td>168</td>\n      <td>14.76</td>\n      <td>1</td>\n      <td>2021</td>\n      <td>12</td>\n      <td>31</td>\n      <td>717</td>\n      <td>SoloTrip</td>\n    </tr>\n    <tr>\n      <th>621006</th>\n      <td>1</td>\n      <td>1</td>\n      <td>1.50</td>\n      <td>2021-12-31 19:45:01</td>\n      <td>2021-12-31 19:51:45</td>\n      <td>43</td>\n      <td>151</td>\n      <td>9.35</td>\n      <td>1</td>\n      <td>2021</td>\n      <td>12</td>\n      <td>31</td>\n      <td>404</td>\n      <td>SoloTrip</td>\n    </tr>\n    <tr>\n      <th>621007</th>\n      <td>2</td>\n      <td>1</td>\n      <td>1.16</td>\n      <td>2021-12-31 20:43:03</td>\n      <td>2021-12-31 20:51:26</td>\n      <td>75</td>\n      <td>74</td>\n      <td>8.30</td>\n      <td>2</td>\n      <td>2021</td>\n      <td>12</td>\n      <td>31</td>\n      <td>503</td>\n      <td>SoloTrip</td>\n    </tr>\n    <tr>\n      <th>621008</th>\n      <td>2</td>\n      <td>1</td>\n      <td>0.20</td>\n      <td>2021-12-31 22:43:13</td>\n      <td>2021-12-31 22:44:24</td>\n      <td>41</td>\n      <td>41</td>\n      <td>4.30</td>\n      <td>2</td>\n      <td>2021</td>\n      <td>12</td>\n      <td>31</td>\n      <td>71</td>\n      <td>SoloTrip</td>\n    </tr>\n    <tr>\n      <th>621009</th>\n      <td>1</td>\n      <td>1</td>\n      <td>1.20</td>\n      <td>2021-12-31 23:42:30</td>\n      <td>2021-12-31 23:48:56</td>\n      <td>95</td>\n      <td>95</td>\n      <td>9.35</td>\n      <td>1</td>\n      <td>2021</td>\n      <td>12</td>\n      <td>31</td>\n      <td>386</td>\n      <td>SoloTrip</td>\n    </tr>\n  </tbody>\n</table>\n<p>621010 rows × 14 columns</p>\n</div>"
          },
          "execution_count": 17,
          "metadata": {}
        }
      ],
      "metadata": {
        "jupyter": {
          "source_hidden": false,
          "outputs_hidden": false
        },
        "nteract": {
          "transient": {
            "deleting": false
          }
        }
      },
      "source": [
        "greentaxiDF1.toPandas()"
      ]
    },
    {
      "cell_type": "code",
      "execution_count": 19,
      "outputs": [
        {
          "output_type": "display_data",
          "data": {
            "application/vnd.livy.statement-meta+json": {
              "spark_pool": "spark",
              "statement_id": 9,
              "statement_ids": [
                9
              ],
              "state": "finished",
              "livy_statement_state": "available",
              "spark_jobs": null,
              "session_id": "2",
              "normalized_state": "finished",
              "queued_time": "2024-09-19T11:34:06.3286322Z",
              "session_start_time": null,
              "execution_start_time": "2024-09-19T11:35:10.2697715Z",
              "execution_finish_time": "2024-09-19T11:35:27.0774563Z",
              "parent_msg_id": "00c9fc48-0306-42ab-848b-ff7e42b08ed9"
            },
            "text/plain": "StatementMeta(spark, 2, 9, Finished, Available, Finished)"
          },
          "metadata": {}
        }
      ],
      "metadata": {
        "jupyter": {
          "source_hidden": false,
          "outputs_hidden": false
        },
        "nteract": {
          "transient": {
            "deleting": false
          }
        }
      },
      "source": [
        "spark.sql(\"CREATE DATABASE IF NOT EXISTS NYCTAXIDB\")\r\n",
        "\r\n",
        "greentaxiDF1.repartition(4).write.mode(\"overwrite\").saveAsTable(\"NYCTAXIDB.greentaxitbl\")"
      ]
    },
    {
      "cell_type": "code",
      "execution_count": null,
      "outputs": [],
      "metadata": {
        "jupyter": {
          "source_hidden": false,
          "outputs_hidden": false
        },
        "nteract": {
          "transient": {
            "deleting": false
          }
        }
      },
      "source": []
    }
  ]
}